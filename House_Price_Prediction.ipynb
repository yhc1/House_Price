{
 "cells": [
  {
   "cell_type": "code",
   "execution_count": 1,
   "metadata": {},
   "outputs": [
    {
     "name": "stderr",
     "output_type": "stream",
     "text": [
      "/home/lafes/anaconda3/envs/tensorflow/lib/python3.5/site-packages/IPython/html.py:14: ShimWarning: The `IPython.html` package has been deprecated since IPython 4.0. You should import from `notebook` instead. `IPython.html.widgets` has moved to `ipywidgets`.\n",
      "  \"`IPython.html.widgets` has moved to `ipywidgets`.\", ShimWarning)\n"
     ]
    }
   ],
   "source": [
    "# -*- coding: utf-8 -*-\n",
    "\n",
    "# pandas\n",
    "import pandas as pd\n",
    "\n",
    "# numpy, matplotlb, seaborn\n",
    "import numpy as np\n",
    "import matplotlib.pyplot as plt\n",
    "import seaborn as sns\n",
    "sns.set_style('whitegrid')\n",
    "%matplotlib inline\n",
    "import scipy.stats as st"
   ]
  },
  {
   "cell_type": "code",
   "execution_count": 2,
   "metadata": {
    "collapsed": true
   },
   "outputs": [],
   "source": [
    "# Import Dataset\n",
    "train_df = pd.read_csv('data/train.csv')\n",
    "test_df = pd.read_csv('data/test.csv')\n",
    "\n",
    "df = train_df.append(test_df, ignore_index=True) # train = df[:1460], test = df[1460:]\n",
    "df = df.drop('Id', axis=1)"
   ]
  },
  {
   "cell_type": "markdown",
   "metadata": {},
   "source": [
    "## Baseline Model\n",
    "A baseline model against to our feature engineering results."
   ]
  },
  {
   "cell_type": "markdown",
   "metadata": {},
   "source": [
    "### Preprocess"
   ]
  },
  {
   "cell_type": "code",
   "execution_count": 3,
   "metadata": {
    "collapsed": true
   },
   "outputs": [],
   "source": [
    "def preScoreTest(df, seg=1460):\n",
    "    train = df[:seg]\n",
    "    test = df[seg:]\n",
    "    \n",
    "    train = pd.get_dummies(train)\n",
    "    train = train.fillna(train.median())\n",
    "    \n",
    "    test = pd.get_dummies(test)\n",
    "    test = test.fillna(test.median())\n",
    "    \n",
    "    common_cols = list(set(train.columns.tolist()) & set(test.columns.tolist()))\n",
    "    test = test[common_cols]\n",
    "    test = test.drop('SalePrice', axis=1)\n",
    "    train = train[common_cols]\n",
    "    \n",
    "    X_train = train.drop('SalePrice', axis=1)\n",
    "    y_train = train['SalePrice']\n",
    "    X_test = test\n",
    "    \n",
    "    return X_train, y_train, X_test"
   ]
  },
  {
   "cell_type": "code",
   "execution_count": 4,
   "metadata": {
    "collapsed": true
   },
   "outputs": [],
   "source": [
    "X_train, y_train, X_test = preScoreTest(df)"
   ]
  },
  {
   "cell_type": "markdown",
   "metadata": {},
   "source": [
    "### Modelling"
   ]
  },
  {
   "cell_type": "code",
   "execution_count": 5,
   "metadata": {
    "collapsed": true
   },
   "outputs": [],
   "source": [
    "from sklearn.ensemble import RandomForestRegressor\n",
    "from sklearn.model_selection import cross_val_score, KFold"
   ]
  },
  {
   "cell_type": "code",
   "execution_count": 6,
   "metadata": {
    "collapsed": true
   },
   "outputs": [],
   "source": [
    "def rmsle_cv(model, X_train, y_train):\n",
    "    kfold = KFold(n_splits=5, shuffle=True, random_state=1)\n",
    "    rmse= np.sqrt(-cross_val_score(model, X_train, y_train, scoring=\"neg_mean_squared_error\", cv = kfold))\n",
    "    return(rmse)"
   ]
  },
  {
   "cell_type": "code",
   "execution_count": 7,
   "metadata": {},
   "outputs": [
    {
     "name": "stdout",
     "output_type": "stream",
     "text": [
      "RMSE: 29308.30 (+/- 8526.12)\n"
     ]
    }
   ],
   "source": [
    "rfg = RandomForestRegressor(n_estimators=300, random_state=0, n_jobs=-1)\n",
    "scores = rmsle_cv(rfg, X_train, y_train)\n",
    "print(\"RMSE: %0.2f (+/- %0.2f)\" % (scores.mean(), scores.std() * 2))"
   ]
  },
  {
   "cell_type": "markdown",
   "metadata": {},
   "source": [
    "### Data Type Transformation\n",
    "* Numeric to Categoric  \n",
    "* Rank Fields to Numeric  "
   ]
  },
  {
   "cell_type": "code",
   "execution_count": 8,
   "metadata": {
    "collapsed": true
   },
   "outputs": [],
   "source": [
    "def typeTransfer(df):\n",
    "    df['MSSubClass'] = df['MSSubClass'].astype('object')\n",
    "    df.BsmtCond =  df.BsmtCond.map({'NA':0, 'Po':1, 'Fa':2, 'TA':3, 'Gd':4, 'Ex':5})\n",
    "    df.BsmtExposure = df.BsmtExposure.map({'NA':0, 'No':1, 'Mn':2, 'Av':3, 'Gd':4})\n",
    "    df.BsmtFinType1 = df.BsmtFinType1.map({'NA':0, 'Unf':1, 'LwQ':2, 'Rec':3, 'BLQ':4, 'ALQ':5, 'GLQ':6})\n",
    "    df.BsmtFinType2 = df.BsmtFinType2.map({'NA':0, 'Unf':1, 'LwQ':2, 'Rec':3, 'BLQ':4, 'ALQ':5, 'GLQ':6})\n",
    "    df.BsmtQual = df.BsmtQual.map({'NA':0, 'Po':1, 'Fa':2, 'TA':3, 'Gd':4, 'Ex':5})\n",
    "\n",
    "    df.ExterCond = df.ExterCond.map({'Po':1, 'Fa':2, 'TA':3, 'Gd':4, 'Ex':5})\n",
    "    df.ExterQual = df.ExterQual.map({'Po':1, 'Fa':2, 'TA':3, 'Gd':4, 'Ex':5})\n",
    "\n",
    "    df.FireplaceQu = df.FireplaceQu.map({'NA':0, 'Po':1, 'Fa':2, 'TA':3, 'Gd':4, 'Ex':5})\n",
    "\n",
    "    df.GarageCond = df.GarageCond.map({'NA':0, 'Po':1, 'Fa':2, 'TA':3, 'Gd':4, 'Ex':5})\n",
    "    df.GarageQual = df.GarageQual.map({'NA':0, 'Po':1, 'Fa':2, 'TA':3, 'Gd':4, 'Ex':5})\n",
    "\n",
    "    df.HeatingQC = df.HeatingQC.map({'Po':1, 'Fa':2, 'TA':3, 'Gd':4, 'Ex':5})\n",
    "    df.KitchenQual = df.KitchenQual.map({'Po':1, 'Fa':2, 'TA':3, 'Gd':4, 'Ex':5})\n",
    "    df.PoolQC = df.PoolQC.map({'NA':0, 'Fa':1, 'TA':2, 'Gd':3, 'Ex':4})\n",
    "    return df"
   ]
  },
  {
   "cell_type": "code",
   "execution_count": 9,
   "metadata": {
    "collapsed": true
   },
   "outputs": [],
   "source": [
    "df = typeTransfer(df)"
   ]
  },
  {
   "cell_type": "code",
   "execution_count": 10,
   "metadata": {},
   "outputs": [
    {
     "name": "stdout",
     "output_type": "stream",
     "text": [
      "RMSE: 29095.43 (+/- 8436.39)\n"
     ]
    }
   ],
   "source": [
    "X_train, y_train, test = preScoreTest(df)\n",
    "scores = rmsle_cv(rfg, X_train, y_train)\n",
    "print(\"RMSE: %0.2f (+/- %0.2f)\" % (scores.mean(), scores.std() * 2))"
   ]
  },
  {
   "cell_type": "markdown",
   "metadata": {},
   "source": [
    "### Imputation"
   ]
  },
  {
   "cell_type": "code",
   "execution_count": 11,
   "metadata": {},
   "outputs": [
    {
     "name": "stdout",
     "output_type": "stream",
     "text": [
      "              Missing   Percent\n",
      "PoolQC           2909  0.996574\n",
      "MiscFeature      2814  0.964029\n",
      "Alley            2721  0.932169\n",
      "Fence            2348  0.804385\n",
      "SalePrice        1459  0.499829\n",
      "FireplaceQu      1420  0.486468\n",
      "LotFrontage       486  0.166495\n",
      "GarageQual        159  0.054471\n",
      "GarageYrBlt       159  0.054471\n",
      "GarageFinish      159  0.054471\n",
      "GarageCond        159  0.054471\n",
      "GarageType        157  0.053786\n",
      "BsmtCond           82  0.028092\n",
      "BsmtExposure       82  0.028092\n",
      "BsmtQual           81  0.027749\n",
      "BsmtFinType2       80  0.027407\n",
      "BsmtFinType1       79  0.027064\n",
      "MasVnrType         24  0.008222\n",
      "MasVnrArea         23  0.007879\n",
      "MSZoning            4  0.001370\n",
      "BsmtHalfBath        2  0.000685\n",
      "Utilities           2  0.000685\n",
      "Functional          2  0.000685\n",
      "BsmtFullBath        2  0.000685\n",
      "Electrical          1  0.000343\n",
      "Exterior2nd         1  0.000343\n",
      "KitchenQual         1  0.000343\n",
      "GarageCars          1  0.000343\n",
      "Exterior1st         1  0.000343\n",
      "GarageArea          1  0.000343\n",
      "TotalBsmtSF         1  0.000343\n",
      "BsmtUnfSF           1  0.000343\n",
      "BsmtFinSF2          1  0.000343\n",
      "BsmtFinSF1          1  0.000343\n",
      "SaleType            1  0.000343\n"
     ]
    }
   ],
   "source": [
    "# Missing data in train set\n",
    "def missing_data(df):\n",
    "    missing = df.isnull().sum().sort_values(ascending=False)\n",
    "    percent = (df.isnull().sum() / df.isnull().count()).sort_values(ascending=False)\n",
    "    missing_data = pd.concat([missing, percent], axis=1, keys=['Missing', 'Percent'])\n",
    "    return missing_data\n",
    "missing = missing_data(df)\n",
    "print(missing.head(35))"
   ]
  },
  {
   "cell_type": "markdown",
   "metadata": {},
   "source": [
    "* PoolQC, MiscFeature, Alley, Fence, FireplaceQu, GarageX, BsmtX都是由於沒有(no Pool ,Miss Feature, Alley ...)，而非真的遺失因此填上\"No\"值。\n",
    "* 利用其他欄位預測LotFrontage的遺失值\n",
    "* 其餘遺失值都很低(<0.3%)，因此帶入最常見的數值"
   ]
  },
  {
   "cell_type": "code",
   "execution_count": 12,
   "metadata": {
    "collapsed": true
   },
   "outputs": [],
   "source": [
    "def missing_value(df):\n",
    "    df['PoolQC'].fillna('No', inplace=True)\n",
    "    df['Alley'].fillna('No', inplace=True)\n",
    "    df['MiscFeature'].fillna('No', inplace=True)\n",
    "    df['Fence'].fillna('No', inplace=True)\n",
    "    df['FireplaceQu'].fillna('No', inplace=True)\n",
    "\n",
    "    df['Fence'].fillna('No', inplace=True)\n",
    "\n",
    "    df['GarageFinish'].fillna('No', inplace=True)\n",
    "    df['GarageType'].fillna('No', inplace=True)\n",
    "    df['GarageYrBlt'].fillna(0, inplace=True) \n",
    "    df['GarageCond'].fillna(0, inplace=True)\n",
    "    df['GarageQual'].fillna(0, inplace=True)\n",
    "    df['GarageCars'].fillna(0, inplace=True)\n",
    "    df['GarageArea'].fillna(0, inplace=True)\n",
    "\n",
    "    df['BsmtFinType2'].fillna(0, inplace=True)\n",
    "    df['BsmtExposure'].fillna(0, inplace=True)\n",
    "    df['BsmtFinType1'].fillna(0, inplace=True)\n",
    "    df['BsmtQual'].fillna(0, inplace=True)\n",
    "    df['BsmtCond'].fillna(0, inplace=True)\n",
    "    df['BsmtHalfBath'].fillna(0, inplace=True)\n",
    "    df['BsmtFullBath'].fillna(0, inplace=True)\n",
    "    df['BsmtFinSF1'].fillna(0, inplace=True)\n",
    "    df['BsmtFinSF2'].fillna(0, inplace=True)\n",
    "    df['TotalBsmtSF'].fillna(0, inplace=True)\n",
    "    df['BsmtUnfSF'].fillna(0, inplace=True)\n",
    "\n",
    "    df['MasVnrArea'].fillna(0, inplace=True)\n",
    "    df['MasVnrType'].fillna('No', inplace=True)\n",
    "\n",
    "    df['Electrical'].fillna('SBrkr', inplace=True)\n",
    "    df['MSZoning'].fillna('RL', inplace=True)\n",
    "    df['Functional'].fillna('Typ', inplace=True)\n",
    "    df['SaleType'].fillna('WD', inplace=True)\n",
    "    df['KitchenQual'].fillna(3, inplace=True)\n",
    "    df['Exterior1st'].fillna('VinylSd', inplace=True)\n",
    "    df['Exterior2nd'].fillna('VinylSd', inplace=True)\n",
    "    \n",
    "    return df"
   ]
  },
  {
   "cell_type": "code",
   "execution_count": 13,
   "metadata": {
    "collapsed": true
   },
   "outputs": [],
   "source": [
    "df_m = missing_value(df)"
   ]
  },
  {
   "cell_type": "code",
   "execution_count": 14,
   "metadata": {},
   "outputs": [
    {
     "name": "stdout",
     "output_type": "stream",
     "text": [
      "             Missing   Percent\n",
      "SalePrice       1459  0.499829\n",
      "LotFrontage      486  0.166495\n",
      "Utilities          2  0.000685\n",
      "Foundation         0  0.000000\n",
      "ExterCond          0  0.000000\n"
     ]
    }
   ],
   "source": [
    "missing = missing_data(df_m)\n",
    "print(missing.head(5))"
   ]
  },
  {
   "cell_type": "markdown",
   "metadata": {},
   "source": [
    "* SalePrice missing at test.csv\n",
    "* LotFrontage impute after preprocess\n"
   ]
  },
  {
   "cell_type": "code",
   "execution_count": 15,
   "metadata": {},
   "outputs": [
    {
     "name": "stdout",
     "output_type": "stream",
     "text": [
      "RMSE: 29063.01 (+/- 8198.88)\n"
     ]
    }
   ],
   "source": [
    "X_train, y_train, test = preScoreTest(df_m)\n",
    "scores = rmsle_cv(rfg, X_train, y_train)\n",
    "print(\"RMSE: %0.2f (+/- %0.2f)\" % (scores.mean(), scores.std() * 2))"
   ]
  },
  {
   "cell_type": "markdown",
   "metadata": {},
   "source": [
    "## XGBoost!"
   ]
  },
  {
   "cell_type": "markdown",
   "metadata": {},
   "source": [
    "試試看其他算法！"
   ]
  },
  {
   "cell_type": "code",
   "execution_count": 17,
   "metadata": {},
   "outputs": [
    {
     "name": "stdout",
     "output_type": "stream",
     "text": [
      "RMSE: 25329.10 (+/- 9738.28)\n"
     ]
    }
   ],
   "source": [
    "from xgboost import XGBRegressor\n",
    "\n",
    "xgb = XGBRegressor(learning_rate=0.05,n_estimators=500,max_depth=3,colsample_bytree=0.4)\n",
    "scores = rmsle_cv(xgb, X_train, y_train)\n",
    "print(\"RMSE: %0.2f (+/- %0.2f)\" % (scores.mean(), scores.std() * 2))"
   ]
  },
  {
   "cell_type": "markdown",
   "metadata": {},
   "source": [
    "## Data Exploring"
   ]
  },
  {
   "cell_type": "code",
   "execution_count": 18,
   "metadata": {
    "collapsed": true
   },
   "outputs": [],
   "source": [
    "from sklearn.feature_selection import SelectKBest, f_regression, mutual_info_regression\n",
    "\n",
    "# Univariate feature selection(top 20)\n",
    "selector = SelectKBest(f_regression, k=20).fit(X_train, y_train)\n",
    "keeps = selector.get_support(indices=True)\n",
    "f_reg = X_train.iloc[:, keeps].columns.tolist()\n",
    "\n",
    "selector = SelectKBest(mutual_info_regression, k=20).fit(X_train, y_train)\n",
    "keeps = selector.get_support(indices=True)\n",
    "mutual_info_reg = X_train.iloc[:, keeps].columns.tolist()"
   ]
  },
  {
   "cell_type": "code",
   "execution_count": 19,
   "metadata": {},
   "outputs": [
    {
     "name": "stdout",
     "output_type": "stream",
     "text": [
      "Features in both f_reg and mutual_info_reg:\n",
      "{'ExterQual', 'GrLivArea', 'TotRmsAbvGrd', 'KitchenQual', 'GarageCars', '1stFlrSF', 'TotalBsmtSF', 'FullBath', 'BsmtQual', 'YearRemodAdd', 'HeatingQC', 'GarageArea', 'Foundation_PConc', 'YearBuilt', 'Fireplaces', 'OverallQual'}\n",
      "Features only in one side:\n",
      "{'GarageYrBlt', 'LotFrontage', '2ndFlrSF', 'LotArea'}\n",
      "{'GarageFinish_Unf', 'GarageFinish_Fin', 'FireplaceQu_No', 'MasVnrArea'}\n"
     ]
    }
   ],
   "source": [
    "print('Features in both f_reg and mutual_info_reg:\\n{}\\nFeatures only in one side:\\n{}\\n{}'.\n",
    "      format(set(f_reg) & set(mutual_info_reg), \n",
    "             set(mutual_info_reg) - set(f_reg), \n",
    "             set(f_reg) - set(mutual_info_reg)))"
   ]
  },
  {
   "cell_type": "code",
   "execution_count": 20,
   "metadata": {},
   "outputs": [
    {
     "data": {
      "text/plain": [
       "<matplotlib.axes._subplots.AxesSubplot at 0x7f85e8aa7a58>"
      ]
     },
     "execution_count": 20,
     "metadata": {},
     "output_type": "execute_result"
    },
    {
     "data": {
      "image/png": "[encoded data removed]",
      "text/plain": [
       "<matplotlib.figure.Figure at 0x7f85e933ce10>"
      ]
     },
     "metadata": {},
     "output_type": "display_data"
    }
   ],
   "source": [
    "# GrLivArea\n",
    "data = pd.concat([df_m['SalePrice'], df_m['GrLivArea']], axis=1)\n",
    "data.plot.scatter(x='GrLivArea', y='SalePrice')"
   ]
  },
  {
   "cell_type": "code",
   "execution_count": 21,
   "metadata": {},
   "outputs": [
    {
     "data": {
      "text/plain": [
       "<matplotlib.axes._subplots.AxesSubplot at 0x7f85e93a96d8>"
      ]
     },
     "execution_count": 21,
     "metadata": {},
     "output_type": "execute_result"
    },
    {
     "data": {
      "image/png": "[encoded data removed]",
      "text/plain": [
       "<matplotlib.figure.Figure at 0x7f85e8ca0710>"
      ]
     },
     "metadata": {},
     "output_type": "display_data"
    }
   ],
   "source": [
    "# Mean SalePrice in each Neighborhood\n",
    "loc_price = df_m[['Neighborhood', 'SalePrice']].groupby('Neighborhood')\n",
    "loc_price.mean().sort_values('SalePrice', ascending=False).plot(kind='bar', figsize=(8,6))"
   ]
  },
  {
   "cell_type": "code",
   "execution_count": 22,
   "metadata": {},
   "outputs": [
    {
     "data": {
      "text/plain": [
       "<matplotlib.axes._subplots.AxesSubplot at 0x7f85e89db6d8>"
      ]
     },
     "execution_count": 22,
     "metadata": {},
     "output_type": "execute_result"
    },
    {
     "data": {
      "image/png": "[encoded data removed]",
      "text/plain": [
       "<matplotlib.figure.Figure at 0x7f85e8a340f0>"
      ]
     },
     "metadata": {},
     "output_type": "display_data"
    },
    {
     "data": {
      "image/png": "[encoded data removed]",
      "text/plain": [
       "<matplotlib.figure.Figure at 0x7f85e8a34128>"
      ]
     },
     "metadata": {},
     "output_type": "display_data"
    }
   ],
   "source": [
    "# Garage\n",
    "df_m[['GarageArea', 'GarageCars']].groupby('GarageCars').mean().plot(kind='bar')\n",
    "\n",
    "data = pd.concat([df_m['SalePrice'], df_m['GarageArea']], axis=1)\n",
    "data.plot.scatter(x='GarageArea', y='SalePrice')"
   ]
  },
  {
   "cell_type": "code",
   "execution_count": 23,
   "metadata": {},
   "outputs": [
    {
     "data": {
      "text/plain": [
       "<matplotlib.axes._subplots.AxesSubplot at 0x7f85e890aeb8>"
      ]
     },
     "execution_count": 23,
     "metadata": {},
     "output_type": "execute_result"
    },
    {
     "data": {
      "image/png": "[encoded data removed]",
      "text/plain": [
       "<matplotlib.figure.Figure at 0x7f85e8c28710>"
      ]
     },
     "metadata": {},
     "output_type": "display_data"
    }
   ],
   "source": [
    "# House Age\n",
    "df_tmp = df_m.copy()\n",
    "df_tmp['HouseAge'] = df_tmp['YrSold'] - df_tmp['YearBuilt']\n",
    "sns.regplot(x='HouseAge', y='SalePrice', data=df_tmp)"
   ]
  },
  {
   "cell_type": "code",
   "execution_count": 24,
   "metadata": {},
   "outputs": [
    {
     "data": {
      "text/html": [
       "<div>\n",
       "<style>\n",
       "    .dataframe thead tr:only-child th {\n",
       "        text-align: right;\n",
       "    }\n",
       "\n",
       "    .dataframe thead th {\n",
       "        text-align: left;\n",
       "    }\n",
       "\n",
       "    .dataframe tbody tr th {\n",
       "        vertical-align: top;\n",
       "    }\n",
       "</style>\n",
       "<table border=\"1\" class=\"dataframe\">\n",
       "  <thead>\n",
       "    <tr style=\"text-align: right;\">\n",
       "      <th>CentralAir</th>\n",
       "      <th>N</th>\n",
       "      <th>Y</th>\n",
       "    </tr>\n",
       "    <tr>\n",
       "      <th>HeatingQC</th>\n",
       "      <th></th>\n",
       "      <th></th>\n",
       "    </tr>\n",
       "  </thead>\n",
       "  <tbody>\n",
       "    <tr>\n",
       "      <th>1</th>\n",
       "      <td>2</td>\n",
       "      <td>1</td>\n",
       "    </tr>\n",
       "    <tr>\n",
       "      <th>2</th>\n",
       "      <td>42</td>\n",
       "      <td>50</td>\n",
       "    </tr>\n",
       "    <tr>\n",
       "      <th>3</th>\n",
       "      <td>107</td>\n",
       "      <td>750</td>\n",
       "    </tr>\n",
       "    <tr>\n",
       "      <th>4</th>\n",
       "      <td>29</td>\n",
       "      <td>445</td>\n",
       "    </tr>\n",
       "    <tr>\n",
       "      <th>5</th>\n",
       "      <td>16</td>\n",
       "      <td>1477</td>\n",
       "    </tr>\n",
       "  </tbody>\n",
       "</table>\n",
       "</div>"
      ],
      "text/plain": [
       "CentralAir    N     Y\n",
       "HeatingQC            \n",
       "1             2     1\n",
       "2            42    50\n",
       "3           107   750\n",
       "4            29   445\n",
       "5            16  1477"
      ]
     },
     "execution_count": 24,
     "metadata": {},
     "output_type": "execute_result"
    }
   ],
   "source": [
    "# Heating and CentralAir\n",
    "pd.crosstab(df_m['HeatingQC'], df_m['CentralAir'])"
   ]
  },
  {
   "cell_type": "code",
   "execution_count": 25,
   "metadata": {},
   "outputs": [
    {
     "data": {
      "text/plain": [
       "<seaborn.axisgrid.FacetGrid at 0x7f85e8a3a048>"
      ]
     },
     "execution_count": 25,
     "metadata": {},
     "output_type": "execute_result"
    },
    {
     "data": {
      "image/png": "[encoded data removed]",
      "text/plain": [
       "<matplotlib.figure.Figure at 0x7f85e8a3a080>"
      ]
     },
     "metadata": {},
     "output_type": "display_data"
    }
   ],
   "source": [
    "sns.factorplot('HeatingQC', 'SalePrice', hue = 'CentralAir', estimator = np.mean, data = df_m, \n",
    "             size = 4.5, aspect = 1.4)"
   ]
  },
  {
   "cell_type": "markdown",
   "metadata": {},
   "source": [
    "## Normality"
   ]
  },
  {
   "cell_type": "code",
   "execution_count": 26,
   "metadata": {
    "collapsed": true
   },
   "outputs": [],
   "source": [
    "def normality(df):\n",
    "    numeric_cols = [f for f in df if df.dtypes[f] != 'object']\n",
    "    skew =df[numeric_cols].columns[df[numeric_cols].skew() > 0.1]\n",
    "    for i in skew.values:\n",
    "        df[i] = np.log1p(df[i])\n",
    "    return df"
   ]
  },
  {
   "cell_type": "code",
   "execution_count": 27,
   "metadata": {
    "collapsed": true
   },
   "outputs": [],
   "source": [
    "df_normal = normality(df_m)"
   ]
  },
  {
   "cell_type": "code",
   "execution_count": 28,
   "metadata": {},
   "outputs": [
    {
     "name": "stdout",
     "output_type": "stream",
     "text": [
      "RMSE: 0.1207 (+/- 0.02)\n"
     ]
    }
   ],
   "source": [
    "X_train, y_train, test = preScoreTest(df_normal)\n",
    "scores = rmsle_cv(xgb, X_train, y_train)\n",
    "print(\"RMSE: %0.4f (+/- %0.2f)\" % (scores.mean(), scores.std() * 2))"
   ]
  },
  {
   "cell_type": "markdown",
   "metadata": {},
   "source": [
    "## Create / Discard Features"
   ]
  },
  {
   "cell_type": "code",
   "execution_count": 29,
   "metadata": {
    "collapsed": true
   },
   "outputs": [],
   "source": [
    "def drop_low_var(df):\n",
    "    low_var = [n for n in df_f.columns if df_f[n].value_counts().max()/len(df_f) > 0.97]\n",
    "    df = df.drop(low_var, axis=1)\n",
    "    return df\n",
    "\n",
    "def create_bath(df):\n",
    "    df['Bath'] = df['FullBath'] + 0.5 * df['HalfBath'] + df['BsmtFullBath'] + 0.5 * df['BsmtHalfBath']\n",
    "    df = df.drop(['BsmtFullBath', 'BsmtHalfBath', 'FullBath', 'HalfBath'], axis=1)\n",
    "    return df\n",
    "\n",
    "def create_sq(df):\n",
    "    df['TotalSF'] = df['TotalBsmtSF'] + df['1stFlrSF'] + df['2ndFlrSF']\n",
    "    return df"
   ]
  },
  {
   "cell_type": "code",
   "execution_count": 30,
   "metadata": {
    "collapsed": true
   },
   "outputs": [],
   "source": [
    "df_f = df_normal.copy()"
   ]
  },
  {
   "cell_type": "code",
   "execution_count": 31,
   "metadata": {
    "collapsed": true
   },
   "outputs": [],
   "source": [
    "df_f = drop_low_var(df_f)\n",
    "df_f = create_bath(df_f)\n",
    "df_f = create_sq(df_f)"
   ]
  },
  {
   "cell_type": "code",
   "execution_count": 32,
   "metadata": {},
   "outputs": [
    {
     "name": "stdout",
     "output_type": "stream",
     "text": [
      "RMSE: 0.1202 (+/- 0.02)\n"
     ]
    }
   ],
   "source": [
    "X_train, y_train, test = preScoreTest(df_f)\n",
    "scores = rmsle_cv(xgb, X_train, y_train)\n",
    "print(\"RMSE: %0.4f (+/- %0.2f)\" % (scores.mean(), scores.std() * 2))"
   ]
  },
  {
   "cell_type": "markdown",
   "metadata": {},
   "source": [
    "## Outlier"
   ]
  },
  {
   "cell_type": "code",
   "execution_count": 33,
   "metadata": {
    "collapsed": true
   },
   "outputs": [],
   "source": [
    "df_out = df_f.copy()\n",
    "X_train, y_train, X_test = preScoreTest(df_out)"
   ]
  },
  {
   "cell_type": "code",
   "execution_count": null,
   "metadata": {
    "collapsed": true
   },
   "outputs": [],
   "source": [
    "import statsmodels.api as sm\n",
    "\n",
    "regressor = sm.OLS(X_train, y_train).fit()\n",
    "result = regressor.outlier_test()\n",
    "outlier = result['bonf(p)']\n",
    "outlier = outlier[outlier<1e-3].index\n",
    "print(outlier)"
   ]
  },
  {
   "cell_type": "code",
   "execution_count": 34,
   "metadata": {
    "collapsed": true
   },
   "outputs": [],
   "source": [
    "outlier = [462, 523, 632, 968, 1298, 1324]\n",
    "df_out = df_out.drop(outlier, axis=0)\n",
    "X_train, y_train, X_test = preScoreTest(df_out, seg = 1454)"
   ]
  },
  {
   "cell_type": "code",
   "execution_count": 35,
   "metadata": {},
   "outputs": [
    {
     "name": "stdout",
     "output_type": "stream",
     "text": [
      "RMSE: 0.1082 (+/- 0.02)\n"
     ]
    }
   ],
   "source": [
    "scores = rmsle_cv(xgb, X_train, y_train)\n",
    "print(\"RMSE: %0.4f (+/- %0.2f)\" % (scores.mean(), scores.std() * 2))"
   ]
  },
  {
   "cell_type": "markdown",
   "metadata": {},
   "source": [
    "### Advanced Imputation\n",
    "impute 'LotFrontage' after data preprocessing"
   ]
  },
  {
   "cell_type": "code",
   "execution_count": 36,
   "metadata": {
    "collapsed": true
   },
   "outputs": [],
   "source": [
    "df_l = df_out.copy()"
   ]
  },
  {
   "cell_type": "code",
   "execution_count": 37,
   "metadata": {
    "collapsed": true
   },
   "outputs": [],
   "source": [
    "# Using xgboost to impute missing LotFrontage\n",
    "\n",
    "null_idx = df_l.loc[df_m['LotFrontage'].isnull()].index\n",
    "\n",
    "df_lot = df_l.copy()\n",
    "df_lot = pd.get_dummies(df_lot)\n",
    "train_lot = df_lot.drop(df_lot.index[[null_idx]])\n",
    "test_lot = df_lot.loc[null_idx]\n",
    "\n",
    "test_lot.shape, train_lot.shape\n",
    "\n",
    "xgb = XGBRegressor(\n",
    "    colsample_bytree=0.2,\n",
    "    gamma=0.05,\n",
    "    learning_rate=0.05, \n",
    "    max_depth=5, \n",
    "    min_child_weight=3,\n",
    "    n_estimators=700,\n",
    "    reg_alpha=0.1,\n",
    "    reg_lambda=0.005,\n",
    "    subsample=0.6)\n",
    "\n",
    "\n",
    "xgb.fit(train_lot.drop(['LotFrontage', 'SalePrice'], axis=1), train_lot['LotFrontage'])\n",
    "pred_lot = xgb.predict(test_lot.drop(['LotFrontage', 'SalePrice'], axis=1))\n",
    "df_l.loc[null_idx, 'LotFrontage'] = pred_lot"
   ]
  },
  {
   "cell_type": "code",
   "execution_count": 38,
   "metadata": {},
   "outputs": [
    {
     "name": "stdout",
     "output_type": "stream",
     "text": [
      "               Missing   Percent\n",
      "SalePrice         1459  0.500858\n",
      "TotalSF              0  0.000000\n",
      "EnclosedPorch        0  0.000000\n",
      "ExterQual            0  0.000000\n",
      "Exterior1st          0  0.000000\n"
     ]
    }
   ],
   "source": [
    "missing = missing_data(df_l)\n",
    "print(missing.head(5))"
   ]
  },
  {
   "cell_type": "markdown",
   "metadata": {},
   "source": [
    "## Feature Selection"
   ]
  },
  {
   "cell_type": "markdown",
   "metadata": {},
   "source": [
    "### Random Forest Feature Selection\n",
    "\n",
    "ref:  \n",
    "[Selecting good features – Part III: random forests](http://blog.datadive.net/selecting-good-features-part-iii-random-forests/)"
   ]
  },
  {
   "cell_type": "code",
   "execution_count": 43,
   "metadata": {
    "collapsed": true
   },
   "outputs": [],
   "source": [
    "def rf_imp(df):\n",
    "    X_train, y_train, X_test = preScoreTest(df_l)\n",
    "    rfg = RandomForestRegressor(n_estimators=100, random_state=0, n_jobs=-1)\n",
    "    rfg.fit(X_train, y_train)\n",
    "    imp = pd.DataFrame(rfg.feature_importances_, columns=['Importance'], index=X_train.columns).sort_values('Importance', ascending=False)\n",
    "    return imp"
   ]
  },
  {
   "cell_type": "code",
   "execution_count": 44,
   "metadata": {},
   "outputs": [
    {
     "data": {
      "text/plain": [
       "<matplotlib.axes._subplots.AxesSubplot at 0x7f85e83aecf8>"
      ]
     },
     "execution_count": 44,
     "metadata": {},
     "output_type": "execute_result"
    },
    {
     "data": {
      "image/png": "[encoded data removed]",
      "text/plain": [
       "<matplotlib.figure.Figure at 0x7f85e83ae518>"
      ]
     },
     "metadata": {},
     "output_type": "display_data"
    }
   ],
   "source": [
    "imp = rf_imp(df_f)\n",
    "imp.head(30).plot(kind = 'bar', figsize=(6, 8))"
   ]
  },
  {
   "cell_type": "code",
   "execution_count": 45,
   "metadata": {
    "collapsed": true
   },
   "outputs": [],
   "source": [
    "from sklearn.model_selection import train_test_split\n",
    "from sklearn.metrics import mean_squared_error\n",
    "\n",
    "def feature_rf(df, imp):\n",
    "    X_train, y_train, X_test = preScoreTest(df_l, seg = 1454)\n",
    "    best_rmse = 30000\n",
    "    n_keeps = int()  \n",
    "    rmse = []\n",
    "\n",
    "    xgb_feature = XGBRegressor(learning_rate=0.05,n_estimators=300,max_depth=3,colsample_bytree=0.4)\n",
    "\n",
    "    for i in range(10,len(imp)+1):\n",
    "        keep = imp.iloc[0:i].index.values\n",
    "        rmse_cv = np.sqrt(-cross_val_score(xgb_feature, X_train[keep], y_train, scoring=\"neg_mean_squared_error\", cv = 5))\n",
    "        rmse += [rmse_cv.mean()]\n",
    "\n",
    "        if rmse_cv.mean() < best_rmse:\n",
    "            n_keeps = i\n",
    "            best_rmse = rmse_cv.mean()   \n",
    "    \n",
    "    feature_set = imp.iloc[0:n_keeps].index.values\n",
    "    \n",
    "    print('Best RMSE: %s at %s features' % (best_rmse, n_keeps))\n",
    "    plt.plot(rmse)\n",
    "    plt.xlabel('# of Features')\n",
    "    plt.ylabel('RMSE')\n",
    "    \n",
    "    return feature_set"
   ]
  },
  {
   "cell_type": "code",
   "execution_count": 46,
   "metadata": {},
   "outputs": [
    {
     "name": "stdout",
     "output_type": "stream",
     "text": [
      "Best RMSE: 0.107790867153 at 198 features\n"
     ]
    },
    {
     "data": {
      "image/png": "[encoded data removed]",
      "text/plain": [
       "<matplotlib.figure.Figure at 0x7f85e83b5fd0>"
      ]
     },
     "metadata": {},
     "output_type": "display_data"
    }
   ],
   "source": [
    "featureSet_rf = feature_rf(df_f, imp)"
   ]
  },
  {
   "cell_type": "markdown",
   "metadata": {},
   "source": [
    "## Model Selection"
   ]
  },
  {
   "cell_type": "code",
   "execution_count": 47,
   "metadata": {},
   "outputs": [],
   "source": [
    "X_train, y_train, X_test = preScoreTest(df_l, seg = 1454)"
   ]
  },
  {
   "cell_type": "code",
   "execution_count": 48,
   "metadata": {},
   "outputs": [],
   "source": [
    "from sklearn.linear_model import ElasticNet, Lasso\n",
    "from sklearn.ensemble import GradientBoostingRegressor\n",
    "from sklearn.base import BaseEstimator, TransformerMixin, RegressorMixin, clone\n",
    "from sklearn.model_selection import KFold, cross_val_score, train_test_split\n",
    "from sklearn.kernel_ridge import KernelRidge\n",
    "from sklearn.metrics import mean_squared_error\n",
    "import lightgbm"
   ]
  },
  {
   "cell_type": "markdown",
   "metadata": {},
   "source": [
    "### Hyper Parameter Tunning\n"
   ]
  },
  {
   "cell_type": "code",
   "execution_count": null,
   "metadata": {},
   "outputs": [],
   "source": [
    "from sklearn.model_selection import GridSearchCV\n",
    "\n",
    "# XGBoost\n",
    "\n",
    "kfold = KFold(n_splits=5, shuffle=True, random_state=7)\n",
    "xgb = XGBRegressor()\n",
    "parameters = {'n_estimators':[700],\n",
    "              'learning_rate':[0.05],\n",
    "              'gamma':[0.05],\n",
    "              'max_depth':[5],\n",
    "              'min_child_weight':[3],\n",
    "              'subsample':[0.6],\n",
    "              'colsample_bytree':[0.2],\n",
    "              'reg_lambda':[0.005, 0.01,0.05],\n",
    "              'reg_alpha':[0.1, 0.3, 0.5,1.0]\n",
    "             }\n",
    "\n",
    "grid_search_xgb = GridSearchCV(estimator=xgb, \n",
    "                           param_grid = parameters,\n",
    "                           scoring = 'neg_mean_squared_error',\n",
    "                           cv = kfold)\n",
    "grid_result_xgb = grid_search_xgb.fit(X_train, y_train)"
   ]
  },
  {
   "cell_type": "code",
   "execution_count": null,
   "metadata": {},
   "outputs": [],
   "source": [
    "grid_result_xgb.best_params_"
   ]
  },
  {
   "cell_type": "code",
   "execution_count": null,
   "metadata": {},
   "outputs": [],
   "source": [
    "# Gradient Boost\n",
    "\n",
    "gboost = GradientBoostingRegressor()\n",
    "\n",
    "parameters = {'n_estimators':[700],\n",
    "              'learning_rate':[0.01,0.03, 0.05], \n",
    "              'max_depth':[3], #1~3\n",
    "              'subsample':[0.6],\n",
    "              'min_samples_leaf':[2, 5, 10], \n",
    "              'min_samples_split':[2],\n",
    "              'max_features':['log2', 'sqrt', None]\n",
    "             }\n",
    "grid_search_gboost = GridSearchCV(estimator=gboost, \n",
    "                           param_grid = parameters,\n",
    "                           scoring = 'neg_mean_squared_error',\n",
    "                           cv = kfold)\n",
    "grid_result_gboost = grid_search_gboost.fit(X_train, y_train)"
   ]
  },
  {
   "cell_type": "code",
   "execution_count": null,
   "metadata": {},
   "outputs": [],
   "source": [
    "grid_result_gboost.best_params_"
   ]
  },
  {
   "cell_type": "code",
   "execution_count": null,
   "metadata": {},
   "outputs": [],
   "source": [
    "# LightGBM\n",
    "lgb = lightgbm.LGBMRegressor()\n",
    "\n",
    "parameters = {'n_estimators':[90],\n",
    "              'learning_rate':[0.08],\n",
    "              'max_depth':[8],\n",
    "              'num_leaves':[16],\n",
    "              'reg_lambda':[0.005, 0.01,0.05],\n",
    "              'reg_alpha':[0.1, 0.3, 0.5,1.0]\n",
    "            }\n",
    "grid_search_lgb = GridSearchCV(estimator=lgb, \n",
    "                           param_grid = parameters,\n",
    "                           scoring = 'neg_mean_squared_error',\n",
    "                           cv = kfold)\n",
    "grid_result_lgb = grid_search_lgb.fit(X_train, y_train)"
   ]
  },
  {
   "cell_type": "code",
   "execution_count": null,
   "metadata": {},
   "outputs": [],
   "source": [
    "grid_result_lgb.best_params_"
   ]
  },
  {
   "cell_type": "code",
   "execution_count": 52,
   "metadata": {},
   "outputs": [],
   "source": [
    "lasso = Lasso(alpha =0.001, random_state=1)\n",
    "enet = ElasticNet(alpha=0.001, l1_ratio=.9, random_state=3)\n",
    "gboost = GradientBoostingRegressor(n_estimators=700, \n",
    "                                   learning_rate=0.03,\n",
    "                                   max_features = 'sqrt',\n",
    "                                   max_depth=3,\n",
    "                                   min_samples_leaf=2, \n",
    "                                   min_samples_split=2,\n",
    "                                   subsample=0.6,\n",
    "                                   loss='huber',\n",
    "                                   random_state =5)\n",
    "rfg = RandomForestRegressor(n_estimators=300, random_state=0, n_jobs=-1)\n",
    "xgb = XGBRegressor(\n",
    "    colsample_bytree=0.2,\n",
    "    gamma=0.05,\n",
    "    learning_rate=0.05, \n",
    "    max_depth=5, \n",
    "    min_child_weight=3,\n",
    "    n_estimators=700,\n",
    "    reg_alpha=0.1,\n",
    "    reg_lambda=0.005,\n",
    "    subsample=0.6)\n",
    "lgb = lightgbm.LGBMRegressor(objective='regression', \n",
    "                             learning_rate=0.08, \n",
    "                             n_estimators=90,\n",
    "                             num_leaves=16,\n",
    "                             max_depth=8,\n",
    "                             reg_alpha=0.1,\n",
    "                             reg_lambda=0.01)\n",
    "\n",
    "krr = KernelRidge(alpha = 7.0)"
   ]
  },
  {
   "cell_type": "code",
   "execution_count": 53,
   "metadata": {},
   "outputs": [
    {
     "name": "stderr",
     "output_type": "stream",
     "text": [
      "/home/lafes/anaconda3/envs/tensorflow/lib/python3.5/site-packages/sklearn/linear_model/coordinate_descent.py:484: ConvergenceWarning: Objective did not converge. You might want to increase the number of iterations. Fitting data with very small alpha may cause precision problems.\n",
      "  ConvergenceWarning)\n"
     ]
    },
    {
     "data": {
      "text/plain": [
       "GradientBoostingRegressor    0.106379\n",
       "XGBRegressor                 0.108023\n",
       "ElasticNet                   0.109474\n",
       "KernelRidge                  0.109639\n",
       "Lasso                        0.110044\n",
       "LGBMRegressor                0.117242\n",
       "RandomForestRegressor        0.132364\n",
       "dtype: float64"
      ]
     },
     "execution_count": 53,
     "metadata": {},
     "output_type": "execute_result"
    }
   ],
   "source": [
    "def scoreTest(X_train, y_train, X_test, models):\n",
    "    score = {}\n",
    "    predict = {}\n",
    "    for m in models:\n",
    "        name = m.__class__.__name__\n",
    "        mean = rmsle_cv(m, X_train, y_train).mean()\n",
    "        score[name] = mean\n",
    "        \n",
    "        m.fit(X_train, y_train)\n",
    "        y_pred = m.predict(X_test)\n",
    "        \n",
    "        predict[name] = y_pred\n",
    "    score = pd.Series(score)\n",
    "    predict = pd.DataFrame(predict)\n",
    "    return score, predict\n",
    "result, predict = scoreTest(X_train, y_train, X_test, models = [lasso ,enet, gboost, xgb, lgb, krr, rfg])\n",
    "result.sort_values()"
   ]
  },
  {
   "cell_type": "code",
   "execution_count": 54,
   "metadata": {},
   "outputs": [
    {
     "data": {
      "text/html": [
       "<div>\n",
       "<style>\n",
       "    .dataframe thead tr:only-child th {\n",
       "        text-align: right;\n",
       "    }\n",
       "\n",
       "    .dataframe thead th {\n",
       "        text-align: left;\n",
       "    }\n",
       "\n",
       "    .dataframe tbody tr th {\n",
       "        vertical-align: top;\n",
       "    }\n",
       "</style>\n",
       "<table border=\"1\" class=\"dataframe\">\n",
       "  <thead>\n",
       "    <tr style=\"text-align: right;\">\n",
       "      <th></th>\n",
       "      <th>ElasticNet</th>\n",
       "      <th>GradientBoostingRegressor</th>\n",
       "      <th>KernelRidge</th>\n",
       "      <th>LGBMRegressor</th>\n",
       "      <th>Lasso</th>\n",
       "      <th>RandomForestRegressor</th>\n",
       "      <th>XGBRegressor</th>\n",
       "    </tr>\n",
       "  </thead>\n",
       "  <tbody>\n",
       "    <tr>\n",
       "      <th>ElasticNet</th>\n",
       "      <td>1.000000</td>\n",
       "      <td>0.987102</td>\n",
       "      <td>0.996328</td>\n",
       "      <td>0.979796</td>\n",
       "      <td>0.999975</td>\n",
       "      <td>0.971465</td>\n",
       "      <td>0.986091</td>\n",
       "    </tr>\n",
       "    <tr>\n",
       "      <th>GradientBoostingRegressor</th>\n",
       "      <td>0.987102</td>\n",
       "      <td>1.000000</td>\n",
       "      <td>0.987829</td>\n",
       "      <td>0.990363</td>\n",
       "      <td>0.986857</td>\n",
       "      <td>0.982018</td>\n",
       "      <td>0.995794</td>\n",
       "    </tr>\n",
       "    <tr>\n",
       "      <th>KernelRidge</th>\n",
       "      <td>0.996328</td>\n",
       "      <td>0.987829</td>\n",
       "      <td>1.000000</td>\n",
       "      <td>0.979257</td>\n",
       "      <td>0.995984</td>\n",
       "      <td>0.969845</td>\n",
       "      <td>0.986438</td>\n",
       "    </tr>\n",
       "    <tr>\n",
       "      <th>LGBMRegressor</th>\n",
       "      <td>0.979796</td>\n",
       "      <td>0.990363</td>\n",
       "      <td>0.979257</td>\n",
       "      <td>1.000000</td>\n",
       "      <td>0.979680</td>\n",
       "      <td>0.990169</td>\n",
       "      <td>0.990955</td>\n",
       "    </tr>\n",
       "    <tr>\n",
       "      <th>Lasso</th>\n",
       "      <td>0.999975</td>\n",
       "      <td>0.986857</td>\n",
       "      <td>0.995984</td>\n",
       "      <td>0.979680</td>\n",
       "      <td>1.000000</td>\n",
       "      <td>0.971584</td>\n",
       "      <td>0.985870</td>\n",
       "    </tr>\n",
       "    <tr>\n",
       "      <th>RandomForestRegressor</th>\n",
       "      <td>0.971465</td>\n",
       "      <td>0.982018</td>\n",
       "      <td>0.969845</td>\n",
       "      <td>0.990169</td>\n",
       "      <td>0.971584</td>\n",
       "      <td>1.000000</td>\n",
       "      <td>0.982513</td>\n",
       "    </tr>\n",
       "    <tr>\n",
       "      <th>XGBRegressor</th>\n",
       "      <td>0.986091</td>\n",
       "      <td>0.995794</td>\n",
       "      <td>0.986438</td>\n",
       "      <td>0.990955</td>\n",
       "      <td>0.985870</td>\n",
       "      <td>0.982513</td>\n",
       "      <td>1.000000</td>\n",
       "    </tr>\n",
       "  </tbody>\n",
       "</table>\n",
       "</div>"
      ],
      "text/plain": [
       "                           ElasticNet  GradientBoostingRegressor  KernelRidge  \\\n",
       "ElasticNet                   1.000000                   0.987102     0.996328   \n",
       "GradientBoostingRegressor    0.987102                   1.000000     0.987829   \n",
       "KernelRidge                  0.996328                   0.987829     1.000000   \n",
       "LGBMRegressor                0.979796                   0.990363     0.979257   \n",
       "Lasso                        0.999975                   0.986857     0.995984   \n",
       "RandomForestRegressor        0.971465                   0.982018     0.969845   \n",
       "XGBRegressor                 0.986091                   0.995794     0.986438   \n",
       "\n",
       "                           LGBMRegressor     Lasso  RandomForestRegressor  \\\n",
       "ElasticNet                      0.979796  0.999975               0.971465   \n",
       "GradientBoostingRegressor       0.990363  0.986857               0.982018   \n",
       "KernelRidge                     0.979257  0.995984               0.969845   \n",
       "LGBMRegressor                   1.000000  0.979680               0.990169   \n",
       "Lasso                           0.979680  1.000000               0.971584   \n",
       "RandomForestRegressor           0.990169  0.971584               1.000000   \n",
       "XGBRegressor                    0.990955  0.985870               0.982513   \n",
       "\n",
       "                           XGBRegressor  \n",
       "ElasticNet                     0.986091  \n",
       "GradientBoostingRegressor      0.995794  \n",
       "KernelRidge                    0.986438  \n",
       "LGBMRegressor                  0.990955  \n",
       "Lasso                          0.985870  \n",
       "RandomForestRegressor          0.982513  \n",
       "XGBRegressor                   1.000000  "
      ]
     },
     "execution_count": 54,
     "metadata": {},
     "output_type": "execute_result"
    }
   ],
   "source": [
    "predict.corr()"
   ]
  },
  {
   "cell_type": "markdown",
   "metadata": {},
   "source": [
    "### Ensemble"
   ]
  },
  {
   "cell_type": "code",
   "execution_count": 55,
   "metadata": {},
   "outputs": [],
   "source": [
    "class AveragingModels(BaseEstimator, RegressorMixin, TransformerMixin):\n",
    "    def __init__(self, models):\n",
    "        self.models = models\n",
    "        \n",
    "    def fit(self, X, y):\n",
    "        self.models_ = [clone(x) for x in self.models]\n",
    "\n",
    "        for model in self.models_:\n",
    "            model.fit(X, y)\n",
    "\n",
    "        return self\n",
    "\n",
    "    def predict(self, X):\n",
    "        predictions = np.column_stack([\n",
    "            model.predict(X) for model in self.models_\n",
    "        ])\n",
    "        return np.mean(predictions, axis=1)   "
   ]
  },
  {
   "cell_type": "code",
   "execution_count": 56,
   "metadata": {
    "collapsed": true
   },
   "outputs": [],
   "source": [
    "gboost2 = GradientBoostingRegressor(n_estimators=700, \n",
    "                                   learning_rate=0.03,\n",
    "                                   max_features = 'sqrt',\n",
    "                                   max_depth=3,\n",
    "                                   min_samples_leaf=2, \n",
    "                                   min_samples_split=2,\n",
    "                                   subsample=0.6,\n",
    "                                   loss='huber',\n",
    "                                   random_state =1235)\n",
    "gboost3 = GradientBoostingRegressor(n_estimators=700, \n",
    "                                   learning_rate=0.03,\n",
    "                                   max_features = 'sqrt',\n",
    "                                   max_depth=3,\n",
    "                                   min_samples_leaf=2, \n",
    "                                   min_samples_split=2,\n",
    "                                   subsample=0.6,\n",
    "                                   loss='huber',\n",
    "                                   random_state =1147)\n",
    "\n",
    "gboost4 = GradientBoostingRegressor(n_estimators=700, \n",
    "                                   learning_rate=0.03,\n",
    "                                   max_features = 'sqrt',\n",
    "                                   max_depth=3,\n",
    "                                   min_samples_leaf=2, \n",
    "                                   min_samples_split=2,\n",
    "                                   subsample=0.6,\n",
    "                                   loss='huber',\n",
    "                                   random_state =5487)"
   ]
  },
  {
   "cell_type": "code",
   "execution_count": 57,
   "metadata": {},
   "outputs": [
    {
     "name": "stderr",
     "output_type": "stream",
     "text": [
      "/home/lafes/anaconda3/envs/tensorflow/lib/python3.5/site-packages/sklearn/linear_model/coordinate_descent.py:484: ConvergenceWarning: Objective did not converge. You might want to increase the number of iterations. Fitting data with very small alpha may cause precision problems.\n",
      "  ConvergenceWarning)\n"
     ]
    },
    {
     "name": "stdout",
     "output_type": "stream",
     "text": [
      " Averaged base models score: 0.1019 (+/-0.0079)\n",
      "\n"
     ]
    }
   ],
   "source": [
    "averaged_models = AveragingModels(models = (lasso ,enet, gboost\n",
    "                                            , gboost2, gboost3, gboost4, \n",
    "                                            xgb, krr))\n",
    "\n",
    "score = rmsle_cv(averaged_models, X_train, y_train)\n",
    "print(\" Averaged base models score: {:.4f} (+/-{:.4f})\\n\".format(score.mean(), score.std()))"
   ]
  },
  {
   "cell_type": "markdown",
   "metadata": {},
   "source": [
    "### Other Feature Sets"
   ]
  },
  {
   "cell_type": "code",
   "execution_count": 58,
   "metadata": {},
   "outputs": [
    {
     "data": {
      "text/plain": [
       "GradientBoostingRegressor    0.105276\n",
       "KernelRidge                  0.109322\n",
       "ElasticNet                   0.109473\n",
       "Lasso                        0.110045\n",
       "XGBRegressor                 0.110102\n",
       "LGBMRegressor                0.117306\n",
       "RandomForestRegressor        0.132209\n",
       "dtype: float64"
      ]
     },
     "execution_count": 58,
     "metadata": {},
     "output_type": "execute_result"
    }
   ],
   "source": [
    "# Random Forest\n",
    "\n",
    "f = imp.iloc[:198].index.values\n",
    "X_train = X_train[f]\n",
    "X_test = X_test[f]\n",
    "\n",
    "\n",
    "result, predict = scoreTest(X_train, y_train, X_test, models = [lasso ,enet, gboost, xgb, lgb, krr, rfg])\n",
    "result.sort_values()"
   ]
  },
  {
   "cell_type": "code",
   "execution_count": 62,
   "metadata": {},
   "outputs": [
    {
     "name": "stdout",
     "output_type": "stream",
     "text": [
      " Averaged base models score: 0.1017 (+/-0.0079)\n",
      "\n"
     ]
    }
   ],
   "source": [
    "#averaged_models_rf = AveragingModels(models = (xgb1, xgb2, xgb3, gboost, lasso ,enet,krr))\n",
    "averaged_models_rf = AveragingModels(models = (lasso ,enet, gboost, gboost2, gboost3, gboost4, xgb, krr))\n",
    "score = rmsle_cv(averaged_models, X_train, y_train)\n",
    "print(\" Averaged base models score: {:.4f} (+/-{:.4f})\\n\".format(score.mean(), score.std()))"
   ]
  },
  {
   "cell_type": "code",
   "execution_count": 63,
   "metadata": {},
   "outputs": [],
   "source": [
    "averaged_models_rf.fit(X_train, y_train)\n",
    "stacked_pred_rf = np.expm1(averaged_models_rf.predict(X_test))"
   ]
  },
  {
   "cell_type": "markdown",
   "metadata": {},
   "source": [
    "### Weight SUM!"
   ]
  },
  {
   "cell_type": "code",
   "execution_count": 64,
   "metadata": {
    "collapsed": true
   },
   "outputs": [],
   "source": [
    "X_train, y_train, X_test = preScoreTest(df_out, seg = 1454)\n",
    "\n",
    "averaged_models.fit(X_train, y_train)\n",
    "stacked_pred = np.expm1(averaged_models.predict(X_test))\n",
    "\n",
    "xgb.fit(X_train, y_train)\n",
    "xgb_pred = np.expm1(xgb.predict(X_test))\n",
    "\n",
    "gboost.fit(X_train, y_train)\n",
    "gboost_pred = np.expm1(gboost.predict(X_test))"
   ]
  },
  {
   "cell_type": "code",
   "execution_count": 65,
   "metadata": {
    "collapsed": true
   },
   "outputs": [],
   "source": [
    "y_pred = (0.1 * gboost_pred + 0.05 * xgb_pred + 0.55 * stacked_pred + 0.3 * stacked_pred_rf)"
   ]
  },
  {
   "cell_type": "code",
   "execution_count": 66,
   "metadata": {
    "collapsed": true
   },
   "outputs": [],
   "source": [
    "submission = pd.DataFrame({\n",
    "    'Id':test_df['Id'],\n",
    "    'SalePrice':y_pred\n",
    "})\n",
    "submission.to_csv('feature_weight_sum', index=False)"
   ]
  },
  {
   "cell_type": "markdown",
   "metadata": {},
   "source": [
    "## Stacking\n",
    "AverageModel -> GradientBoostingRegressor"
   ]
  },
  {
   "cell_type": "code",
   "execution_count": 67,
   "metadata": {
    "collapsed": true
   },
   "outputs": [],
   "source": [
    "X_train, y_train, X_test = preScoreTest(df_out, seg = 1454)"
   ]
  },
  {
   "cell_type": "code",
   "execution_count": 68,
   "metadata": {
    "collapsed": true
   },
   "outputs": [],
   "source": [
    "averaged_models.fit(X_train, y_train)\n",
    "y_hat_avg = averaged_models.predict(X_train)"
   ]
  },
  {
   "cell_type": "code",
   "execution_count": 69,
   "metadata": {},
   "outputs": [],
   "source": [
    "gboost5 = GradientBoostingRegressor(n_estimators=700, \n",
    "                                   learning_rate=0.03,\n",
    "                                   max_features = 'sqrt',\n",
    "                                   max_depth=3,\n",
    "                                   min_samples_leaf=2, \n",
    "                                   min_samples_split=2,\n",
    "                                   subsample=0.6,\n",
    "                                   loss='huber',\n",
    "                                   random_state =1115)\n",
    "gboost6 = GradientBoostingRegressor(n_estimators=700, \n",
    "                                   learning_rate=0.03,\n",
    "                                   max_features = 'sqrt',\n",
    "                                   max_depth=3,\n",
    "                                   min_samples_leaf=2, \n",
    "                                   min_samples_split=2,\n",
    "                                   subsample=0.6,\n",
    "                                   loss='huber',\n",
    "                                   random_state =2145)\n",
    "gboost7 = GradientBoostingRegressor(n_estimators=700, \n",
    "                                   learning_rate=0.03,\n",
    "                                   max_features = 'sqrt',\n",
    "                                   max_depth=3,\n",
    "                                   min_samples_leaf=2, \n",
    "                                   min_samples_split=2,\n",
    "                                   subsample=0.6,\n",
    "                                   loss='huber',\n",
    "                                   random_state =9897)"
   ]
  },
  {
   "cell_type": "code",
   "execution_count": 70,
   "metadata": {
    "collapsed": true
   },
   "outputs": [],
   "source": [
    "avg_gboost = AveragingModels(models = (gboost5, gboost6, gboost7))"
   ]
  },
  {
   "cell_type": "code",
   "execution_count": 71,
   "metadata": {},
   "outputs": [
    {
     "name": "stdout",
     "output_type": "stream",
     "text": [
      "RMSE: 0.0407 (+/- 0.01)\n"
     ]
    }
   ],
   "source": [
    "scores = rmsle_cv(avg_gboost, X_train, y_hat_avg)\n",
    "print(\"RMSE: %0.4f (+/- %0.2f)\" % (scores.mean(), scores.std() * 2))"
   ]
  },
  {
   "cell_type": "code",
   "execution_count": 72,
   "metadata": {
    "collapsed": true
   },
   "outputs": [],
   "source": [
    "avg_gboost.fit(X_train, y_hat_avg)\n",
    "two_stacked_y_pred = np.expm1(avg_gboost.predict(X_test))"
   ]
  },
  {
   "cell_type": "code",
   "execution_count": 73,
   "metadata": {},
   "outputs": [
    {
     "data": {
      "text/plain": [
       "array([ 123184.01052349,  156594.83257214,  186009.96969896, ...,\n",
       "        164349.80293235,  125381.17029056,  227027.10137618])"
      ]
     },
     "execution_count": 73,
     "metadata": {},
     "output_type": "execute_result"
    }
   ],
   "source": [
    "two_stacked_y_pred"
   ]
  },
  {
   "cell_type": "code",
   "execution_count": 74,
   "metadata": {},
   "outputs": [],
   "source": [
    "submission = pd.DataFrame({\n",
    "    'Id':test_df['Id'],\n",
    "    'SalePrice':two_stacked_y_pred\n",
    "})\n",
    "submission.to_csv('2_stack_pred', index=False)"
   ]
  },
  {
   "cell_type": "markdown",
   "metadata": {},
   "source": [
    "## Interpretation\n",
    "ref:   \n",
    "[Selecting Good Featuers](http://blog.datadive.net/selecting-good-features-part-ii-linear-models-and-regularization/)  \n",
    "[Regularized Linear Models](https://www.kaggle.com/apapiu/regularized-linear-models)"
   ]
  },
  {
   "cell_type": "code",
   "execution_count": 75,
   "metadata": {},
   "outputs": [],
   "source": [
    "from sklearn.linear_model import Ridge\n",
    "\n",
    "model_ridge = Ridge()\n",
    "alphas = [0.05, 0.1, 0.3, 1, 3, 5, 7, 10, 15, 30, 50, 75]\n",
    "cv_ridge = [rmsle_cv(Ridge(alpha = alpha), X_train, y_train).mean() \n",
    "            for alpha in alphas]"
   ]
  },
  {
   "cell_type": "code",
   "execution_count": 76,
   "metadata": {},
   "outputs": [
    {
     "data": {
      "text/plain": [
       "<matplotlib.text.Text at 0x7f85d81975c0>"
      ]
     },
     "execution_count": 76,
     "metadata": {},
     "output_type": "execute_result"
    },
    {
     "data": {
      "image/png": "[encoded data removed]",
      "text/plain": [
       "<matplotlib.figure.Figure at 0x7f85d815add8>"
      ]
     },
     "metadata": {},
     "output_type": "display_data"
    }
   ],
   "source": [
    "cv_ridge = pd.Series(cv_ridge, index = alphas)\n",
    "cv_ridge.plot()\n",
    "plt.xlabel(\"alpha\")\n",
    "plt.ylabel(\"rmse\")"
   ]
  },
  {
   "cell_type": "markdown",
   "metadata": {},
   "source": [
    "min at alpha=7 "
   ]
  },
  {
   "cell_type": "code",
   "execution_count": 77,
   "metadata": {},
   "outputs": [
    {
     "data": {
      "text/plain": [
       "Ridge(alpha=1.0, copy_X=True, fit_intercept=True, max_iter=None,\n",
       "   normalize=False, random_state=None, solver='auto', tol=0.001)"
      ]
     },
     "execution_count": 77,
     "metadata": {},
     "output_type": "execute_result"
    }
   ],
   "source": [
    "model_ridge.fit(X_train, y_train)"
   ]
  },
  {
   "cell_type": "code",
   "execution_count": 78,
   "metadata": {},
   "outputs": [
    {
     "data": {
      "text/plain": [
       "<matplotlib.axes._subplots.AxesSubplot at 0x7f85d816e128>"
      ]
     },
     "execution_count": 78,
     "metadata": {},
     "output_type": "execute_result"
    },
    {
     "data": {
      "image/png": "[encoded data removed]",
      "text/plain": [
       "<matplotlib.figure.Figure at 0x7f85d81d2518>"
      ]
     },
     "metadata": {},
     "output_type": "display_data"
    }
   ],
   "source": [
    "coef = pd.Series(model_ridge.coef_, index=X_train.columns)\n",
    "imp_coef = coef.sort_values(ascending=False).head(20)\n",
    "\n",
    "plt.title('Top 20 importance coeffience on House Price')\n",
    "imp_coef.plot(kind = 'bar', figsize=(6, 8))\n"
   ]
  }
 ],
 "metadata": {
  "kernelspec": {
   "display_name": "Python 3",
   "language": "python",
   "name": "python3"
  },
  "language_info": {
   "codemirror_mode": {
    "name": "ipython",
    "version": 3
   },
   "file_extension": ".py",
   "mimetype": "text/x-python",
   "name": "python",
   "nbconvert_exporter": "python",
   "pygments_lexer": "ipython3",
   "version": "3.5.3"
  }
 },
 "nbformat": 4,
 "nbformat_minor": 2
}
