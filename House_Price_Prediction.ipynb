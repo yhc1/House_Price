{
 "cells": [
  {
   "cell_type": "code",
   "execution_count": 1,
   "metadata": {},
   "outputs": [
    {
     "name": "stderr",
     "output_type": "stream",
     "text": [
      "/home/lafes/anaconda3/envs/tensorflow/lib/python3.5/site-packages/IPython/html.py:14: ShimWarning: The `IPython.html` package has been deprecated since IPython 4.0. You should import from `notebook` instead. `IPython.html.widgets` has moved to `ipywidgets`.\n",
      "  \"`IPython.html.widgets` has moved to `ipywidgets`.\", ShimWarning)\n"
     ]
    }
   ],
   "source": [
    "# -*- coding: utf-8 -*-\n",
    "\n",
    "# pandas\n",
    "import pandas as pd\n",
    "\n",
    "# numpy, matplotlb, seaborn\n",
    "import numpy as np\n",
    "import matplotlib.pyplot as plt\n",
    "import seaborn as sns\n",
    "sns.set_style('whitegrid')\n",
    "%matplotlib inline\n",
    "import scipy.stats as st"
   ]
  },
  {
   "cell_type": "code",
   "execution_count": 2,
   "metadata": {
    "collapsed": true
   },
   "outputs": [],
   "source": [
    "# Import Dataset\n",
    "train_df = pd.read_csv('data/train.csv')\n",
    "test_df = pd.read_csv('data/test.csv')\n",
    "\n",
    "df = train_df.append(test_df, ignore_index=True) # train = df[:1460], test = df[1460:]\n",
    "df = df.drop('Id', axis=1)"
   ]
  },
  {
   "cell_type": "markdown",
   "metadata": {},
   "source": [
    "## Baseline Model\n",
    "A baseline model against to our feature engineering results."
   ]
  },
  {
   "cell_type": "markdown",
   "metadata": {},
   "source": [
    "### Preprocess"
   ]
  },
  {
   "cell_type": "code",
   "execution_count": 3,
   "metadata": {
    "collapsed": true
   },
   "outputs": [],
   "source": [
    "def preScoreTest(df):\n",
    "    train = df[:1460]\n",
    "    test = df[1460:]\n",
    "    \n",
    "    train = pd.get_dummies(train)\n",
    "    train = train.fillna(train.median())\n",
    "    \n",
    "    test = pd.get_dummies(test)\n",
    "    test = test.fillna(test.median())\n",
    "    \n",
    "    common_cols = list(set(train.columns.tolist()) & set(test.columns.tolist()))\n",
    "    test = test[common_cols]\n",
    "    test = test.drop('SalePrice', axis=1)\n",
    "    train = train[common_cols]\n",
    "    \n",
    "    X_train = train.drop('SalePrice', axis=1)\n",
    "    y_train = train['SalePrice']\n",
    "    X_test = test\n",
    "    return X_train, y_train, X_test"
   ]
  },
  {
   "cell_type": "code",
   "execution_count": 4,
   "metadata": {
    "collapsed": true
   },
   "outputs": [],
   "source": [
    "X_train, y_train, X_test = preScoreTest(df)"
   ]
  },
  {
   "cell_type": "markdown",
   "metadata": {},
   "source": [
    "### Modelling"
   ]
  },
  {
   "cell_type": "code",
   "execution_count": 5,
   "metadata": {
    "collapsed": true
   },
   "outputs": [],
   "source": [
    "from sklearn.ensemble import RandomForestRegressor\n",
    "from sklearn.model_selection import cross_val_score, KFold"
   ]
  },
  {
   "cell_type": "code",
   "execution_count": 6,
   "metadata": {
    "collapsed": true
   },
   "outputs": [],
   "source": [
    "def rmsle_cv(model):\n",
    "    rmse= np.sqrt(-cross_val_score(model, X_train, y_train, scoring=\"neg_mean_squared_error\", cv = 5))\n",
    "    return(rmse)"
   ]
  },
  {
   "cell_type": "code",
   "execution_count": 7,
   "metadata": {},
   "outputs": [
    {
     "name": "stdout",
     "output_type": "stream",
     "text": [
      "RMSE: 29827.56 (+/- 7879.92)\n"
     ]
    }
   ],
   "source": [
    "rfg = RandomForestRegressor(n_estimators=300, random_state=0, n_jobs=-1)\n",
    "scores = rmsle_cv(rfg)\n",
    "print(\"RMSE: %0.2f (+/- %0.2f)\" % (scores.mean(), scores.std() * 2))"
   ]
  },
  {
   "cell_type": "markdown",
   "metadata": {},
   "source": [
    "### Data Type Transformation\n",
    "* Numeric to Categoric  \n",
    "* Rank Fields to Numeric  "
   ]
  },
  {
   "cell_type": "code",
   "execution_count": 8,
   "metadata": {
    "collapsed": true
   },
   "outputs": [],
   "source": [
    "df['MSSubClass'] = df['MSSubClass'].astype('object')"
   ]
  },
  {
   "cell_type": "code",
   "execution_count": 9,
   "metadata": {
    "collapsed": true
   },
   "outputs": [],
   "source": [
    "df.BsmtCond =  df.BsmtCond.map({'NA':0, 'Po':1, 'Fa':2, 'TA':3, 'Gd':4, 'Ex':5})\n",
    "df.BsmtExposure = df.BsmtExposure.map({'NA':0, 'No':1, 'Mn':2, 'Av':3, 'Gd':4})\n",
    "df.BsmtFinType1 = df.BsmtFinType1.map({'NA':0, 'Unf':1, 'LwQ':2, 'Rec':3, 'BLQ':4, 'ALQ':5, 'GLQ':6})\n",
    "df.BsmtFinType2 = df.BsmtFinType2.map({'NA':0, 'Unf':1, 'LwQ':2, 'Rec':3, 'BLQ':4, 'ALQ':5, 'GLQ':6})\n",
    "df.BsmtQual = df.BsmtQual.map({'NA':0, 'Po':1, 'Fa':2, 'TA':3, 'Gd':4, 'Ex':5})\n",
    "\n",
    "df.ExterCond = df.ExterCond.map({'Po':1, 'Fa':2, 'TA':3, 'Gd':4, 'Ex':5})\n",
    "df.ExterQual = df.ExterQual.map({'Po':1, 'Fa':2, 'TA':3, 'Gd':4, 'Ex':5})\n",
    "\n",
    "df.FireplaceQu = df.FireplaceQu.map({'NA':0, 'Po':1, 'Fa':2, 'TA':3, 'Gd':4, 'Ex':5})\n",
    "\n",
    "df.GarageCond = df.GarageCond.map({'NA':0, 'Po':1, 'Fa':2, 'TA':3, 'Gd':4, 'Ex':5})\n",
    "df.GarageQual = df.GarageQual.map({'NA':0, 'Po':1, 'Fa':2, 'TA':3, 'Gd':4, 'Ex':5})\n",
    "\n",
    "df.HeatingQC = df.HeatingQC.map({'Po':1, 'Fa':2, 'TA':3, 'Gd':4, 'Ex':5})\n",
    "df.KitchenQual = df.KitchenQual.map({'Po':1, 'Fa':2, 'TA':3, 'Gd':4, 'Ex':5})\n",
    "df.PoolQC = df.PoolQC.map({'NA':0, 'Fa':1, 'TA':2, 'Gd':3, 'Ex':4})"
   ]
  },
  {
   "cell_type": "code",
   "execution_count": 10,
   "metadata": {},
   "outputs": [
    {
     "name": "stdout",
     "output_type": "stream",
     "text": [
      "RMSE: 29743.63 (+/- 7978.38)\n"
     ]
    }
   ],
   "source": [
    "X_train, y_train, test = preScoreTest(df)\n",
    "scores = rmsle_cv(rfg)\n",
    "print(\"RMSE: %0.2f (+/- %0.2f)\" % (scores.mean(), scores.std() * 2))"
   ]
  },
  {
   "cell_type": "markdown",
   "metadata": {},
   "source": [
    "### Imputation"
   ]
  },
  {
   "cell_type": "code",
   "execution_count": 11,
   "metadata": {},
   "outputs": [
    {
     "name": "stdout",
     "output_type": "stream",
     "text": [
      "              Missing   Percent\n",
      "PoolQC           2909  0.996574\n",
      "MiscFeature      2814  0.964029\n",
      "Alley            2721  0.932169\n",
      "Fence            2348  0.804385\n",
      "SalePrice        1459  0.499829\n",
      "FireplaceQu      1420  0.486468\n",
      "LotFrontage       486  0.166495\n",
      "GarageQual        159  0.054471\n",
      "GarageYrBlt       159  0.054471\n",
      "GarageFinish      159  0.054471\n",
      "GarageCond        159  0.054471\n",
      "GarageType        157  0.053786\n",
      "BsmtCond           82  0.028092\n",
      "BsmtExposure       82  0.028092\n",
      "BsmtQual           81  0.027749\n",
      "BsmtFinType2       80  0.027407\n",
      "BsmtFinType1       79  0.027064\n",
      "MasVnrType         24  0.008222\n",
      "MasVnrArea         23  0.007879\n",
      "MSZoning            4  0.001370\n",
      "BsmtHalfBath        2  0.000685\n",
      "Utilities           2  0.000685\n",
      "Functional          2  0.000685\n",
      "BsmtFullBath        2  0.000685\n",
      "Electrical          1  0.000343\n",
      "Exterior2nd         1  0.000343\n",
      "KitchenQual         1  0.000343\n",
      "GarageCars          1  0.000343\n",
      "Exterior1st         1  0.000343\n",
      "GarageArea          1  0.000343\n",
      "TotalBsmtSF         1  0.000343\n",
      "BsmtUnfSF           1  0.000343\n",
      "BsmtFinSF2          1  0.000343\n",
      "BsmtFinSF1          1  0.000343\n",
      "SaleType            1  0.000343\n"
     ]
    }
   ],
   "source": [
    "# Missing data in train set\n",
    "def missing_data(df):\n",
    "    missing = df.isnull().sum().sort_values(ascending=False)\n",
    "    percent = (df.isnull().sum() / df.isnull().count()).sort_values(ascending=False)\n",
    "    missing_data = pd.concat([missing, percent], axis=1, keys=['Missing', 'Percent'])\n",
    "    return missing_data\n",
    "missing = missing_data(df)\n",
    "print(missing.head(35))"
   ]
  },
  {
   "cell_type": "markdown",
   "metadata": {},
   "source": [
    "* PoolQC, MiscFeature, Alley, Fence, FireplaceQu, GarageX, BsmtX都是由於沒有(no Pool ,Miss Feature, Alley ...)，而非真的遺失因此填上\"No\"值。\n",
    "* 利用其他欄位預測LotFrontage的遺失值\n",
    "* 其餘遺失值都很低(<0.3%)，因此帶入最常見的數值"
   ]
  },
  {
   "cell_type": "code",
   "execution_count": 12,
   "metadata": {
    "collapsed": true
   },
   "outputs": [],
   "source": [
    "df_m = df.copy()"
   ]
  },
  {
   "cell_type": "code",
   "execution_count": 13,
   "metadata": {
    "collapsed": true
   },
   "outputs": [],
   "source": [
    "df_m['PoolQC'].fillna('No', inplace=True)\n",
    "df_m['Alley'].fillna('No', inplace=True)\n",
    "df_m['MiscFeature'].fillna('No', inplace=True)\n",
    "df_m['Fence'].fillna('No', inplace=True)\n",
    "df_m['FireplaceQu'].fillna('No', inplace=True)\n",
    "\n",
    "df_m['Fence'].fillna('No', inplace=True)\n",
    "\n",
    "df_m['GarageFinish'].fillna('No', inplace=True)\n",
    "df_m['GarageType'].fillna('No', inplace=True)\n",
    "df_m['GarageYrBlt'].fillna(0, inplace=True) \n",
    "df_m['GarageCond'].fillna(0, inplace=True)\n",
    "df_m['GarageQual'].fillna(0, inplace=True)\n",
    "df_m['GarageCars'].fillna(0, inplace=True)\n",
    "df_m['GarageArea'].fillna(0, inplace=True)\n",
    "\n",
    "df_m['BsmtFinType2'].fillna(0, inplace=True)\n",
    "df_m['BsmtExposure'].fillna(0, inplace=True)\n",
    "df_m['BsmtFinType1'].fillna(0, inplace=True)\n",
    "df_m['BsmtQual'].fillna(0, inplace=True)\n",
    "df_m['BsmtCond'].fillna(0, inplace=True)\n",
    "df_m['BsmtHalfBath'].fillna(0, inplace=True)\n",
    "df_m['BsmtFullBath'].fillna(0, inplace=True)\n",
    "df_m['BsmtFinSF1'].fillna(0, inplace=True)\n",
    "df_m['BsmtFinSF2'].fillna(0, inplace=True)\n",
    "df_m['TotalBsmtSF'].fillna(0, inplace=True)\n",
    "df_m['BsmtUnfSF'].fillna(0, inplace=True)\n",
    "\n",
    "df_m['MasVnrArea'].fillna(0, inplace=True)\n",
    "df_m['MasVnrType'].fillna('No', inplace=True)\n",
    "\n",
    "df_m['Electrical'].fillna('SBrkr', inplace=True)\n",
    "df_m['MSZoning'].fillna('RL', inplace=True)\n",
    "df_m['Functional'].fillna('Typ', inplace=True)\n",
    "df_m['SaleType'].fillna('WD', inplace=True)\n",
    "df_m['KitchenQual'].fillna(3, inplace=True)\n",
    "df_m['Exterior1st'].fillna('VinylSd', inplace=True)\n",
    "df_m['Exterior2nd'].fillna('VinylSd', inplace=True)\n",
    "\n",
    "df_m = df_m.drop('Utilities', axis=1)"
   ]
  },
  {
   "cell_type": "code",
   "execution_count": 14,
   "metadata": {},
   "outputs": [
    {
     "name": "stderr",
     "output_type": "stream",
     "text": [
      "/home/lafes/anaconda3/envs/tensorflow/lib/python3.5/site-packages/sklearn/cross_validation.py:44: DeprecationWarning: This module was deprecated in version 0.18 in favor of the model_selection module into which all the refactored classes and functions are moved. Also note that the interface of the new CV iterators are different from that of this module. This module will be removed in 0.20.\n",
      "  \"This module will be removed in 0.20.\", DeprecationWarning)\n"
     ]
    }
   ],
   "source": [
    "# Using xgboost to impute missing LotFrontage\n",
    "from xgboost import XGBRegressor\n",
    "\n",
    "null_idx = df_m.loc[df_m['LotFrontage'].isnull()].index\n",
    "\n",
    "df_lot = df_m.copy()\n",
    "df_lot = pd.get_dummies(df_lot)\n",
    "train_lot = df_lot.drop(df_lot.index[[null_idx]])\n",
    "test_lot = df_lot.loc[null_idx]\n",
    "\n",
    "test_lot.shape, train_lot.shape\n",
    "\n",
    "xgb = XGBRegressor(learning_rate=0.05,n_estimators=500,max_depth=3,colsample_bytree=0.4)\n",
    "xgb.fit(train_lot.drop(['LotFrontage', 'SalePrice'], axis=1), train_lot['LotFrontage'])\n",
    "pred_lot = xgb.predict(test_lot.drop(['LotFrontage', 'SalePrice'], axis=1))\n",
    "df_m.loc[null_idx, 'LotFrontage'] = pred_lot"
   ]
  },
  {
   "cell_type": "code",
   "execution_count": 15,
   "metadata": {},
   "outputs": [
    {
     "name": "stdout",
     "output_type": "stream",
     "text": [
      "            Missing   Percent\n",
      "SalePrice      1459  0.499829\n",
      "YrSold            0  0.000000\n",
      "Foundation        0  0.000000\n",
      "ExterCond         0  0.000000\n",
      "ExterQual         0  0.000000\n"
     ]
    }
   ],
   "source": [
    "missing = missing_data(df_m)\n",
    "print(missing.head(5))"
   ]
  },
  {
   "cell_type": "markdown",
   "metadata": {},
   "source": [
    "SalePrice missing at test.csv"
   ]
  },
  {
   "cell_type": "code",
   "execution_count": 16,
   "metadata": {},
   "outputs": [
    {
     "name": "stdout",
     "output_type": "stream",
     "text": [
      "RMSE: 29870.51 (+/- 8176.01)\n"
     ]
    }
   ],
   "source": [
    "X_train, y_train, test = preScoreTest(df_m)\n",
    "scores = rmsle_cv(rfg)\n",
    "print(\"RMSE: %0.2f (+/- %0.2f)\" % (scores.mean(), scores.std() * 2))"
   ]
  },
  {
   "cell_type": "markdown",
   "metadata": {},
   "source": [
    "錯誤在填補完後增加，是因為在做預處理的時候，若是遇見類別變數的遺失值會自動捨棄該欄位，因此推測我們填入的欄位有些是非常多餘的，應該發生在有大量遺失值的特徵中。"
   ]
  },
  {
   "cell_type": "markdown",
   "metadata": {},
   "source": [
    "## XGBoost!"
   ]
  },
  {
   "cell_type": "markdown",
   "metadata": {},
   "source": [
    "試試看其他算法！"
   ]
  },
  {
   "cell_type": "code",
   "execution_count": 17,
   "metadata": {},
   "outputs": [
    {
     "name": "stdout",
     "output_type": "stream",
     "text": [
      "RMSE: 25197.63 (+/- 7643.27)\n"
     ]
    }
   ],
   "source": [
    "xgb = XGBRegressor(learning_rate=0.05,n_estimators=500,max_depth=3,colsample_bytree=0.4)\n",
    "scores = rmsle_cv(xgb)\n",
    "print(\"RMSE: %0.2f (+/- %0.2f)\" % (scores.mean(), scores.std() * 2))"
   ]
  },
  {
   "cell_type": "markdown",
   "metadata": {},
   "source": [
    "## Data Exploring"
   ]
  },
  {
   "cell_type": "code",
   "execution_count": 18,
   "metadata": {
    "collapsed": true
   },
   "outputs": [],
   "source": [
    "from sklearn.feature_selection import SelectKBest, f_regression, mutual_info_regression\n",
    "\n",
    "# Univariate feature selection(top 20)\n",
    "selector = SelectKBest(f_regression, k=20).fit(X_train, y_train)\n",
    "keeps = selector.get_support(indices=True)\n",
    "f_reg = X_train.iloc[:, keeps].columns.tolist()\n",
    "\n",
    "selector = SelectKBest(mutual_info_regression, k=20).fit(X_train, y_train)\n",
    "keeps = selector.get_support(indices=True)\n",
    "mutual_info_reg = X_train.iloc[:, keeps].columns.tolist()"
   ]
  },
  {
   "cell_type": "code",
   "execution_count": 19,
   "metadata": {},
   "outputs": [
    {
     "name": "stdout",
     "output_type": "stream",
     "text": [
      "Features in both f_reg and mutual_info_reg:\n",
      "{'FireplaceQu_No', 'KitchenQual', 'TotRmsAbvGrd', 'Fireplaces', 'GarageArea', 'GarageCars', 'YearBuilt', 'ExterQual', 'TotalBsmtSF', 'BsmtQual', 'YearRemodAdd', 'OverallQual', 'Foundation_PConc', 'FullBath', 'GrLivArea', '1stFlrSF'}\n",
      "Features only in one side:\n",
      "{'2ndFlrSF', 'GarageYrBlt', 'LotArea', 'LotFrontage'}\n",
      "{'GarageFinish_Unf', 'HeatingQC', 'GarageFinish_Fin', 'MasVnrArea'}\n"
     ]
    }
   ],
   "source": [
    "print('Features in both f_reg and mutual_info_reg:\\n{}\\nFeatures only in one side:\\n{}\\n{}'.\n",
    "      format(set(f_reg) & set(mutual_info_reg), \n",
    "             set(mutual_info_reg) - set(f_reg), \n",
    "             set(f_reg) - set(mutual_info_reg)))"
   ]
  },
  {
   "cell_type": "code",
   "execution_count": 20,
   "metadata": {},
   "outputs": [
    {
     "data": {
      "text/plain": [
       "<matplotlib.axes._subplots.AxesSubplot at 0x7f7354a3de10>"
      ]
     },
     "execution_count": 20,
     "metadata": {},
     "output_type": "execute_result"
    },
    {
     "data": {
      "image/png": "[encoded data removed]",
      "text/plain": [
       "<matplotlib.figure.Figure at 0x7f7354a29518>"
      ]
     },
     "metadata": {},
     "output_type": "display_data"
    }
   ],
   "source": [
    "# GrLivArea\n",
    "data = pd.concat([df_m['SalePrice'], df_m['GrLivArea']], axis=1)\n",
    "data.plot.scatter(x='GrLivArea', y='SalePrice')"
   ]
  },
  {
   "cell_type": "code",
   "execution_count": 21,
   "metadata": {},
   "outputs": [
    {
     "data": {
      "text/plain": [
       "<matplotlib.axes._subplots.AxesSubplot at 0x7f734cf93780>"
      ]
     },
     "execution_count": 21,
     "metadata": {},
     "output_type": "execute_result"
    },
    {
     "data": {
      "image/png": "[encoded data removed]",
      "text/plain": [
       "<matplotlib.figure.Figure at 0x7f734cff27b8>"
      ]
     },
     "metadata": {},
     "output_type": "display_data"
    }
   ],
   "source": [
    "# Mean SalePrice in each Neighborhood\n",
    "loc_price = df_m[['Neighborhood', 'SalePrice']].groupby('Neighborhood')\n",
    "loc_price.mean().sort_values('SalePrice', ascending=False).plot(kind='bar', figsize=(8,6))"
   ]
  },
  {
   "cell_type": "code",
   "execution_count": 22,
   "metadata": {},
   "outputs": [
    {
     "data": {
      "text/plain": [
       "<matplotlib.axes._subplots.AxesSubplot at 0x7f734ce2a828>"
      ]
     },
     "execution_count": 22,
     "metadata": {},
     "output_type": "execute_result"
    },
    {
     "data": {
      "image/png": "[encoded data removed]",
      "text/plain": [
       "<matplotlib.figure.Figure at 0x7f734ce86710>"
      ]
     },
     "metadata": {},
     "output_type": "display_data"
    },
    {
     "data": {
      "image/png": "[encoded data removed]",
      "text/plain": [
       "<matplotlib.figure.Figure at 0x7f734ce23fd0>"
      ]
     },
     "metadata": {},
     "output_type": "display_data"
    }
   ],
   "source": [
    "# Garage\n",
    "df[['GarageArea', 'GarageCars']].groupby('GarageCars').mean().plot(kind='bar')\n",
    "\n",
    "data = pd.concat([df_m['SalePrice'], df_m['GarageArea']], axis=1)\n",
    "data.plot.scatter(x='GarageArea', y='SalePrice')"
   ]
  },
  {
   "cell_type": "code",
   "execution_count": 23,
   "metadata": {},
   "outputs": [
    {
     "data": {
      "text/plain": [
       "<matplotlib.axes._subplots.AxesSubplot at 0x7f7354379320>"
      ]
     },
     "execution_count": 23,
     "metadata": {},
     "output_type": "execute_result"
    },
    {
     "data": {
      "image/png": "[encoded data removed]",
      "text/plain": [
       "<matplotlib.figure.Figure at 0x7f735437ef28>"
      ]
     },
     "metadata": {},
     "output_type": "display_data"
    }
   ],
   "source": [
    "# House Age\n",
    "df_tmp = df_m.copy()\n",
    "df_tmp['HouseAge'] = df_tmp['YrSold'] - df_tmp['YearBuilt']\n",
    "sns.regplot(x='HouseAge', y='SalePrice', data=df_tmp)"
   ]
  },
  {
   "cell_type": "code",
   "execution_count": 24,
   "metadata": {},
   "outputs": [
    {
     "data": {
      "text/html": [
       "<div>\n",
       "<style>\n",
       "    .dataframe thead tr:only-child th {\n",
       "        text-align: right;\n",
       "    }\n",
       "\n",
       "    .dataframe thead th {\n",
       "        text-align: left;\n",
       "    }\n",
       "\n",
       "    .dataframe tbody tr th {\n",
       "        vertical-align: top;\n",
       "    }\n",
       "</style>\n",
       "<table border=\"1\" class=\"dataframe\">\n",
       "  <thead>\n",
       "    <tr style=\"text-align: right;\">\n",
       "      <th>CentralAir</th>\n",
       "      <th>N</th>\n",
       "      <th>Y</th>\n",
       "    </tr>\n",
       "    <tr>\n",
       "      <th>HeatingQC</th>\n",
       "      <th></th>\n",
       "      <th></th>\n",
       "    </tr>\n",
       "  </thead>\n",
       "  <tbody>\n",
       "    <tr>\n",
       "      <th>1</th>\n",
       "      <td>2</td>\n",
       "      <td>1</td>\n",
       "    </tr>\n",
       "    <tr>\n",
       "      <th>2</th>\n",
       "      <td>42</td>\n",
       "      <td>50</td>\n",
       "    </tr>\n",
       "    <tr>\n",
       "      <th>3</th>\n",
       "      <td>107</td>\n",
       "      <td>750</td>\n",
       "    </tr>\n",
       "    <tr>\n",
       "      <th>4</th>\n",
       "      <td>29</td>\n",
       "      <td>445</td>\n",
       "    </tr>\n",
       "    <tr>\n",
       "      <th>5</th>\n",
       "      <td>16</td>\n",
       "      <td>1477</td>\n",
       "    </tr>\n",
       "  </tbody>\n",
       "</table>\n",
       "</div>"
      ],
      "text/plain": [
       "CentralAir    N     Y\n",
       "HeatingQC            \n",
       "1             2     1\n",
       "2            42    50\n",
       "3           107   750\n",
       "4            29   445\n",
       "5            16  1477"
      ]
     },
     "execution_count": 24,
     "metadata": {},
     "output_type": "execute_result"
    }
   ],
   "source": [
    "# Heating and CentralAir\n",
    "pd.crosstab(df_m['HeatingQC'], df_m['CentralAir'])"
   ]
  },
  {
   "cell_type": "code",
   "execution_count": 25,
   "metadata": {},
   "outputs": [
    {
     "data": {
      "text/plain": [
       "<seaborn.axisgrid.FacetGrid at 0x7f73542a6208>"
      ]
     },
     "execution_count": 25,
     "metadata": {},
     "output_type": "execute_result"
    },
    {
     "data": {
      "image/png": "[encoded data removed]",
      "text/plain": [
       "<matplotlib.figure.Figure at 0x7f73542a12b0>"
      ]
     },
     "metadata": {},
     "output_type": "display_data"
    }
   ],
   "source": [
    "sns.factorplot('HeatingQC', 'SalePrice', hue = 'CentralAir', estimator = np.mean, data = df_m, \n",
    "             size = 4.5, aspect = 1.4)"
   ]
  },
  {
   "cell_type": "markdown",
   "metadata": {},
   "source": [
    "## Create / Discard Features"
   ]
  },
  {
   "cell_type": "code",
   "execution_count": 26,
   "metadata": {
    "collapsed": true
   },
   "outputs": [],
   "source": [
    "df_f = df_m.copy()"
   ]
  },
  {
   "cell_type": "code",
   "execution_count": 27,
   "metadata": {},
   "outputs": [
    {
     "name": "stdout",
     "output_type": "stream",
     "text": [
      "['3SsnPorch', 'Condition2', 'Heating', 'LowQualFinSF', 'PoolArea', 'PoolQC', 'RoofMatl', 'Street']\n"
     ]
    }
   ],
   "source": [
    "# Too much duplicate value in single column\n",
    "dup = [n for n in df_f.columns if df_f[n].value_counts().max()/len(df_f) > 0.97]\n",
    "print(dup)"
   ]
  },
  {
   "cell_type": "code",
   "execution_count": 28,
   "metadata": {
    "collapsed": true
   },
   "outputs": [],
   "source": [
    "df_f = df_f.drop(dup, axis=1)"
   ]
  },
  {
   "cell_type": "code",
   "execution_count": 29,
   "metadata": {
    "collapsed": true
   },
   "outputs": [],
   "source": [
    "# Total sq\n",
    "df_f['TotalSF'] = df_f['TotalBsmtSF'] + df_f['1stFlrSF'] + df_f['2ndFlrSF']"
   ]
  },
  {
   "cell_type": "code",
   "execution_count": 30,
   "metadata": {
    "collapsed": true
   },
   "outputs": [],
   "source": [
    "# Bath\n",
    "df_f['Bath'] = df_f['FullBath'] + 0.5 * df_f['HalfBath'] + df_f['BsmtFullBath'] + 0.5 * df_f['BsmtHalfBath']\n",
    "df_f = df_f.drop(['BsmtFullBath', 'BsmtHalfBath', 'FullBath', 'HalfBath'], axis=1)"
   ]
  },
  {
   "cell_type": "code",
   "execution_count": 31,
   "metadata": {},
   "outputs": [
    {
     "name": "stdout",
     "output_type": "stream",
     "text": [
      "RMSE: 24413.6551365\n"
     ]
    }
   ],
   "source": [
    "X_train, y_train, test = preScoreTest(df_f)\n",
    "print('RMSE:', rmsle_cv(xgb).mean())"
   ]
  },
  {
   "cell_type": "markdown",
   "metadata": {},
   "source": [
    "## Normality"
   ]
  },
  {
   "cell_type": "code",
   "execution_count": 32,
   "metadata": {
    "collapsed": true
   },
   "outputs": [],
   "source": [
    "df_normal = df_f.copy()"
   ]
  },
  {
   "cell_type": "code",
   "execution_count": 33,
   "metadata": {},
   "outputs": [
    {
     "data": {
      "text/plain": [
       "1stFlrSF          1.470360\n",
       "2ndFlrSF          0.862118\n",
       "BedroomAbvGr      0.326492\n",
       "BsmtCond         -3.605964\n",
       "BsmtExposure      1.117303\n",
       "BsmtFinSF1        1.425963\n",
       "BsmtFinSF2        4.148275\n",
       "BsmtFinType1     -0.149621\n",
       "BsmtFinType2      3.153959\n",
       "BsmtQual         -1.269195\n",
       "BsmtUnfSF         0.919812\n",
       "EnclosedPorch     4.005950\n",
       "ExterCond         1.316590\n",
       "ExterQual         0.786786\n",
       "Fireplaces        0.733872\n",
       "GarageArea        0.239380\n",
       "GarageCars       -0.219694\n",
       "GarageCond       -3.384860\n",
       "GarageQual       -3.265354\n",
       "GarageYrBlt      -3.908213\n",
       "GrLivArea         1.270010\n",
       "HeatingQC        -0.550192\n",
       "KitchenAbvGr      4.304467\n",
       "KitchenQual       0.438761\n",
       "LotArea          12.829025\n",
       "LotFrontage       1.315325\n",
       "MasVnrArea        2.614936\n",
       "MiscVal          21.958480\n",
       "MoSold            0.195985\n",
       "OpenPorchSF       2.536417\n",
       "OverallCond       0.570605\n",
       "OverallQual       0.197212\n",
       "SalePrice         1.882876\n",
       "ScreenPorch       3.948723\n",
       "TotRmsAbvGrd      0.758757\n",
       "TotalBsmtSF       1.157489\n",
       "WoodDeckSF        1.843380\n",
       "YearBuilt        -0.600114\n",
       "YearRemodAdd     -0.451252\n",
       "YrSold            0.132467\n",
       "TotalSF           1.512256\n",
       "Bath              0.492500\n",
       "dtype: float64"
      ]
     },
     "execution_count": 33,
     "metadata": {},
     "output_type": "execute_result"
    }
   ],
   "source": [
    "# skewness of features\n",
    "numeric_cols = [f for f in df_normal if df_normal.dtypes[f] != 'object']\n",
    "df_normal[numeric_cols].skew()"
   ]
  },
  {
   "cell_type": "code",
   "execution_count": 34,
   "metadata": {},
   "outputs": [
    {
     "data": {
      "text/plain": [
       "Index(['1stFlrSF', '2ndFlrSF', 'BsmtExposure', 'BsmtFinSF1', 'BsmtFinSF2',\n",
       "       'BsmtFinType2', 'BsmtUnfSF', 'EnclosedPorch', 'ExterCond', 'ExterQual',\n",
       "       'GrLivArea', 'KitchenAbvGr', 'LotArea', 'LotFrontage', 'MasVnrArea',\n",
       "       'MiscVal', 'OpenPorchSF', 'SalePrice', 'ScreenPorch', 'TotRmsAbvGrd',\n",
       "       'TotalBsmtSF', 'WoodDeckSF', 'TotalSF'],\n",
       "      dtype='object')"
      ]
     },
     "execution_count": 34,
     "metadata": {},
     "output_type": "execute_result"
    }
   ],
   "source": [
    "skew =df_normal[numeric_cols].columns[df_normal[numeric_cols].skew() > 0.75]\n",
    "skew"
   ]
  },
  {
   "cell_type": "code",
   "execution_count": 35,
   "metadata": {
    "collapsed": true
   },
   "outputs": [],
   "source": [
    "for i in skew.values:\n",
    "    df_normal[i] = np.log1p(df_normal[i])"
   ]
  },
  {
   "cell_type": "code",
   "execution_count": 36,
   "metadata": {},
   "outputs": [
    {
     "name": "stdout",
     "output_type": "stream",
     "text": [
      "RMSE: 0.1176 (+/- 0.02)\n"
     ]
    }
   ],
   "source": [
    "X_train, y_train, test = preScoreTest(df_normal)\n",
    "scores = rmsle_cv(xgb)\n",
    "print(\"RMSE: %0.4f (+/- %0.2f)\" % (scores.mean(), scores.std() * 2))"
   ]
  },
  {
   "cell_type": "markdown",
   "metadata": {},
   "source": [
    "### Outlier Detection"
   ]
  },
  {
   "cell_type": "code",
   "execution_count": 37,
   "metadata": {
    "collapsed": true
   },
   "outputs": [],
   "source": [
    "df_out = df_normal.copy()\n",
    "X_train, y_train, X_test = preScoreTest(df_out)"
   ]
  },
  {
   "cell_type": "code",
   "execution_count": null,
   "metadata": {},
   "outputs": [],
   "source": [
    "import statsmodels.api as sm\n",
    "\n",
    "regressor = sm.OLS(X_train, y_train).fit()\n",
    "result = regressor.outlier_test()"
   ]
  },
  {
   "cell_type": "code",
   "execution_count": null,
   "metadata": {},
   "outputs": [],
   "source": [
    "outlier = result['bonf(p)']\n",
    "outlier = outlier[outlier<1e-3].index\n",
    "print(outlier)"
   ]
  },
  {
   "cell_type": "code",
   "execution_count": 38,
   "metadata": {},
   "outputs": [],
   "source": [
    "outlier = [462, 523, 632, 968, 1298, 1324]"
   ]
  },
  {
   "cell_type": "code",
   "execution_count": 39,
   "metadata": {
    "collapsed": true
   },
   "outputs": [],
   "source": [
    "X_train = X_train.drop(outlier, axis=0)\n",
    "y_train = y_train.drop(outlier, axis=0)"
   ]
  },
  {
   "cell_type": "code",
   "execution_count": 40,
   "metadata": {},
   "outputs": [
    {
     "name": "stdout",
     "output_type": "stream",
     "text": [
      "RMSE: 0.1068 (+/- 0.01)\n"
     ]
    }
   ],
   "source": [
    "scores = rmsle_cv(xgb)\n",
    "print(\"RMSE: %0.4f (+/- %0.2f)\" % (scores.mean(), scores.std() * 2))"
   ]
  },
  {
   "cell_type": "markdown",
   "metadata": {},
   "source": [
    "## Model Selection"
   ]
  },
  {
   "cell_type": "code",
   "execution_count": 41,
   "metadata": {
    "collapsed": true
   },
   "outputs": [],
   "source": [
    "from sklearn.linear_model import ElasticNet, Lasso, OrthogonalMatchingPursuit\n",
    "from sklearn.ensemble import GradientBoostingRegressor\n",
    "from sklearn.base import BaseEstimator, TransformerMixin, RegressorMixin, clone\n",
    "from sklearn.model_selection import KFold, cross_val_score, train_test_split\n",
    "from sklearn.metrics import mean_squared_error\n",
    "import lightgbm"
   ]
  },
  {
   "cell_type": "code",
   "execution_count": 42,
   "metadata": {
    "collapsed": true
   },
   "outputs": [],
   "source": [
    "lasso = Lasso(alpha =0.001, random_state=1)\n",
    "ENet = ElasticNet(alpha=0.001, l1_ratio=.9, random_state=3)\n",
    "GBoost = GradientBoostingRegressor(n_estimators=3000, learning_rate=0.05,\n",
    "                                   max_depth=4, max_features='sqrt',\n",
    "                                   min_samples_leaf=15, min_samples_split=10, \n",
    "                                   loss='huber', random_state =5)\n",
    "xgb = XGBRegressor(colsample_bytree=0.2, learning_rate=0.05, max_depth=3, n_estimators=1200)\n",
    "orth = OrthogonalMatchingPursuit()\n",
    "lgb = lightgbm.LGBMRegressor(objective='regression', learning_rate=0.05, n_estimators=720)"
   ]
  },
  {
   "cell_type": "code",
   "execution_count": 43,
   "metadata": {},
   "outputs": [
    {
     "name": "stderr",
     "output_type": "stream",
     "text": [
      "/home/lafes/anaconda3/envs/tensorflow/lib/python3.5/site-packages/sklearn/linear_model/coordinate_descent.py:484: ConvergenceWarning: Objective did not converge. You might want to increase the number of iterations. Fitting data with very small alpha may cause precision problems.\n",
      "  ConvergenceWarning)\n",
      "/home/lafes/anaconda3/envs/tensorflow/lib/python3.5/site-packages/sklearn/linear_model/coordinate_descent.py:484: ConvergenceWarning: Objective did not converge. You might want to increase the number of iterations. Fitting data with very small alpha may cause precision problems.\n",
      "  ConvergenceWarning)\n",
      "/home/lafes/anaconda3/envs/tensorflow/lib/python3.5/site-packages/sklearn/linear_model/coordinate_descent.py:484: ConvergenceWarning: Objective did not converge. You might want to increase the number of iterations. Fitting data with very small alpha may cause precision problems.\n",
      "  ConvergenceWarning)\n",
      "/home/lafes/anaconda3/envs/tensorflow/lib/python3.5/site-packages/sklearn/linear_model/coordinate_descent.py:484: ConvergenceWarning: Objective did not converge. You might want to increase the number of iterations. Fitting data with very small alpha may cause precision problems.\n",
      "  ConvergenceWarning)\n"
     ]
    }
   ],
   "source": [
    "def scoreTest(models):\n",
    "    score = {}\n",
    "    predict = {}\n",
    "    for m in models:\n",
    "        name = m.__class__.__name__\n",
    "        mean = rmsle_cv(m).mean()\n",
    "        score[name] = mean\n",
    "        \n",
    "        m.fit(X_train, y_train)\n",
    "        y_pred = m.predict(X_test)\n",
    "        \n",
    "        predict[name] = y_pred\n",
    "    score = pd.Series(score)\n",
    "    predict = pd.DataFrame(predict)\n",
    "    return score, predict\n",
    "result, predict = scoreTest(models = [lasso ,ENet, GBoost, xgb, orth, lgb])\n"
   ]
  },
  {
   "cell_type": "code",
   "execution_count": 44,
   "metadata": {},
   "outputs": [
    {
     "data": {
      "text/html": [
       "<div>\n",
       "<style>\n",
       "    .dataframe thead tr:only-child th {\n",
       "        text-align: right;\n",
       "    }\n",
       "\n",
       "    .dataframe thead th {\n",
       "        text-align: left;\n",
       "    }\n",
       "\n",
       "    .dataframe tbody tr th {\n",
       "        vertical-align: top;\n",
       "    }\n",
       "</style>\n",
       "<table border=\"1\" class=\"dataframe\">\n",
       "  <thead>\n",
       "    <tr style=\"text-align: right;\">\n",
       "      <th></th>\n",
       "      <th>ElasticNet</th>\n",
       "      <th>GradientBoostingRegressor</th>\n",
       "      <th>LGBMRegressor</th>\n",
       "      <th>Lasso</th>\n",
       "      <th>OrthogonalMatchingPursuit</th>\n",
       "      <th>XGBRegressor</th>\n",
       "    </tr>\n",
       "  </thead>\n",
       "  <tbody>\n",
       "    <tr>\n",
       "      <th>ElasticNet</th>\n",
       "      <td>1.000000</td>\n",
       "      <td>0.985230</td>\n",
       "      <td>0.981590</td>\n",
       "      <td>0.999970</td>\n",
       "      <td>0.989629</td>\n",
       "      <td>0.989543</td>\n",
       "    </tr>\n",
       "    <tr>\n",
       "      <th>GradientBoostingRegressor</th>\n",
       "      <td>0.985230</td>\n",
       "      <td>1.000000</td>\n",
       "      <td>0.989657</td>\n",
       "      <td>0.985137</td>\n",
       "      <td>0.972513</td>\n",
       "      <td>0.991546</td>\n",
       "    </tr>\n",
       "    <tr>\n",
       "      <th>LGBMRegressor</th>\n",
       "      <td>0.981590</td>\n",
       "      <td>0.989657</td>\n",
       "      <td>1.000000</td>\n",
       "      <td>0.981452</td>\n",
       "      <td>0.972686</td>\n",
       "      <td>0.989063</td>\n",
       "    </tr>\n",
       "    <tr>\n",
       "      <th>Lasso</th>\n",
       "      <td>0.999970</td>\n",
       "      <td>0.985137</td>\n",
       "      <td>0.981452</td>\n",
       "      <td>1.000000</td>\n",
       "      <td>0.989502</td>\n",
       "      <td>0.989263</td>\n",
       "    </tr>\n",
       "    <tr>\n",
       "      <th>OrthogonalMatchingPursuit</th>\n",
       "      <td>0.989629</td>\n",
       "      <td>0.972513</td>\n",
       "      <td>0.972686</td>\n",
       "      <td>0.989502</td>\n",
       "      <td>1.000000</td>\n",
       "      <td>0.981387</td>\n",
       "    </tr>\n",
       "    <tr>\n",
       "      <th>XGBRegressor</th>\n",
       "      <td>0.989543</td>\n",
       "      <td>0.991546</td>\n",
       "      <td>0.989063</td>\n",
       "      <td>0.989263</td>\n",
       "      <td>0.981387</td>\n",
       "      <td>1.000000</td>\n",
       "    </tr>\n",
       "  </tbody>\n",
       "</table>\n",
       "</div>"
      ],
      "text/plain": [
       "                           ElasticNet  GradientBoostingRegressor  \\\n",
       "ElasticNet                   1.000000                   0.985230   \n",
       "GradientBoostingRegressor    0.985230                   1.000000   \n",
       "LGBMRegressor                0.981590                   0.989657   \n",
       "Lasso                        0.999970                   0.985137   \n",
       "OrthogonalMatchingPursuit    0.989629                   0.972513   \n",
       "XGBRegressor                 0.989543                   0.991546   \n",
       "\n",
       "                           LGBMRegressor     Lasso  OrthogonalMatchingPursuit  \\\n",
       "ElasticNet                      0.981590  0.999970                   0.989629   \n",
       "GradientBoostingRegressor       0.989657  0.985137                   0.972513   \n",
       "LGBMRegressor                   1.000000  0.981452                   0.972686   \n",
       "Lasso                           0.981452  1.000000                   0.989502   \n",
       "OrthogonalMatchingPursuit       0.972686  0.989502                   1.000000   \n",
       "XGBRegressor                    0.989063  0.989263                   0.981387   \n",
       "\n",
       "                           XGBRegressor  \n",
       "ElasticNet                     0.989543  \n",
       "GradientBoostingRegressor      0.991546  \n",
       "LGBMRegressor                  0.989063  \n",
       "Lasso                          0.989263  \n",
       "OrthogonalMatchingPursuit      0.981387  \n",
       "XGBRegressor                   1.000000  "
      ]
     },
     "execution_count": 44,
     "metadata": {},
     "output_type": "execute_result"
    }
   ],
   "source": [
    "predict.corr()"
   ]
  },
  {
   "cell_type": "code",
   "execution_count": 45,
   "metadata": {},
   "outputs": [
    {
     "data": {
      "text/plain": [
       "XGBRegressor                 0.104734\n",
       "ElasticNet                   0.106845\n",
       "Lasso                        0.107447\n",
       "GradientBoostingRegressor    0.109447\n",
       "LGBMRegressor                0.118496\n",
       "OrthogonalMatchingPursuit    0.119163\n",
       "dtype: float64"
      ]
     },
     "execution_count": 45,
     "metadata": {},
     "output_type": "execute_result"
    }
   ],
   "source": [
    "result.sort_values()"
   ]
  },
  {
   "cell_type": "code",
   "execution_count": 46,
   "metadata": {
    "collapsed": true
   },
   "outputs": [],
   "source": [
    "class AveragingModels(BaseEstimator, RegressorMixin, TransformerMixin):\n",
    "    def __init__(self, models):\n",
    "        self.models = models\n",
    "        \n",
    "    # we define clones of the original models to fit the data in\n",
    "    def fit(self, X, y):\n",
    "        self.models_ = [clone(x) for x in self.models]\n",
    "        \n",
    "        # Train cloned base models\n",
    "        for model in self.models_:\n",
    "            model.fit(X, y)\n",
    "\n",
    "        return self\n",
    "    \n",
    "    #Now we do the predictions for cloned models and average them\n",
    "    def predict(self, X):\n",
    "        predictions = np.column_stack([\n",
    "            model.predict(X) for model in self.models_\n",
    "        ])\n",
    "        return np.mean(predictions, axis=1)   "
   ]
  },
  {
   "cell_type": "code",
   "execution_count": 47,
   "metadata": {},
   "outputs": [
    {
     "name": "stderr",
     "output_type": "stream",
     "text": [
      "/home/lafes/anaconda3/envs/tensorflow/lib/python3.5/site-packages/sklearn/linear_model/coordinate_descent.py:484: ConvergenceWarning: Objective did not converge. You might want to increase the number of iterations. Fitting data with very small alpha may cause precision problems.\n",
      "  ConvergenceWarning)\n",
      "/home/lafes/anaconda3/envs/tensorflow/lib/python3.5/site-packages/sklearn/linear_model/coordinate_descent.py:484: ConvergenceWarning: Objective did not converge. You might want to increase the number of iterations. Fitting data with very small alpha may cause precision problems.\n",
      "  ConvergenceWarning)\n",
      "/home/lafes/anaconda3/envs/tensorflow/lib/python3.5/site-packages/sklearn/linear_model/coordinate_descent.py:484: ConvergenceWarning: Objective did not converge. You might want to increase the number of iterations. Fitting data with very small alpha may cause precision problems.\n",
      "  ConvergenceWarning)\n",
      "/home/lafes/anaconda3/envs/tensorflow/lib/python3.5/site-packages/sklearn/linear_model/coordinate_descent.py:484: ConvergenceWarning: Objective did not converge. You might want to increase the number of iterations. Fitting data with very small alpha may cause precision problems.\n",
      "  ConvergenceWarning)\n"
     ]
    },
    {
     "name": "stdout",
     "output_type": "stream",
     "text": [
      " Averaged base models score: 0.1018 (+/-0.0048)\n",
      "\n"
     ]
    }
   ],
   "source": [
    "averaged_models = AveragingModels(models = (lasso ,ENet, GBoost, orth, lgb, xgb))\n",
    "\n",
    "score = rmsle_cv(averaged_models)\n",
    "print(\" Averaged base models score: {:.4f} (+/-{:.4f})\\n\".format(score.mean(), score.std()))"
   ]
  },
  {
   "cell_type": "code",
   "execution_count": 48,
   "metadata": {},
   "outputs": [],
   "source": [
    "averaged_models.fit(X_train, y_train)\n",
    "stacked_pred = np.expm1(averaged_models.predict(X_test))"
   ]
  },
  {
   "cell_type": "code",
   "execution_count": 49,
   "metadata": {
    "collapsed": true
   },
   "outputs": [],
   "source": [
    "submission = pd.DataFrame({\n",
    "    'Id':test_df['Id'],\n",
    "    'SalePrice':stacked_pred\n",
    "})\n",
    "submission.to_csv('avg_ensemble', index=False)"
   ]
  },
  {
   "cell_type": "markdown",
   "metadata": {},
   "source": [
    "## Interpretation\n",
    "ref:   \n",
    "[Selecting Good Featuers](http://blog.datadive.net/selecting-good-features-part-ii-linear-models-and-regularization/)  \n",
    "[Regularized Linear Models](https://www.kaggle.com/apapiu/regularized-linear-models)"
   ]
  },
  {
   "cell_type": "code",
   "execution_count": 50,
   "metadata": {
    "collapsed": true
   },
   "outputs": [],
   "source": [
    "from sklearn.linear_model import Ridge\n",
    "\n",
    "model_ridge = Ridge()\n",
    "alphas = [0.05, 0.1, 0.3, 1, 3, 5, 7, 10, 15, 30, 50, 75]\n",
    "cv_ridge = [rmsle_cv(Ridge(alpha = alpha)).mean() \n",
    "            for alpha in alphas]"
   ]
  },
  {
   "cell_type": "code",
   "execution_count": 51,
   "metadata": {},
   "outputs": [
    {
     "data": {
      "text/plain": [
       "<matplotlib.text.Text at 0x7f734c0334e0>"
      ]
     },
     "execution_count": 51,
     "metadata": {},
     "output_type": "execute_result"
    },
    {
     "data": {
      "image/png": "[encoded data removed]",
      "text/plain": [
       "<matplotlib.figure.Figure at 0x7f734c030780>"
      ]
     },
     "metadata": {},
     "output_type": "display_data"
    }
   ],
   "source": [
    "cv_ridge = pd.Series(cv_ridge, index = alphas)\n",
    "cv_ridge.plot()\n",
    "plt.xlabel(\"alpha\")\n",
    "plt.ylabel(\"rmse\")"
   ]
  },
  {
   "cell_type": "markdown",
   "metadata": {},
   "source": [
    "min at alpha=7 "
   ]
  },
  {
   "cell_type": "code",
   "execution_count": 52,
   "metadata": {},
   "outputs": [
    {
     "data": {
      "text/plain": [
       "Ridge(alpha=1.0, copy_X=True, fit_intercept=True, max_iter=None,\n",
       "   normalize=False, random_state=None, solver='auto', tol=0.001)"
      ]
     },
     "execution_count": 52,
     "metadata": {},
     "output_type": "execute_result"
    }
   ],
   "source": [
    "model_ridge.fit(X_train, y_train)"
   ]
  },
  {
   "cell_type": "code",
   "execution_count": 53,
   "metadata": {},
   "outputs": [
    {
     "data": {
      "text/plain": [
       "<matplotlib.axes._subplots.AxesSubplot at 0x7f73379624a8>"
      ]
     },
     "execution_count": 53,
     "metadata": {},
     "output_type": "execute_result"
    },
    {
     "data": {
      "image/png": "[encoded data removed]",
      "text/plain": [
       "<matplotlib.figure.Figure at 0x7f7337965e80>"
      ]
     },
     "metadata": {},
     "output_type": "display_data"
    }
   ],
   "source": [
    "coef = pd.Series(model_ridge.coef_, index=X_train.columns)\n",
    "imp_coef = coef.sort_values(ascending=False).head(20)\n",
    "\n",
    "plt.title('Top 20 importance coeffience on House Price')\n",
    "imp_coef.plot(kind = 'bar', figsize=(6, 8))\n"
   ]
  }
 ],
 "metadata": {
  "kernelspec": {
   "display_name": "Python 3",
   "language": "python",
   "name": "python3"
  },
  "language_info": {
   "codemirror_mode": {
    "name": "ipython",
    "version": 3
   },
   "file_extension": ".py",
   "mimetype": "text/x-python",
   "name": "python",
   "nbconvert_exporter": "python",
   "pygments_lexer": "ipython3",
   "version": "3.5.3"
  }
 },
 "nbformat": 4,
 "nbformat_minor": 2
}
