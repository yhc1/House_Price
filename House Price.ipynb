{
 "cells": [
  {
   "cell_type": "markdown",
   "metadata": {},
   "source": [
    "利用[Ames Housing dataset](https://ww2.amstat.org/publications/jse/v19n3/decock.pdf)預測房價"
   ]
  },
  {
   "cell_type": "markdown",
   "metadata": {},
   "source": [
    "## Data Clean\n",
    "* Data type tranformation\n",
    "* Basic Imputation\n",
    "* Basic Outlier Detection"
   ]
  },
  {
   "cell_type": "markdown",
   "metadata": {},
   "source": [
    "## Data Transformation\n",
    "* Feature Selection\n",
    "* Normality\n",
    "* Advanced Imputation\n",
    "* Advanced Outlier Detection"
   ]
  },
  {
   "cell_type": "markdown",
   "metadata": {},
   "source": [
    "### TODO...\n",
    "* [Features Important Analysis](https://www.kaggle.com/jimthompson/boruta-feature-importance-analysis)\n",
    "* [Model Stacking](https://www.kaggle.com/c/house-prices-advanced-regression-techniques/discussion/23409)\n",
    "* Advanced Outlier Detection\n",
    "* Hyper parameter Tunning"
   ]
  },
  {
   "cell_type": "code",
   "execution_count": 80,
   "metadata": {
    "collapsed": true
   },
   "outputs": [],
   "source": [
    "# -*- coding: utf-8 -*-\n",
    "\n",
    "# pandas\n",
    "import pandas as pd\n",
    "\n",
    "# numpy, matplotlb, seaborn\n",
    "import numpy as np\n",
    "import matplotlib.pyplot as plt\n",
    "import seaborn as sns\n",
    "sns.set_style('whitegrid')\n",
    "%matplotlib inline\n",
    "import scipy.stats as st"
   ]
  },
  {
   "cell_type": "code",
   "execution_count": 94,
   "metadata": {
    "collapsed": false
   },
   "outputs": [
    {
     "data": {
      "text/plain": [
       "((1460, 81), (1459, 80), (2919, 81))"
      ]
     },
     "execution_count": 94,
     "metadata": {},
     "output_type": "execute_result"
    }
   ],
   "source": [
    "# Import Dataset\n",
    "train_df = pd.read_csv('data/train.csv')\n",
    "test_df = pd.read_csv('data/test.csv')\n",
    "\n",
    "df = train_df.append(test_df, ignore_index=True)\n",
    "train_df.shape, test_df.shape, df.shape"
   ]
  },
  {
   "cell_type": "markdown",
   "metadata": {},
   "source": [
    "## Baseline Model\n",
    "A baseline model against to our feature engineering results."
   ]
  },
  {
   "cell_type": "markdown",
   "metadata": {},
   "source": [
    "### Preprocess"
   ]
  },
  {
   "cell_type": "code",
   "execution_count": 105,
   "metadata": {
    "collapsed": false
   },
   "outputs": [
    {
     "data": {
      "text/plain": [
       "1461"
      ]
     },
     "execution_count": 105,
     "metadata": {},
     "output_type": "execute_result"
    }
   ],
   "source": [
    "test_df.iloc[0]['Id']"
   ]
  },
  {
   "cell_type": "code",
   "execution_count": 106,
   "metadata": {
    "collapsed": false
   },
   "outputs": [
    {
     "data": {
      "text/plain": [
       "1461"
      ]
     },
     "execution_count": 106,
     "metadata": {},
     "output_type": "execute_result"
    }
   ],
   "source": [
    "df.iloc[1460]['Id']"
   ]
  },
  {
   "cell_type": "code",
   "execution_count": 120,
   "metadata": {
    "collapsed": true
   },
   "outputs": [],
   "source": [
    "def preScoreTest(x, y=None):\n",
    "    x = pd.get_dummies(x)\n",
    "    x = x.fillna(x.median())\n",
    "    y = pd.get_dummies(y)\n",
    "    y = y.fillna(y.median())\n",
    "    common_cols = list(set(x.columns.tolist()) & set(y.columns.tolist()))\n",
    "    y = y[common_cols]\n",
    "    common_cols.append('SalePrice')\n",
    "    x = x[common_cols]\n",
    "    return x, y"
   ]
  },
  {
   "cell_type": "code",
   "execution_count": 131,
   "metadata": {
    "collapsed": true
   },
   "outputs": [],
   "source": [
    "def preScoreTest(df):\n",
    "    df = pd.get_dummies(df)\n",
    "    df = df.fillna(df.median())\n",
    "    train = df[:1460]\n",
    "    test = df[1460:]\n",
    "    return train, test"
   ]
  },
  {
   "cell_type": "code",
   "execution_count": 132,
   "metadata": {
    "collapsed": false
   },
   "outputs": [],
   "source": [
    "train, test = preScoreTest(df)"
   ]
  },
  {
   "cell_type": "code",
   "execution_count": 121,
   "metadata": {
    "collapsed": false
   },
   "outputs": [],
   "source": [
    "train, test = preScoreTest(train_df, test_df)"
   ]
  },
  {
   "cell_type": "markdown",
   "metadata": {},
   "source": [
    "### Modelling"
   ]
  },
  {
   "cell_type": "code",
   "execution_count": 126,
   "metadata": {
    "collapsed": false
   },
   "outputs": [
    {
     "name": "stdout",
     "output_type": "stream",
     "text": [
      "CV score is: 0.847038344571\n"
     ]
    }
   ],
   "source": [
    "from sklearn.ensemble import RandomForestRegressor\n",
    "from sklearn.model_selection import cross_val_score\n",
    "\n",
    "rfg = RandomForestRegressor(n_estimators=300, random_state=0, n_jobs=-1)\n",
    "accuracies = cross_val_score(estimator = rfg, X = train.drop('SalePrice', axis=1), y = train['SalePrice'], cv = 10, n_jobs=-1)\n",
    "print('CV score is:', accuracies.mean())"
   ]
  },
  {
   "cell_type": "code",
   "execution_count": 134,
   "metadata": {
    "collapsed": false
   },
   "outputs": [],
   "source": [
    "rfg.fit(train.drop('SalePrice', axis=1), y=train['SalePrice'])\n",
    "y_pred = rfg.predict(test.drop('SalePrice', axis=1))"
   ]
  },
  {
   "cell_type": "code",
   "execution_count": 135,
   "metadata": {
    "collapsed": true
   },
   "outputs": [],
   "source": [
    "submission = pd.DataFrame({\n",
    "    'Id':test_df['Id'],\n",
    "    'SalePrice':y_pred\n",
    "})\n",
    "submission.to_csv('sub_base', index=False)"
   ]
  },
  {
   "cell_type": "markdown",
   "metadata": {},
   "source": [
    "### Data Type Transformation\n",
    "* Turn numeric to categoric  \n",
    "* Turn rank fields to numeric  \n",
    "Some of the columns which represent property's quality be treated as numeric columns."
   ]
  },
  {
   "cell_type": "code",
   "execution_count": 85,
   "metadata": {
    "collapsed": false
   },
   "outputs": [],
   "source": [
    "train_df['MSSubClass'] = train_df['MSSubClass'].astype('object')\n",
    "train_df['MoSold'] = train_df['MoSold'].astype('object')\n",
    "train_df['YrSold'] = train_df['YrSold'].astype('object')"
   ]
  },
  {
   "cell_type": "code",
   "execution_count": 86,
   "metadata": {
    "collapsed": true
   },
   "outputs": [],
   "source": [
    "test_df['MSSubClass'] = test_df['MSSubClass'].astype('object')\n",
    "test_df['MoSold'] = test_df['MoSold'].astype('object')\n",
    "test_df['YrSold'] = test_df['YrSold'].astype('object')"
   ]
  },
  {
   "cell_type": "code",
   "execution_count": 87,
   "metadata": {
    "collapsed": true
   },
   "outputs": [],
   "source": [
    "train_df.BsmtCond =  train_df.BsmtCond.map({'NA':0, 'Po':1, 'Fa':2, 'TA':3, 'Gd':4, 'Ex':5})\n",
    "train_df.BsmtExposure = train_df.BsmtExposure.map({'NA':0, 'No':1, 'Mn':2, 'Av':3, 'Gd':4})\n",
    "train_df['BsmtFinType1'] = train_df['BsmtFinType1'].map({'NA':0, 'Unf':1, 'LwQ':2, 'Rec':3, 'BLQ':4, 'ALQ':5, 'GLQ':6})\n",
    "train_df['BsmtFinType2'] = train_df['BsmtFinType2'].map({'NA':0, 'Unf':1, 'LwQ':2, 'Rec':3, 'BLQ':4, 'ALQ':5, 'GLQ':6})\n",
    "train_df.BsmtQual = train_df.BsmtQual.map({'NA':0, 'Po':1, 'Fa':2, 'TA':3, 'Gd':4, 'Ex':5})\n",
    "train_df.ExterCond = train_df.ExterCond.map({'Po':1, 'Fa':2, 'TA':3, 'Gd':4, 'Ex':5})\n",
    "train_df.ExterQual = train_df.ExterQual.map({'Po':1, 'Fa':2, 'TA':3, 'Gd':4, 'Ex':5})\n",
    "train_df.FireplaceQu = train_df.FireplaceQu.map({'NA':0, 'Po':1, 'Fa':2, 'TA':3, 'Gd':4, 'Ex':5})\n",
    "train_df.Functional = train_df.Functional.map({'Sal':1, 'Sev':2, 'Maj2':3, 'Maj1':4, 'Mod':5, 'Min2':6, 'Min1':7, 'Typ':8})\n",
    "train_df.GarageCond = train_df.GarageCond.map({'NA':0, 'Po':1, 'Fa':2, 'TA':3, 'Gd':4, 'Ex':5})\n",
    "train_df.GarageQual = train_df.GarageQual.map({'NA':0, 'Po':1, 'Fa':2, 'TA':3, 'Gd':4, 'Ex':5})\n",
    "train_df.HeatingQC = train_df.HeatingQC.map({'Po':1, 'Fa':2, 'TA':3, 'Gd':4, 'Ex':5})\n",
    "train_df.KitchenQual = train_df.KitchenQual.map({'Po':1, 'Fa':2, 'TA':3, 'Gd':4, 'Ex':5})\n",
    "train_df.PoolQC = train_df.PoolQC.map({'NA':0, 'Fa':1, 'TA':2, 'Gd':3, 'Ex':4})"
   ]
  },
  {
   "cell_type": "code",
   "execution_count": 88,
   "metadata": {
    "collapsed": true
   },
   "outputs": [],
   "source": [
    "test_df.BsmtCond =  test_df.BsmtCond.map({'NA':0, 'Po':1, 'Fa':2, 'TA':3, 'Gd':4, 'Ex':5})\n",
    "test_df.BsmtExposure = test_df.BsmtExposure.map({'NA':0, 'No':1, 'Mn':2, 'Av':3, 'Gd':4})\n",
    "test_df['BsmtFinType1'] = test_df['BsmtFinType1'].map({'NA':0, 'Unf':1, 'LwQ':2, 'Rec':3, 'BLQ':4, 'ALQ':5, 'GLQ':6})\n",
    "test_df['BsmtFinType2'] = test_df['BsmtFinType2'].map({'NA':0, 'Unf':1, 'LwQ':2, 'Rec':3, 'BLQ':4, 'ALQ':5, 'GLQ':6})\n",
    "test_df.BsmtQual = test_df.BsmtQual.map({'NA':0, 'Po':1, 'Fa':2, 'TA':3, 'Gd':4, 'Ex':5})\n",
    "test_df.ExterCond = test_df.ExterCond.map({'Po':1, 'Fa':2, 'TA':3, 'Gd':4, 'Ex':5})\n",
    "test_df.ExterQual = test_df.ExterQual.map({'Po':1, 'Fa':2, 'TA':3, 'Gd':4, 'Ex':5})\n",
    "test_df.FireplaceQu = test_df.FireplaceQu.map({'NA':0, 'Po':1, 'Fa':2, 'TA':3, 'Gd':4, 'Ex':5})\n",
    "test_df.Functional = test_df.Functional.map({'Sal':1, 'Sev':2, 'Maj2':3, 'Maj1':4, 'Mod':5, 'Min2':6, 'Min1':7, 'Typ':8})\n",
    "test_df.GarageCond = test_df.GarageCond.map({'NA':0, 'Po':1, 'Fa':2, 'TA':3, 'Gd':4, 'Ex':5})\n",
    "test_df.GarageQual = test_df.GarageQual.map({'NA':0, 'Po':1, 'Fa':2, 'TA':3, 'Gd':4, 'Ex':5})\n",
    "test_df.HeatingQC = test_df.HeatingQC.map({'Po':1, 'Fa':2, 'TA':3, 'Gd':4, 'Ex':5})\n",
    "test_df.KitchenQual = test_df.KitchenQual.map({'Po':1, 'Fa':2, 'TA':3, 'Gd':4, 'Ex':5})\n",
    "test_df.PoolQC = test_df.PoolQC.map({'NA':0, 'Fa':1, 'TA':2, 'Gd':3, 'Ex':4})"
   ]
  },
  {
   "cell_type": "markdown",
   "metadata": {},
   "source": [
    "### Basic Imputation"
   ]
  },
  {
   "cell_type": "code",
   "execution_count": 137,
   "metadata": {
    "collapsed": false
   },
   "outputs": [
    {
     "name": "stdout",
     "output_type": "stream",
     "text": [
      "              Missing   Percent\n",
      "PoolQC           2909  0.996574\n",
      "MiscFeature      2814  0.964029\n",
      "Alley            2721  0.932169\n",
      "Fence            2348  0.804385\n",
      "SalePrice        1459  0.499829\n",
      "FireplaceQu      1420  0.486468\n",
      "LotFrontage       486  0.166495\n",
      "GarageFinish      159  0.054471\n",
      "GarageCond        159  0.054471\n",
      "GarageQual        159  0.054471\n",
      "GarageYrBlt       159  0.054471\n",
      "GarageType        157  0.053786\n",
      "BsmtCond           82  0.028092\n",
      "BsmtExposure       82  0.028092\n",
      "BsmtQual           81  0.027749\n",
      "BsmtFinType2       80  0.027407\n",
      "BsmtFinType1       79  0.027064\n",
      "MasVnrType         24  0.008222\n",
      "MasVnrArea         23  0.007879\n",
      "MSZoning            4  0.001370\n",
      "BsmtFullBath        2  0.000685\n",
      "BsmtHalfBath        2  0.000685\n",
      "Utilities           2  0.000685\n",
      "Functional          2  0.000685\n",
      "Electrical          1  0.000343\n"
     ]
    }
   ],
   "source": [
    "# Missing data in train set\n",
    "def missing_data(df):\n",
    "    missing = df.isnull().sum().sort_values(ascending=False)\n",
    "    percent = (df.isnull().sum() / df.isnull().count()).sort_values(ascending=False)\n",
    "    missing_data = pd.concat([missing, percent], axis=1, keys=['Missing', 'Percent'])\n",
    "    return missing_data\n",
    "missing = missing_data(df)\n",
    "print(missing.head(25))"
   ]
  },
  {
   "cell_type": "markdown",
   "metadata": {},
   "source": [
    "* PoolQC, MiscFeature, Alley, Fence, FireplaceQu, GarageX, BsmtX都是由於沒有(no Pool ,Miss Feature, Alley ...)，而非真的遺失因此填上\"No\"值。\n",
    "* Electrical 只遺失一個，帶入最常見的數值"
   ]
  },
  {
   "cell_type": "code",
   "execution_count": 74,
   "metadata": {
    "collapsed": true
   },
   "outputs": [],
   "source": [
    "train_m = train_df.copy()\n",
    "test_m = test_df.copy()"
   ]
  },
  {
   "cell_type": "code",
   "execution_count": 30,
   "metadata": {
    "collapsed": false
   },
   "outputs": [],
   "source": [
    "train_m['PoolQC'].fillna('No', inplace=True)\n",
    "train_m['Alley'].fillna('No', inplace=True)\n",
    "train_m['MiscFeature'].fillna('No', inplace=True)\n",
    "train_m['Fence'].fillna('No', inplace=True)\n",
    "train_m['FireplaceQu'].fillna('No', inplace=True)\n",
    "\n",
    "train_m['Fence'].fillna('No', inplace=True)\n",
    "\n",
    "train_m['GarageFinish'].fillna('No', inplace=True)\n",
    "train_m['GarageYrBlt'].fillna('No', inplace=True)\n",
    "train_m['GarageType'].fillna('No', inplace=True)\n",
    "train_m['GarageCond'].fillna('No', inplace=True)\n",
    "train_m['GarageQual'].fillna('No', inplace=True)\n",
    "\n",
    "train_m['BsmtFinType2'].fillna('No', inplace=True)\n",
    "train_m['BsmtExposure'].fillna('No', inplace=True)\n",
    "train_m['BsmtFinType1'].fillna('No', inplace=True)\n",
    "train_m['BsmtQual'].fillna('No', inplace=True)\n",
    "train_m['BsmtCond'].fillna('No', inplace=True)\n",
    "\n",
    "train_m['MasVnrArea'].fillna('No', inplace=True)\n",
    "train_m['MasVnrType'].fillna('No', inplace=True)\n",
    "\n",
    "train_m['Electrical'].fillna('SBrkr', inplace=True)"
   ]
  },
  {
   "cell_type": "code",
   "execution_count": 13,
   "metadata": {
    "collapsed": false
   },
   "outputs": [
    {
     "name": "stdout",
     "output_type": "stream",
     "text": [
      "             Missing   Percent\n",
      "LotFrontage      259  0.177397\n",
      "SalePrice          0  0.000000\n",
      "Foundation         0  0.000000\n",
      "RoofMatl           0  0.000000\n",
      "Exterior1st        0  0.000000\n"
     ]
    }
   ],
   "source": [
    "missing = missing_data(train_m)\n",
    "print(missing.head(5))"
   ]
  },
  {
   "cell_type": "markdown",
   "metadata": {},
   "source": [
    "剩下LotFrontage先以median填入，在結束資料轉換後處理。"
   ]
  },
  {
   "cell_type": "code",
   "execution_count": 90,
   "metadata": {
    "collapsed": false
   },
   "outputs": [
    {
     "name": "stdout",
     "output_type": "stream",
     "text": [
      "              Missing   Percent\n",
      "PoolQC           1456  0.997944\n",
      "MiscFeature      1408  0.965045\n",
      "Alley            1352  0.926662\n",
      "Fence            1169  0.801234\n",
      "FireplaceQu       730  0.500343\n",
      "LotFrontage       227  0.155586\n",
      "GarageCond         78  0.053461\n",
      "GarageQual         78  0.053461\n",
      "GarageYrBlt        78  0.053461\n",
      "GarageFinish       78  0.053461\n",
      "GarageType         76  0.052090\n",
      "BsmtCond           45  0.030843\n",
      "BsmtQual           44  0.030158\n",
      "BsmtExposure       44  0.030158\n",
      "BsmtFinType1       42  0.028787\n",
      "BsmtFinType2       42  0.028787\n",
      "MasVnrType         16  0.010966\n",
      "MasVnrArea         15  0.010281\n",
      "MSZoning            4  0.002742\n",
      "BsmtHalfBath        2  0.001371\n",
      "Utilities           2  0.001371\n",
      "Functional          2  0.001371\n",
      "BsmtFullBath        2  0.001371\n",
      "BsmtFinSF2          1  0.000685\n",
      "BsmtFinSF1          1  0.000685\n"
     ]
    }
   ],
   "source": [
    "missing = missing_data(test_m)\n",
    "print(missing.head(25))"
   ]
  },
  {
   "cell_type": "code",
   "execution_count": null,
   "metadata": {
    "collapsed": true
   },
   "outputs": [],
   "source": []
  },
  {
   "cell_type": "markdown",
   "metadata": {},
   "source": [
    "### Basic Outlier Detection"
   ]
  },
  {
   "cell_type": "code",
   "execution_count": 75,
   "metadata": {
    "collapsed": true
   },
   "outputs": [],
   "source": [
    "train_out = train_m.copy()\n",
    "test_out = test_m.copy()"
   ]
  },
  {
   "cell_type": "code",
   "execution_count": 18,
   "metadata": {
    "collapsed": false
   },
   "outputs": [
    {
     "name": "stderr",
     "output_type": "stream",
     "text": [
      "/home/lafes/anaconda3/lib/python3.6/site-packages/numpy/linalg/linalg.py:1804: RuntimeWarning: overflow encountered in det\n",
      "  r = _umath_linalg.det(a, signature=signature)\n",
      "/home/lafes/anaconda3/lib/python3.6/site-packages/statsmodels/stats/outliers_influence.py:309: RuntimeWarning: invalid value encountered in sqrt\n",
      "  return  self.results.resid / sigma / np.sqrt(1 - hii)\n",
      "/home/lafes/anaconda3/lib/python3.6/site-packages/scipy/stats/_distn_infrastructure.py:879: RuntimeWarning: invalid value encountered in greater\n",
      "  return (self.a < x) & (x < self.b)\n",
      "/home/lafes/anaconda3/lib/python3.6/site-packages/scipy/stats/_distn_infrastructure.py:879: RuntimeWarning: invalid value encountered in less\n",
      "  return (self.a < x) & (x < self.b)\n",
      "/home/lafes/anaconda3/lib/python3.6/site-packages/scipy/stats/_distn_infrastructure.py:1818: RuntimeWarning: invalid value encountered in less_equal\n",
      "  cond2 = cond0 & (x <= self.a)\n",
      "/home/lafes/anaconda3/lib/python3.6/site-packages/statsmodels/stats/multitest.py:147: RuntimeWarning: invalid value encountered in less_equal\n",
      "  reject = pvals <= alphacBonf\n",
      "/home/lafes/anaconda3/lib/python3.6/site-packages/statsmodels/stats/multitest.py:251: RuntimeWarning: invalid value encountered in greater\n",
      "  pvals_corrected[pvals_corrected>1] = 1\n"
     ]
    }
   ],
   "source": [
    "import statsmodels.api as sm\n",
    "train, test = preScoreTest(train_out, test_out)\n",
    "regressor = sm.OLS(train['SalePrice'], train.drop('SalePrice', axis=1)).fit()\n",
    "result = regressor.outlier_test()"
   ]
  },
  {
   "cell_type": "code",
   "execution_count": 19,
   "metadata": {
    "collapsed": false
   },
   "outputs": [],
   "source": [
    "outlier = result['bonf(p)']\n",
    "outlier = outlier[outlier<1e-3].index"
   ]
  },
  {
   "cell_type": "code",
   "execution_count": 32,
   "metadata": {
    "collapsed": false
   },
   "outputs": [],
   "source": [
    "train_out = train_out.drop(outlier, axis=0)"
   ]
  },
  {
   "cell_type": "code",
   "execution_count": 33,
   "metadata": {
    "collapsed": false
   },
   "outputs": [
    {
     "name": "stdout",
     "output_type": "stream",
     "text": [
      "CV score is: 0.888363140722\n"
     ]
    }
   ],
   "source": [
    "from sklearn.ensemble import RandomForestRegressor\n",
    "from sklearn.model_selection import cross_val_score\n",
    "\n",
    "train, test = preScoreTest(train_out, test_out)\n",
    "rfg = RandomForestRegressor(n_estimators=300, random_state=0, n_jobs=-1)\n",
    "accuracies = cross_val_score(estimator = rfg, X = train.drop('SalePrice', axis=1), y = train['SalePrice'], cv = 10, n_jobs=-1)\n",
    "print('CV score is:', accuracies.mean())"
   ]
  },
  {
   "cell_type": "markdown",
   "metadata": {},
   "source": [
    "## XGBoost\n",
    "Working with same model but differnet training process: XGBoost!"
   ]
  },
  {
   "cell_type": "code",
   "execution_count": 34,
   "metadata": {
    "collapsed": false
   },
   "outputs": [
    {
     "name": "stdout",
     "output_type": "stream",
     "text": [
      "0.918171176421\n"
     ]
    }
   ],
   "source": [
    "from xgboost import XGBRegressor\n",
    "xgb = XGBRegressor(learning_rate=0.05,n_estimators=500,max_depth=3,colsample_bytree=0.4)\n",
    "accuracies = cross_val_score(estimator = xgb, X = train.drop('SalePrice', axis=1), y = train['SalePrice'], cv = 10, n_jobs=-1)\n",
    "print(accuracies.mean())"
   ]
  },
  {
   "cell_type": "markdown",
   "metadata": {},
   "source": [
    "** significant improvement by xgboost! ** "
   ]
  },
  {
   "cell_type": "markdown",
   "metadata": {},
   "source": [
    "## Data Transformation"
   ]
  },
  {
   "cell_type": "markdown",
   "metadata": {},
   "source": [
    "### Feature Selection\n",
    "1. Feature Generator\n",
    "2. Feature Estimator"
   ]
  },
  {
   "cell_type": "code",
   "execution_count": 55,
   "metadata": {
    "collapsed": true
   },
   "outputs": [],
   "source": [
    "def rfrSelection():\n",
    "    rfr = RandomForestRegressor(n_estimators=30,max_features=0.5,oob_score=True,random_state=0)\n",
    "    rfr.fit(X = train.drop('SalePrice', axis=1), y = train['SalePrice'])\n",
    "    importance = pd.DataFrame(rgf.feature_importances_, columns=['Importance'], index=train.drop('SalePrice', axis=1).columns)\n",
    "    importance = importance.sort_values(['Importance'], ascending=False)\n",
    "    return importance"
   ]
  },
  {
   "cell_type": "code",
   "execution_count": 69,
   "metadata": {
    "collapsed": true
   },
   "outputs": [],
   "source": [
    "def feature_estimator(features):\n",
    "    train_f = train_out[features]\n",
    "    test_f = test_out[features]\n",
    "    train_f\n",
    "    \n",
    "    xgb = XGBRegressor(learning_rate=0.05,n_estimators=500,max_depth=3,colsample_bytree=0.4)\n",
    "    accuracies = cross_val_score(estimator = xgb, X = train.drop('SalePrice', axis=1), y = train['SalePrice'], cv = 10, n_jobs=-1)"
   ]
  },
  {
   "cell_type": "code",
   "execution_count": 62,
   "metadata": {
    "collapsed": false
   },
   "outputs": [
    {
     "name": "stdout",
     "output_type": "stream",
     "text": [
      "['OverallQual' 'GrLivArea' 'GarageCars' 'TotalBsmtSF' 'BsmtFinSF1'\n",
      " 'GarageArea' 'YearBuilt' '1stFlrSF' 'FullBath' 'YearRemodAdd']\n",
      "['OverallQual' 'GrLivArea' 'GarageCars' 'TotalBsmtSF' 'BsmtFinSF1'\n",
      " 'GarageArea' 'YearBuilt' '1stFlrSF' 'FullBath' 'YearRemodAdd' 'LotArea']\n"
     ]
    }
   ],
   "source": [
    "imp = rfrSelection()\n",
    "for i in range(10,12):\n",
    "    print(imp.iloc[0:i].index.values)"
   ]
  },
  {
   "cell_type": "code",
   "execution_count": 68,
   "metadata": {
    "collapsed": false
   },
   "outputs": [
    {
     "data": {
      "text/plain": [
       "Importance    1.0\n",
       "dtype: float64"
      ]
     },
     "execution_count": 68,
     "metadata": {},
     "output_type": "execute_result"
    }
   ],
   "source": [
    "imp.iloc[0:200].sum()"
   ]
  },
  {
   "cell_type": "markdown",
   "metadata": {},
   "source": [
    "## Missing Data"
   ]
  },
  {
   "cell_type": "code",
   "execution_count": 18,
   "metadata": {
    "collapsed": false,
    "scrolled": false
   },
   "outputs": [
    {
     "name": "stdout",
     "output_type": "stream",
     "text": [
      "              Missing   Percent\n",
      "PoolQC           1453  0.995205\n",
      "MiscFeature      1406  0.963014\n",
      "Alley            1369  0.937671\n",
      "Fence            1179  0.807534\n",
      "FireplaceQu       690  0.472603\n",
      "LotFrontage       259  0.177397\n",
      "GarageCond         81  0.055479\n",
      "GarageType         81  0.055479\n",
      "GarageYrBlt        81  0.055479\n",
      "GarageFinish       81  0.055479\n",
      "GarageQual         81  0.055479\n",
      "BsmtExposure       38  0.026027\n",
      "BsmtFinType2       38  0.026027\n",
      "BsmtFinType1       37  0.025342\n",
      "BsmtCond           37  0.025342\n",
      "BsmtQual           37  0.025342\n",
      "MasVnrArea          8  0.005479\n",
      "MasVnrType          8  0.005479\n",
      "Electrical          1  0.000685\n",
      "Utilities           0  0.000000\n"
     ]
    }
   ],
   "source": [
    "# Missing data in train set\n",
    "def missing_data(df):\n",
    "    missing = df.isnull().sum().sort_values(ascending=False)\n",
    "    percent = (df.isnull().sum() / df.isnull().count()).sort_values(ascending=False)\n",
    "    missing_data = pd.concat([missing, percent], axis=1, keys=['Missing', 'Percent'])\n",
    "    print(missing_data.head(20))\n",
    "    return missing_data\n",
    "train_missing = missing_data(train_df)"
   ]
  },
  {
   "cell_type": "markdown",
   "metadata": {},
   "source": [
    "* PoolQC, MiscFeature, Alley丟失超過90％的資料，而以上資料很可能存在於outlier之中，整欄丟棄。\n",
    "* Fence, FireplaceQu, 類別選項中最低表示是NA(無fireplace)，由於pandas格式的關係被認作為遺失值，用None替代。\n",
    "* LotFrontage  \n",
    "利用其他columns作為輸入跑XGBoost預測遺失資料:  \n",
    "CV score is: 0.899631474907  \n",
    "Kaggle score: 0.12988\n",
    "填入median取代mean:  \n",
    "CV score is: 0.903070777961\n",
    "Kaggle score: 0.12917\n",
    "* Garage系列的遺失值是由於沒有車庫\n",
    "* Bsmt系列也是相同\n",
    "* MasVnrArea, MasVrnType由於遺失值很少，推測可能是無Masonry veneer\n",
    "以上遺失值填入新增一個\"NO\"值的分數略低於直接將此值丟棄。\n",
    "* Electrical 只遺失一個，帶入最常見的數值"
   ]
  },
  {
   "cell_type": "markdown",
   "metadata": {},
   "source": [
    "### Imputation with above strategies or median?"
   ]
  },
  {
   "cell_type": "code",
   "execution_count": 17,
   "metadata": {
    "collapsed": true
   },
   "outputs": [],
   "source": [
    "def preScoreTest(x, y=None):\n",
    "    x = pd.get_dummies(x)\n",
    "    x = x.fillna(x.median())\n",
    "    y = pd.get_dummies(y)\n",
    "    y = y.fillna(y.median())\n",
    "    common_cols = list(set(x.columns.tolist()) & set(y.columns.tolist()))\n",
    "    y = y[common_cols]\n",
    "    common_cols.append('SalePrice')\n",
    "    x = x[common_cols]\n",
    "    return x, y"
   ]
  },
  {
   "cell_type": "code",
   "execution_count": 20,
   "metadata": {
    "collapsed": false
   },
   "outputs": [],
   "source": [
    "train_m = train_o.copy()\n",
    "test_m = test_o.copy()"
   ]
  },
  {
   "cell_type": "code",
   "execution_count": 21,
   "metadata": {
    "collapsed": false
   },
   "outputs": [],
   "source": [
    "# Too much missing(>90%)\n",
    "train_m = train_m.drop(['PoolQC', 'MiscFeature', 'Alley'], axis=1)"
   ]
  },
  {
   "cell_type": "code",
   "execution_count": 22,
   "metadata": {
    "collapsed": false
   },
   "outputs": [],
   "source": [
    "# Fence\n",
    "train_m['Fence'].fillna('None', inplace=True)"
   ]
  },
  {
   "cell_type": "code",
   "execution_count": 23,
   "metadata": {
    "collapsed": true
   },
   "outputs": [],
   "source": [
    "# FireplaceQu\n",
    "train_m['FireplaceQu'].fillna('None', inplace=True)"
   ]
  },
  {
   "cell_type": "code",
   "execution_count": 24,
   "metadata": {
    "collapsed": false
   },
   "outputs": [],
   "source": [
    "# LotFrontage\n",
    "# Using xgboost to impute missing data\n",
    "null_idx = train_m.loc[train_m['LotFrontage'].isnull()].index\n",
    "\n",
    "train_lot = train_m.copy()\n",
    "test_lot = train_m.copy()\n",
    "train_lot = train_lot.drop(train_lot.index[[null_idx]])\n",
    "test_lot = test_lot.loc[null_idx]\n",
    "\n",
    "x, y = preScoreTest(train_lot, test_lot)\n",
    "\n",
    "xgb = XGBRegressor(learning_rate=0.05,n_estimators=500,max_depth=3,colsample_bytree=0.4)\n",
    "xgb.fit(x.drop(['LotFrontage', 'SalePrice'], axis=1),x['LotFrontage'])\n",
    "y = y.drop(['LotFrontage', 'SalePrice'], axis=1)\n",
    "y_pred = xgb.predict(y)\n",
    "train_m.loc[null_idx, 'LotFrontage'] = y_pred"
   ]
  },
  {
   "cell_type": "code",
   "execution_count": 25,
   "metadata": {
    "collapsed": false
   },
   "outputs": [
    {
     "data": {
      "text/plain": [
       "\"\\n# GarageX\\ntrain_m['GarageFinish'].fillna('No', inplace=True)\\ntrain_m['GarageType'].fillna('No', inplace=True)\\ntrain_m['GarageCond'].fillna('No', inplace=True)\\ntrain_m['GarageQual'].fillna('No', inplace=True)\\n# BsmtX\\ntrain_m['BsmtFinType2'].fillna('No', inplace=True)\\ntrain_m['BsmtExposure'].fillna('No', inplace=True)\\ntrain_m['BsmtFinType1'].fillna('No', inplace=True)\\ntrain_m['BsmtQual'].fillna('No', inplace=True)\\ntrain_m['BsmtCond'].fillna('No', inplace=True)\\n# MassVnrX\\ntrain_m['MasVnrArea'].fillna('No', inplace=True)\\ntrain_m['MasVnrType'].fillna('No', inplace=True)\""
      ]
     },
     "execution_count": 25,
     "metadata": {},
     "output_type": "execute_result"
    }
   ],
   "source": [
    "\"\"\"\n",
    "# GarageX\n",
    "train_m['GarageFinish'].fillna('No', inplace=True)\n",
    "train_m['GarageType'].fillna('No', inplace=True)\n",
    "train_m['GarageCond'].fillna('No', inplace=True)\n",
    "train_m['GarageQual'].fillna('No', inplace=True)\n",
    "# BsmtX\n",
    "train_m['BsmtFinType2'].fillna('No', inplace=True)\n",
    "train_m['BsmtExposure'].fillna('No', inplace=True)\n",
    "train_m['BsmtFinType1'].fillna('No', inplace=True)\n",
    "train_m['BsmtQual'].fillna('No', inplace=True)\n",
    "train_m['BsmtCond'].fillna('No', inplace=True)\n",
    "# MassVnrX\n",
    "train_m['MasVnrArea'].fillna('No', inplace=True)\n",
    "train_m['MasVnrType'].fillna('No', inplace=True)\"\"\""
   ]
  },
  {
   "cell_type": "code",
   "execution_count": 26,
   "metadata": {
    "collapsed": false
   },
   "outputs": [],
   "source": [
    "# Electrical\n",
    "train_m['Electrical'].fillna('SBrkr', inplace=True)"
   ]
  },
  {
   "cell_type": "code",
   "execution_count": 27,
   "metadata": {
    "collapsed": false
   },
   "outputs": [],
   "source": [
    "train, test = preScoreTest(train_m, test_m)"
   ]
  },
  {
   "cell_type": "code",
   "execution_count": 28,
   "metadata": {
    "collapsed": false
   },
   "outputs": [
    {
     "name": "stdout",
     "output_type": "stream",
     "text": [
      "CV score is: 0.899627276977\n"
     ]
    }
   ],
   "source": [
    "xgb = XGBRegressor(learning_rate=0.05,n_estimators=500,max_depth=3,colsample_bytree=0.4)\n",
    "accuracies = cross_val_score(estimator = xgb, X = train.drop('SalePrice', axis=1), y = train['SalePrice'], cv = 10, n_jobs=-1)\n",
    "print('CV score is:', accuracies.mean())"
   ]
  },
  {
   "cell_type": "code",
   "execution_count": 29,
   "metadata": {
    "collapsed": false
   },
   "outputs": [],
   "source": [
    "xgb.fit(train.drop('SalePrice', axis=1), y=train['SalePrice'])\n",
    "y_pred = xgb.predict(test)\n",
    "submission = pd.DataFrame({\n",
    "    'Id':test_df['Id'],\n",
    "    'SalePrice':y_pred\n",
    "})\n",
    "submission.to_csv('sub_missing', index=False)"
   ]
  },
  {
   "cell_type": "markdown",
   "metadata": {},
   "source": [
    "## How about Linear Regression?\n"
   ]
  },
  {
   "cell_type": "code",
   "execution_count": 30,
   "metadata": {
    "collapsed": true
   },
   "outputs": [],
   "source": [
    "from sklearn.linear_model import LinearRegression\n",
    "from sklearn.feature_selection import SelectKBest, f_regression, mutual_info_regression"
   ]
  },
  {
   "cell_type": "code",
   "execution_count": 31,
   "metadata": {
    "collapsed": true
   },
   "outputs": [],
   "source": [
    "train_lr = train_m.copy()\n",
    "test_lr = test_m.copy()"
   ]
  },
  {
   "cell_type": "code",
   "execution_count": 32,
   "metadata": {
    "collapsed": true
   },
   "outputs": [],
   "source": [
    "train, test = preScoreTest(train_lr, test_lr)"
   ]
  },
  {
   "cell_type": "code",
   "execution_count": 33,
   "metadata": {
    "collapsed": false
   },
   "outputs": [
    {
     "data": {
      "text/plain": [
       "SelectKBest(k=40, score_func=<function f_regression at 0x7f583ba6c598>)"
      ]
     },
     "execution_count": 33,
     "metadata": {},
     "output_type": "execute_result"
    }
   ],
   "source": [
    "# Feature selection by sklearn\n",
    "selector = SelectKBest(f_regression, k=40)\n",
    "X = train.drop('SalePrice', axis=1)\n",
    "y = train['SalePrice']\n",
    "selector.fit(train.drop('SalePrice', axis=1), train['SalePrice'])"
   ]
  },
  {
   "cell_type": "code",
   "execution_count": 34,
   "metadata": {
    "collapsed": false
   },
   "outputs": [
    {
     "name": "stdout",
     "output_type": "stream",
     "text": [
      "CV score is: 0.803431043118\n"
     ]
    }
   ],
   "source": [
    "mlr = LinearRegression()\n",
    "X = train[selector.get_support(indices=True)]\n",
    "mlr.fit(X, y)\n",
    "accuracies = cross_val_score(estimator = mlr, X = X, y = y, cv = 5, n_jobs=-1)\n",
    "print('CV score is:', accuracies.mean())"
   ]
  },
  {
   "cell_type": "markdown",
   "metadata": {},
   "source": [
    "There exist a huge performance gap compare linear regression with xgboost..."
   ]
  },
  {
   "cell_type": "markdown",
   "metadata": {},
   "source": [
    "## Multicollinearity"
   ]
  },
  {
   "cell_type": "code",
   "execution_count": 35,
   "metadata": {
    "collapsed": false
   },
   "outputs": [
    {
     "data": {
      "text/plain": [
       "<matplotlib.axes._subplots.AxesSubplot at 0x7f583804a9b0>"
      ]
     },
     "execution_count": 35,
     "metadata": {},
     "output_type": "execute_result"
    },
    {
     "data": {
      "image/png": "[encoded data removed]",
      "text/plain": [
       "<matplotlib.figure.Figure at 0x7f5832d85390>"
      ]
     },
     "metadata": {},
     "output_type": "display_data"
    }
   ],
   "source": [
    "# Visiualize correlation matrix with heatmap\n",
    "corrmat = train_df.corr(method='spearman')\n",
    "f, ax = plt.subplots(figsize=(12, 9))\n",
    "sns.heatmap(corrmat, vmax=.8, square=True)"
   ]
  },
  {
   "cell_type": "code",
   "execution_count": 36,
   "metadata": {
    "collapsed": false
   },
   "outputs": [
    {
     "data": {
      "text/plain": [
       "{'1stFlrSF': ['TotalBsmtSF'],\n",
       " 'GarageArea': ['GarageCars'],\n",
       " 'GarageCars': ['GarageArea'],\n",
       " 'GarageYrBlt': ['YearBuilt'],\n",
       " 'GrLivArea': ['TotRmsAbvGrd'],\n",
       " 'OverallQual': ['SalePrice'],\n",
       " 'SalePrice': ['OverallQual'],\n",
       " 'TotRmsAbvGrd': ['GrLivArea'],\n",
       " 'TotalBsmtSF': ['1stFlrSF'],\n",
       " 'YearBuilt': ['GarageYrBlt']}"
      ]
     },
     "execution_count": 36,
     "metadata": {},
     "output_type": "execute_result"
    }
   ],
   "source": [
    "# Inspect of multicollinearity(>0.8) with categorical variables\n",
    "def coLinear(corrmat, rate):\n",
    "    corrDict = {}\n",
    "    for c in corrmat.columns.tolist():\n",
    "        corrList = corrmat.loc[corrmat[c]>rate].index.tolist()\n",
    "        corrList.remove(c)\n",
    "        if corrList:\n",
    "            corrDict[c] = corrList\n",
    "    return corrDict\n",
    "coLinear(corrmat, 0.8)"
   ]
  },
  {
   "cell_type": "code",
   "execution_count": 37,
   "metadata": {
    "collapsed": true
   },
   "outputs": [],
   "source": [
    "train_co = train_m.copy()\n",
    "test_co = test_m.copy()"
   ]
  },
  {
   "cell_type": "code",
   "execution_count": 38,
   "metadata": {
    "collapsed": false
   },
   "outputs": [],
   "source": [
    "# duplicate variables\n",
    "train_co = train_co.drop(['TotalBsmtSF'], axis=1)"
   ]
  },
  {
   "cell_type": "code",
   "execution_count": 39,
   "metadata": {
    "collapsed": false
   },
   "outputs": [],
   "source": [
    "# Coolumn 'GarageCars' contains in GarageArea\n",
    "train_co = train_co.drop(['GarageCars'], axis=1)"
   ]
  },
  {
   "cell_type": "code",
   "execution_count": 40,
   "metadata": {
    "collapsed": false
   },
   "outputs": [],
   "source": [
    "#These two columns cause perforamce decreased after dropping them.\n",
    "train_co = train_co.drop(['GarageYrBlt'], axis=1)\n",
    "train_co = train_co.drop(['TotRmsAbvGrd'], axis=1)"
   ]
  },
  {
   "cell_type": "code",
   "execution_count": 41,
   "metadata": {
    "collapsed": true
   },
   "outputs": [],
   "source": [
    "train, test = preScoreTest(train_co, test_co)"
   ]
  },
  {
   "cell_type": "code",
   "execution_count": 42,
   "metadata": {
    "collapsed": false
   },
   "outputs": [
    {
     "name": "stdout",
     "output_type": "stream",
     "text": [
      "CV score is: 0.901679895619\n"
     ]
    }
   ],
   "source": [
    "xgb = XGBRegressor(learning_rate=0.05,n_estimators=500,max_depth=3,colsample_bytree=0.4)\n",
    "accuracies = cross_val_score(estimator = xgb, X = train.drop('SalePrice', axis=1), y = train['SalePrice'], cv = 10, n_jobs=-1)\n",
    "print('CV score is:', accuracies.mean())"
   ]
  },
  {
   "cell_type": "markdown",
   "metadata": {},
   "source": [
    "## Normality\n",
    "Lots of statistic test(z, t, chi2, f...) has normal distribution asuumption."
   ]
  },
  {
   "cell_type": "code",
   "execution_count": 43,
   "metadata": {
    "collapsed": true
   },
   "outputs": [],
   "source": [
    "train_normal = train_co.copy()\n",
    "test_normal = test_co.copy()"
   ]
  },
  {
   "cell_type": "code",
   "execution_count": 44,
   "metadata": {
    "collapsed": false
   },
   "outputs": [
    {
     "data": {
      "text/plain": [
       "Id                0.000000\n",
       "LotFrontage       1.890462\n",
       "LotArea          12.207688\n",
       "OverallQual       0.216944\n",
       "OverallCond       0.693067\n",
       "YearBuilt        -0.613461\n",
       "YearRemodAdd     -0.503562\n",
       "MasVnrArea        2.669084\n",
       "BsmtFinSF1        1.685503\n",
       "BsmtFinSF2        4.255261\n",
       "BsmtUnfSF         0.920268\n",
       "1stFlrSF          1.376757\n",
       "2ndFlrSF          0.813030\n",
       "GrLivArea         1.366560\n",
       "BsmtFullBath      0.596067\n",
       "BsmtHalfBath      4.103403\n",
       "FullBath          0.036562\n",
       "HalfBath          0.675897\n",
       "BedroomAbvGr      0.211790\n",
       "KitchenAbvGr      4.488397\n",
       "Fireplaces        0.649565\n",
       "GarageArea        0.179981\n",
       "WoodDeckSF        1.541376\n",
       "OpenPorchSF       2.364342\n",
       "EnclosedPorch     3.089872\n",
       "ScreenPorch       4.122214\n",
       "MiscVal          24.476794\n",
       "SalePrice         1.882876\n",
       "dtype: float64"
      ]
     },
     "execution_count": 44,
     "metadata": {},
     "output_type": "execute_result"
    }
   ],
   "source": [
    "# Test with skewness\n",
    "numeric_cols = [f for f in train_normal if train_normal.dtypes[f] != 'object']\n",
    "train_normal[numeric_cols].skew()"
   ]
  },
  {
   "cell_type": "code",
   "execution_count": 45,
   "metadata": {
    "collapsed": false
   },
   "outputs": [
    {
     "name": "stderr",
     "output_type": "stream",
     "text": [
      "/home/lafes/anaconda3/lib/python3.6/site-packages/scipy/stats/_distn_infrastructure.py:879: RuntimeWarning: invalid value encountered in greater\n",
      "  return (self.a < x) & (x < self.b)\n",
      "/home/lafes/anaconda3/lib/python3.6/site-packages/scipy/stats/_distn_infrastructure.py:879: RuntimeWarning: invalid value encountered in less\n",
      "  return (self.a < x) & (x < self.b)\n",
      "/home/lafes/anaconda3/lib/python3.6/site-packages/scipy/stats/_distn_infrastructure.py:1735: RuntimeWarning: invalid value encountered in greater_equal\n",
      "  cond2 = (x >= self.b) & cond0\n"
     ]
    }
   ],
   "source": [
    "from scipy.stats import kstest\n",
    "skew_cols = []\n",
    "for col in numeric_cols:\n",
    "    d, p = kstest(train_normal[col], 'norm')\n",
    "    if d<0.6:\n",
    "        skew_cols.append(col)"
   ]
  },
  {
   "cell_type": "code",
   "execution_count": 46,
   "metadata": {
    "collapsed": true
   },
   "outputs": [],
   "source": [
    "skew_cols = train_normal[skew_cols].columns[abs(train_normal[skew_cols].skew()) > 1]"
   ]
  },
  {
   "cell_type": "code",
   "execution_count": 47,
   "metadata": {
    "collapsed": false
   },
   "outputs": [],
   "source": [
    "train_normal[skew_cols] = np.log1p(train_normal[skew_cols])\n",
    "test_normal[skew_cols] = np.log1p(test_normal[skew_cols])"
   ]
  },
  {
   "cell_type": "code",
   "execution_count": 48,
   "metadata": {
    "collapsed": true
   },
   "outputs": [],
   "source": [
    "train, test = preScoreTest(train_normal, test_normal)"
   ]
  },
  {
   "cell_type": "code",
   "execution_count": 49,
   "metadata": {
    "collapsed": false
   },
   "outputs": [
    {
     "name": "stdout",
     "output_type": "stream",
     "text": [
      "CV score is: 0.901696495317\n"
     ]
    }
   ],
   "source": [
    "xgb = XGBRegressor(learning_rate=0.05,n_estimators=500,max_depth=3,colsample_bytree=0.4)\n",
    "accuracies = cross_val_score(estimator = xgb, X = train.drop('SalePrice', axis=1), y = train['SalePrice'], cv = 10, n_jobs=-1)\n",
    "print('CV score is:', accuracies.mean())"
   ]
  },
  {
   "cell_type": "code",
   "execution_count": 50,
   "metadata": {
    "collapsed": true
   },
   "outputs": [],
   "source": [
    "xgb.fit(train.drop('SalePrice', axis=1), y=train['SalePrice'])\n",
    "y_pred = xgb.predict(test)\n",
    "submission = pd.DataFrame({\n",
    "    'Id':test_df['Id'],\n",
    "    'SalePrice':y_pred\n",
    "})\n",
    "submission.to_csv('sub_normality', index=False)"
   ]
  },
  {
   "cell_type": "markdown",
   "metadata": {},
   "source": [
    "## Outlier"
   ]
  },
  {
   "cell_type": "markdown",
   "metadata": {},
   "source": [
    "### Univariate Analysis"
   ]
  },
  {
   "cell_type": "code",
   "execution_count": 51,
   "metadata": {
    "collapsed": false
   },
   "outputs": [
    {
     "name": "stdout",
     "output_type": "stream",
     "text": [
      "outer range (low) of the distribution:\n",
      "[[-1.83870376]\n",
      " [-1.83352844]\n",
      " [-1.80092766]\n",
      " [-1.78329881]\n",
      " [-1.77448439]\n",
      " [-1.62337999]\n",
      " [-1.61708398]\n",
      " [-1.58560389]\n",
      " [-1.58560389]\n",
      " [-1.5731    ]]\n",
      "\n",
      "outer range (high) of the distribution:\n",
      "[[ 3.82897043]\n",
      " [ 4.04098249]\n",
      " [ 4.49634819]\n",
      " [ 4.71041276]\n",
      " [ 4.73032076]\n",
      " [ 5.06214602]\n",
      " [ 5.42383959]\n",
      " [ 5.59185509]\n",
      " [ 7.10289909]\n",
      " [ 7.22881942]]\n"
     ]
    },
    {
     "name": "stderr",
     "output_type": "stream",
     "text": [
      "/home/lafes/anaconda3/lib/python3.6/site-packages/sklearn/utils/validation.py:429: DataConversionWarning: Data with input dtype int64 was converted to float64 by StandardScaler.\n",
      "  warnings.warn(msg, _DataConversionWarning)\n"
     ]
    }
   ],
   "source": [
    "from sklearn.preprocessing import StandardScaler\n",
    "\n",
    "saleprice_scaled = StandardScaler().fit_transform(train_df['SalePrice'][:,np.newaxis]);\n",
    "low_range = saleprice_scaled[saleprice_scaled[:,0].argsort()][:10]\n",
    "high_range= saleprice_scaled[saleprice_scaled[:,0].argsort()][-10:]\n",
    "print('outer range (low) of the distribution:')\n",
    "print(low_range)\n",
    "print('\\nouter range (high) of the distribution:')\n",
    "print(high_range)"
   ]
  },
  {
   "cell_type": "markdown",
   "metadata": {},
   "source": [
    "2 outer range point(7.x) may be the potential outlier."
   ]
  },
  {
   "cell_type": "markdown",
   "metadata": {},
   "source": [
    "### Bivariate Analysis"
   ]
  },
  {
   "cell_type": "code",
   "execution_count": 52,
   "metadata": {
    "collapsed": false
   },
   "outputs": [
    {
     "data": {
      "image/png": "[encoded data removed]",
      "text/plain": [
       "<matplotlib.figure.Figure at 0x7f5832b04b38>"
      ]
     },
     "metadata": {},
     "output_type": "display_data"
    },
    {
     "data": {
      "image/png": "[encoded data removed]",
      "text/plain": [
       "<matplotlib.figure.Figure at 0x7f5830557ba8>"
      ]
     },
     "metadata": {},
     "output_type": "display_data"
    },
    {
     "data": {
      "image/png": "[encoded data removed]",
      "text/plain": [
       "<matplotlib.figure.Figure at 0x7f5830500a20>"
      ]
     },
     "metadata": {},
     "output_type": "display_data"
    },
    {
     "data": {
      "image/png": "[encoded data removed]",
      "text/plain": [
       "<matplotlib.figure.Figure at 0x7f58304d7e10>"
      ]
     },
     "metadata": {},
     "output_type": "display_data"
    },
    {
     "data": {
      "image/png": "[encoded data removed]",
      "text/plain": [
       "<matplotlib.figure.Figure at 0x7f5830388d68>"
      ]
     },
     "metadata": {},
     "output_type": "display_data"
    },
    {
     "data": {
      "image/png": "[encoded data removed]",
      "text/plain": [
       "<matplotlib.figure.Figure at 0x7f5830367da0>"
      ]
     },
     "metadata": {},
     "output_type": "display_data"
    },
    {
     "data": {
      "image/png": "[encoded data removed]",
      "text/plain": [
       "<matplotlib.figure.Figure at 0x7f58303f5cf8>"
      ]
     },
     "metadata": {},
     "output_type": "display_data"
    },
    {
     "data": {
      "image/png": "[encoded data removed]",
      "text/plain": [
       "<matplotlib.figure.Figure at 0x7f583029de10>"
      ]
     },
     "metadata": {},
     "output_type": "display_data"
    },
    {
     "data": {
      "image/png": "[encoded data removed]",
      "text/plain": [
       "<matplotlib.figure.Figure at 0x7f5830205e80>"
      ]
     },
     "metadata": {},
     "output_type": "display_data"
    },
    {
     "data": {
      "image/png": "[encoded data removed]",
      "text/plain": [
       "<matplotlib.figure.Figure at 0x7f583018b978>"
      ]
     },
     "metadata": {},
     "output_type": "display_data"
    }
   ],
   "source": [
    "# Outlier detecting by graph\n",
    "SalePrice_Linearity = corrmat['SalePrice'].nlargest(10).index\n",
    "def relation(df, x, y):\n",
    "    data = pd.concat([df[x], df[y]], axis=1)\n",
    "    data.plot.scatter(x=x, y=y)\n",
    "\n",
    "for c in SalePrice_Linearity:\n",
    "    relation(train_df, c, 'SalePrice')\n",
    "   "
   ]
  },
  {
   "cell_type": "code",
   "execution_count": 53,
   "metadata": {
    "collapsed": false
   },
   "outputs": [
    {
     "data": {
      "text/html": [
       "<div>\n",
       "<table border=\"1\" class=\"dataframe\">\n",
       "  <thead>\n",
       "    <tr style=\"text-align: right;\">\n",
       "      <th></th>\n",
       "      <th>Id</th>\n",
       "      <th>MSSubClass</th>\n",
       "      <th>MSZoning</th>\n",
       "      <th>LotFrontage</th>\n",
       "      <th>LotArea</th>\n",
       "      <th>Street</th>\n",
       "      <th>Alley</th>\n",
       "      <th>LotShape</th>\n",
       "      <th>LandContour</th>\n",
       "      <th>Utilities</th>\n",
       "      <th>...</th>\n",
       "      <th>PoolArea</th>\n",
       "      <th>PoolQC</th>\n",
       "      <th>Fence</th>\n",
       "      <th>MiscFeature</th>\n",
       "      <th>MiscVal</th>\n",
       "      <th>MoSold</th>\n",
       "      <th>YrSold</th>\n",
       "      <th>SaleType</th>\n",
       "      <th>SaleCondition</th>\n",
       "      <th>SalePrice</th>\n",
       "    </tr>\n",
       "  </thead>\n",
       "  <tbody>\n",
       "    <tr>\n",
       "      <th>1298</th>\n",
       "      <td>1299</td>\n",
       "      <td>60</td>\n",
       "      <td>RL</td>\n",
       "      <td>313.0</td>\n",
       "      <td>63887</td>\n",
       "      <td>Pave</td>\n",
       "      <td>NaN</td>\n",
       "      <td>IR3</td>\n",
       "      <td>Bnk</td>\n",
       "      <td>AllPub</td>\n",
       "      <td>...</td>\n",
       "      <td>480</td>\n",
       "      <td>Gd</td>\n",
       "      <td>NaN</td>\n",
       "      <td>NaN</td>\n",
       "      <td>0</td>\n",
       "      <td>1</td>\n",
       "      <td>2008</td>\n",
       "      <td>New</td>\n",
       "      <td>Partial</td>\n",
       "      <td>160000</td>\n",
       "    </tr>\n",
       "    <tr>\n",
       "      <th>523</th>\n",
       "      <td>524</td>\n",
       "      <td>60</td>\n",
       "      <td>RL</td>\n",
       "      <td>130.0</td>\n",
       "      <td>40094</td>\n",
       "      <td>Pave</td>\n",
       "      <td>NaN</td>\n",
       "      <td>IR1</td>\n",
       "      <td>Bnk</td>\n",
       "      <td>AllPub</td>\n",
       "      <td>...</td>\n",
       "      <td>0</td>\n",
       "      <td>NaN</td>\n",
       "      <td>NaN</td>\n",
       "      <td>NaN</td>\n",
       "      <td>0</td>\n",
       "      <td>10</td>\n",
       "      <td>2007</td>\n",
       "      <td>New</td>\n",
       "      <td>Partial</td>\n",
       "      <td>184750</td>\n",
       "    </tr>\n",
       "  </tbody>\n",
       "</table>\n",
       "<p>2 rows × 81 columns</p>\n",
       "</div>"
      ],
      "text/plain": [
       "        Id  MSSubClass MSZoning  LotFrontage  LotArea Street Alley LotShape  \\\n",
       "1298  1299          60       RL        313.0    63887   Pave   NaN      IR3   \n",
       "523    524          60       RL        130.0    40094   Pave   NaN      IR1   \n",
       "\n",
       "     LandContour Utilities    ...     PoolArea PoolQC Fence MiscFeature  \\\n",
       "1298         Bnk    AllPub    ...          480     Gd   NaN         NaN   \n",
       "523          Bnk    AllPub    ...            0    NaN   NaN         NaN   \n",
       "\n",
       "     MiscVal MoSold YrSold  SaleType  SaleCondition  SalePrice  \n",
       "1298       0      1   2008       New        Partial     160000  \n",
       "523        0     10   2007       New        Partial     184750  \n",
       "\n",
       "[2 rows x 81 columns]"
      ]
     },
     "execution_count": 53,
     "metadata": {},
     "output_type": "execute_result"
    }
   ],
   "source": [
    "train_df.sort_values(by = 'GrLivArea', ascending = False)[:2]"
   ]
  },
  {
   "cell_type": "code",
   "execution_count": 54,
   "metadata": {
    "collapsed": true
   },
   "outputs": [],
   "source": [
    "train_out = train_normal.copy()\n",
    "test_out = test_normal.copy()"
   ]
  },
  {
   "cell_type": "code",
   "execution_count": 55,
   "metadata": {
    "collapsed": true
   },
   "outputs": [],
   "source": [
    "train, test = preScoreTest(train_out, test_out)"
   ]
  },
  {
   "cell_type": "code",
   "execution_count": 56,
   "metadata": {
    "collapsed": false
   },
   "outputs": [
    {
     "name": "stderr",
     "output_type": "stream",
     "text": [
      "/home/lafes/anaconda3/lib/python3.6/site-packages/numpy/linalg/linalg.py:1804: RuntimeWarning: overflow encountered in det\n",
      "  r = _umath_linalg.det(a, signature=signature)\n",
      "/home/lafes/anaconda3/lib/python3.6/site-packages/statsmodels/stats/outliers_influence.py:309: RuntimeWarning: invalid value encountered in sqrt\n",
      "  return  self.results.resid / sigma / np.sqrt(1 - hii)\n",
      "/home/lafes/anaconda3/lib/python3.6/site-packages/scipy/stats/_distn_infrastructure.py:879: RuntimeWarning: invalid value encountered in greater\n",
      "  return (self.a < x) & (x < self.b)\n",
      "/home/lafes/anaconda3/lib/python3.6/site-packages/scipy/stats/_distn_infrastructure.py:879: RuntimeWarning: invalid value encountered in less\n",
      "  return (self.a < x) & (x < self.b)\n",
      "/home/lafes/anaconda3/lib/python3.6/site-packages/scipy/stats/_distn_infrastructure.py:1818: RuntimeWarning: invalid value encountered in less_equal\n",
      "  cond2 = cond0 & (x <= self.a)\n",
      "/home/lafes/anaconda3/lib/python3.6/site-packages/statsmodels/stats/multitest.py:147: RuntimeWarning: invalid value encountered in less_equal\n",
      "  reject = pvals <= alphacBonf\n",
      "/home/lafes/anaconda3/lib/python3.6/site-packages/statsmodels/stats/multitest.py:251: RuntimeWarning: invalid value encountered in greater\n",
      "  pvals_corrected[pvals_corrected>1] = 1\n"
     ]
    }
   ],
   "source": [
    "import statsmodels.api as sm\n",
    "regressor = sm.OLS(train['SalePrice'], train.drop('SalePrice', axis=1)).fit()\n",
    "result = regressor.outlier_test()"
   ]
  },
  {
   "cell_type": "code",
   "execution_count": 57,
   "metadata": {
    "collapsed": false
   },
   "outputs": [],
   "source": [
    "outlier = result['bonf(p)']\n",
    "outlier = outlier[outlier<1e-3].index"
   ]
  },
  {
   "cell_type": "code",
   "execution_count": 58,
   "metadata": {
    "collapsed": true
   },
   "outputs": [],
   "source": [
    "train_out = train_normal.copy()\n",
    "test_out = test_normal.copy()"
   ]
  },
  {
   "cell_type": "code",
   "execution_count": 59,
   "metadata": {
    "collapsed": false
   },
   "outputs": [],
   "source": [
    "#train_out = train_out.drop(train_out.index[[outlier]])\n",
    "train_out = train_out.drop(train_out.index[[88,462,523,588,632,968,1298,1324]])"
   ]
  },
  {
   "cell_type": "markdown",
   "metadata": {},
   "source": [
    "## Ensemble!"
   ]
  },
  {
   "cell_type": "code",
   "execution_count": 60,
   "metadata": {
    "collapsed": true
   },
   "outputs": [],
   "source": [
    "train, test = preScoreTest(train_out, test_out)"
   ]
  },
  {
   "cell_type": "code",
   "execution_count": 61,
   "metadata": {
    "collapsed": false
   },
   "outputs": [
    {
     "name": "stdout",
     "output_type": "stream",
     "text": [
      "CV score is: 0.926230496407\n"
     ]
    }
   ],
   "source": [
    "xgb = XGBRegressor(learning_rate=0.05, n_estimators=500, max_depth=3,\n",
    "                   min_child_weight=1, colsample_bytree=0.4)\n",
    "accuracies = cross_val_score(estimator = xgb, X = train.drop('SalePrice', axis=1), y = train['SalePrice'], cv = 10, n_jobs=-1)\n",
    "print('CV score is:', accuracies.mean())"
   ]
  },
  {
   "cell_type": "code",
   "execution_count": 62,
   "metadata": {
    "collapsed": false
   },
   "outputs": [],
   "source": [
    "xgb.fit(train.drop('SalePrice', axis=1), y=train['SalePrice'])\n",
    "y_pred_xgb = xgb.predict(test)\n",
    "submission = pd.DataFrame({\n",
    "    'Id':test_df['Id'],\n",
    "    'SalePrice':y_pred\n",
    "})\n",
    "submission.to_csv('sub_outlier', index=False)"
   ]
  },
  {
   "cell_type": "markdown",
   "metadata": {},
   "source": [
    "## Linear Regression Again!"
   ]
  },
  {
   "cell_type": "code",
   "execution_count": 63,
   "metadata": {
    "collapsed": true
   },
   "outputs": [],
   "source": [
    "X = train.drop('SalePrice', axis=1)\n",
    "y = train['SalePrice']"
   ]
  },
  {
   "cell_type": "code",
   "execution_count": 64,
   "metadata": {
    "collapsed": false
   },
   "outputs": [],
   "source": [
    "selector = SelectKBest(f_regression, k=150)\n",
    "selector.fit(train.drop('SalePrice', axis=1), train['SalePrice'])\n",
    "X = train[selector.get_support(indices=True)]"
   ]
  },
  {
   "cell_type": "code",
   "execution_count": 65,
   "metadata": {
    "collapsed": false
   },
   "outputs": [
    {
     "name": "stdout",
     "output_type": "stream",
     "text": [
      "CV score is: 0.903129417695\n"
     ]
    }
   ],
   "source": [
    "mlr = LinearRegression()\n",
    "X = train[selector.get_support(indices=True)]\n",
    "accuracies = cross_val_score(estimator = mlr, X = X, y = y, cv = 5, n_jobs=-1)\n",
    "print('CV score is:', accuracies.mean())"
   ]
  },
  {
   "cell_type": "code",
   "execution_count": 66,
   "metadata": {
    "collapsed": false
   },
   "outputs": [],
   "source": [
    "mlr.fit(X, y)\n",
    "test_mlr = test[selector.get_support(indices=True)]\n",
    "y_pred_mlr = mlr.predict(test_mlr)"
   ]
  },
  {
   "cell_type": "markdown",
   "metadata": {},
   "source": [
    "** That's an impressive performance gain after remove outliers in linear regression! **"
   ]
  },
  {
   "cell_type": "markdown",
   "metadata": {},
   "source": [
    "## Lasso"
   ]
  },
  {
   "cell_type": "code",
   "execution_count": 67,
   "metadata": {
    "collapsed": true
   },
   "outputs": [],
   "source": [
    "train, test = preScoreTest(train_out, test_out)\n",
    "X = train.drop('SalePrice', axis=1)\n",
    "y = train['SalePrice']"
   ]
  },
  {
   "cell_type": "code",
   "execution_count": 68,
   "metadata": {
    "collapsed": false
   },
   "outputs": [
    {
     "name": "stderr",
     "output_type": "stream",
     "text": [
      "/home/lafes/anaconda3/lib/python3.6/site-packages/sklearn/linear_model/coordinate_descent.py:484: ConvergenceWarning: Objective did not converge. You might want to increase the number of iterations. Fitting data with very small alpha may cause precision problems.\n",
      "  ConvergenceWarning)\n",
      "/home/lafes/anaconda3/lib/python3.6/site-packages/sklearn/linear_model/coordinate_descent.py:484: ConvergenceWarning: Objective did not converge. You might want to increase the number of iterations. Fitting data with very small alpha may cause precision problems.\n",
      "  ConvergenceWarning)\n",
      "/home/lafes/anaconda3/lib/python3.6/site-packages/sklearn/linear_model/coordinate_descent.py:484: ConvergenceWarning: Objective did not converge. You might want to increase the number of iterations. Fitting data with very small alpha may cause precision problems.\n",
      "  ConvergenceWarning)\n",
      "/home/lafes/anaconda3/lib/python3.6/site-packages/sklearn/linear_model/coordinate_descent.py:484: ConvergenceWarning: Objective did not converge. You might want to increase the number of iterations. Fitting data with very small alpha may cause precision problems.\n",
      "  ConvergenceWarning)\n"
     ]
    },
    {
     "name": "stdout",
     "output_type": "stream",
     "text": [
      "CV score is: 0.886374445054\n"
     ]
    }
   ],
   "source": [
    "from sklearn.linear_model import Lasso\n",
    "las = Lasso(alpha=0.1, normalize=True, max_iter=10)\n",
    "accuracies = cross_val_score(estimator = las, X = X, y = y, cv = 5, n_jobs=-1)\n",
    "print('CV score is:', accuracies.mean())"
   ]
  },
  {
   "cell_type": "code",
   "execution_count": 69,
   "metadata": {
    "collapsed": false
   },
   "outputs": [
    {
     "name": "stderr",
     "output_type": "stream",
     "text": [
      "/home/lafes/anaconda3/lib/python3.6/site-packages/sklearn/linear_model/coordinate_descent.py:484: ConvergenceWarning: Objective did not converge. You might want to increase the number of iterations. Fitting data with very small alpha may cause precision problems.\n",
      "  ConvergenceWarning)\n"
     ]
    }
   ],
   "source": [
    "las.fit(X, y)\n",
    "y_pred_lasso = las.predict(test)"
   ]
  },
  {
   "cell_type": "markdown",
   "metadata": {},
   "source": [
    "## Ridge Regression"
   ]
  },
  {
   "cell_type": "code",
   "execution_count": 70,
   "metadata": {
    "collapsed": false
   },
   "outputs": [
    {
     "name": "stdout",
     "output_type": "stream",
     "text": [
      "CV score is: 0.908431522983\n"
     ]
    }
   ],
   "source": [
    "from sklearn.linear_model import Ridge\n",
    "reg = Ridge(alpha=10)\n",
    "accuracies = cross_val_score(estimator = reg, X = X, y = y, cv = 5, n_jobs=-1)\n",
    "print('CV score is:', accuracies.mean())"
   ]
  },
  {
   "cell_type": "code",
   "execution_count": 71,
   "metadata": {
    "collapsed": true
   },
   "outputs": [],
   "source": [
    "reg.fit(X, y)\n",
    "y_pred_reg = reg.predict(test)"
   ]
  },
  {
   "cell_type": "markdown",
   "metadata": {},
   "source": [
    "## BayesianRidge"
   ]
  },
  {
   "cell_type": "code",
   "execution_count": 72,
   "metadata": {
    "collapsed": false
   },
   "outputs": [
    {
     "name": "stdout",
     "output_type": "stream",
     "text": [
      "CV score is: 0.908394314969\n"
     ]
    }
   ],
   "source": [
    "from sklearn.linear_model import BayesianRidge\n",
    "bayesian = BayesianRidge()\n",
    "accuracies = cross_val_score(estimator = bayesian, X = X, y = y, cv = 5, n_jobs=-1)\n",
    "print('CV score is:', accuracies.mean())"
   ]
  },
  {
   "cell_type": "code",
   "execution_count": 73,
   "metadata": {
    "collapsed": true
   },
   "outputs": [],
   "source": [
    "bayesian.fit(X, y)\n",
    "y_pred_bayesian = bayesian.predict(test)"
   ]
  },
  {
   "cell_type": "markdown",
   "metadata": {},
   "source": [
    "## Random Forest"
   ]
  },
  {
   "cell_type": "code",
   "execution_count": 74,
   "metadata": {
    "collapsed": false
   },
   "outputs": [
    {
     "name": "stdout",
     "output_type": "stream",
     "text": [
      "CV score is: 0.888482438072\n"
     ]
    }
   ],
   "source": [
    "rfg = RandomForestRegressor(n_estimators=500, random_state=0, n_jobs=-1)\n",
    "accuracies = cross_val_score(estimator = rfg, X = X, y = y, cv = 10, n_jobs=-1)\n",
    "print('CV score is:', accuracies.mean())"
   ]
  },
  {
   "cell_type": "code",
   "execution_count": 75,
   "metadata": {
    "collapsed": false
   },
   "outputs": [],
   "source": [
    "rfg.fit(X,y)\n",
    "y_pred_rfg = rfg.predict(test)"
   ]
  },
  {
   "cell_type": "markdown",
   "metadata": {},
   "source": [
    "## ElasticNet"
   ]
  },
  {
   "cell_type": "code",
   "execution_count": 76,
   "metadata": {
    "collapsed": false
   },
   "outputs": [
    {
     "name": "stderr",
     "output_type": "stream",
     "text": [
      "/home/lafes/anaconda3/lib/python3.6/site-packages/sklearn/linear_model/coordinate_descent.py:484: ConvergenceWarning: Objective did not converge. You might want to increase the number of iterations. Fitting data with very small alpha may cause precision problems.\n",
      "  ConvergenceWarning)\n",
      "/home/lafes/anaconda3/lib/python3.6/site-packages/sklearn/linear_model/coordinate_descent.py:484: ConvergenceWarning: Objective did not converge. You might want to increase the number of iterations. Fitting data with very small alpha may cause precision problems.\n",
      "  ConvergenceWarning)\n",
      "/home/lafes/anaconda3/lib/python3.6/site-packages/sklearn/linear_model/coordinate_descent.py:484: ConvergenceWarning: Objective did not converge. You might want to increase the number of iterations. Fitting data with very small alpha may cause precision problems.\n",
      "  ConvergenceWarning)\n",
      "/home/lafes/anaconda3/lib/python3.6/site-packages/sklearn/linear_model/coordinate_descent.py:484: ConvergenceWarning: Objective did not converge. You might want to increase the number of iterations. Fitting data with very small alpha may cause precision problems.\n",
      "  ConvergenceWarning)\n"
     ]
    },
    {
     "name": "stdout",
     "output_type": "stream",
     "text": [
      "CV score is: 0.906821080108\n"
     ]
    }
   ],
   "source": [
    "from sklearn.linear_model import ElasticNet\n",
    "elastic = ElasticNet(alpha=0.1)\n",
    "accuracies = cross_val_score(estimator = elastic, X = X, y = y, cv = 10, n_jobs=-1)\n",
    "print('CV score is:', accuracies.mean())"
   ]
  },
  {
   "cell_type": "code",
   "execution_count": 77,
   "metadata": {
    "collapsed": false
   },
   "outputs": [
    {
     "name": "stderr",
     "output_type": "stream",
     "text": [
      "/home/lafes/anaconda3/lib/python3.6/site-packages/sklearn/linear_model/coordinate_descent.py:484: ConvergenceWarning: Objective did not converge. You might want to increase the number of iterations. Fitting data with very small alpha may cause precision problems.\n",
      "  ConvergenceWarning)\n"
     ]
    }
   ],
   "source": [
    "elastic.fit(X,y)\n",
    "y_pred_elastic = elastic.predict(test)"
   ]
  },
  {
   "cell_type": "markdown",
   "metadata": {},
   "source": [
    "## OrthogonalMatchingPursuit"
   ]
  },
  {
   "cell_type": "code",
   "execution_count": 78,
   "metadata": {
    "collapsed": false
   },
   "outputs": [
    {
     "name": "stdout",
     "output_type": "stream",
     "text": [
      "CV score is: 0.904904028234\n"
     ]
    }
   ],
   "source": [
    "from sklearn.linear_model import OrthogonalMatchingPursuit\n",
    "orth =OrthogonalMatchingPursuit()\n",
    "accuracies = cross_val_score(estimator = orth, X = X, y = y, cv = 10, n_jobs=-1)\n",
    "print('CV score is:', accuracies.mean())"
   ]
  },
  {
   "cell_type": "code",
   "execution_count": 79,
   "metadata": {
    "collapsed": true
   },
   "outputs": [],
   "source": [
    "orth.fit(X, y)\n",
    "y_pred_orth = orth.predict(test)"
   ]
  },
  {
   "cell_type": "code",
   "execution_count": 80,
   "metadata": {
    "collapsed": false
   },
   "outputs": [],
   "source": [
    "final_result = {'bayesian':y_pred_bayesian, 'elastic':y_pred_elastic, 'lasso':y_pred_lasso,\n",
    "               'mlr':y_pred_mlr, 'orth':y_pred_orth, 'reg':y_pred_reg, 'rfg':y_pred_rfg,\n",
    "               'xgb':y_pred_xgb}\n",
    "final_result = pd.DataFrame(final_result)"
   ]
  },
  {
   "cell_type": "code",
   "execution_count": 81,
   "metadata": {
    "collapsed": false
   },
   "outputs": [
    {
     "data": {
      "text/html": [
       "<div>\n",
       "<table border=\"1\" class=\"dataframe\">\n",
       "  <thead>\n",
       "    <tr style=\"text-align: right;\">\n",
       "      <th></th>\n",
       "      <th>bayesian</th>\n",
       "      <th>elastic</th>\n",
       "      <th>lasso</th>\n",
       "      <th>mlr</th>\n",
       "      <th>orth</th>\n",
       "      <th>reg</th>\n",
       "      <th>rfg</th>\n",
       "      <th>xgb</th>\n",
       "    </tr>\n",
       "  </thead>\n",
       "  <tbody>\n",
       "    <tr>\n",
       "      <th>bayesian</th>\n",
       "      <td>1.000000</td>\n",
       "      <td>0.997781</td>\n",
       "      <td>0.990708</td>\n",
       "      <td>0.996943</td>\n",
       "      <td>0.991792</td>\n",
       "      <td>0.999937</td>\n",
       "      <td>0.966709</td>\n",
       "      <td>0.979493</td>\n",
       "    </tr>\n",
       "    <tr>\n",
       "      <th>elastic</th>\n",
       "      <td>0.997781</td>\n",
       "      <td>1.000000</td>\n",
       "      <td>0.985311</td>\n",
       "      <td>0.993338</td>\n",
       "      <td>0.988557</td>\n",
       "      <td>0.997030</td>\n",
       "      <td>0.967944</td>\n",
       "      <td>0.978754</td>\n",
       "    </tr>\n",
       "    <tr>\n",
       "      <th>lasso</th>\n",
       "      <td>0.990708</td>\n",
       "      <td>0.985311</td>\n",
       "      <td>1.000000</td>\n",
       "      <td>0.989900</td>\n",
       "      <td>0.986014</td>\n",
       "      <td>0.991313</td>\n",
       "      <td>0.959184</td>\n",
       "      <td>0.972528</td>\n",
       "    </tr>\n",
       "    <tr>\n",
       "      <th>mlr</th>\n",
       "      <td>0.996943</td>\n",
       "      <td>0.993338</td>\n",
       "      <td>0.989900</td>\n",
       "      <td>1.000000</td>\n",
       "      <td>0.991333</td>\n",
       "      <td>0.997121</td>\n",
       "      <td>0.963097</td>\n",
       "      <td>0.976795</td>\n",
       "    </tr>\n",
       "    <tr>\n",
       "      <th>orth</th>\n",
       "      <td>0.991792</td>\n",
       "      <td>0.988557</td>\n",
       "      <td>0.986014</td>\n",
       "      <td>0.991333</td>\n",
       "      <td>1.000000</td>\n",
       "      <td>0.991809</td>\n",
       "      <td>0.963737</td>\n",
       "      <td>0.975447</td>\n",
       "    </tr>\n",
       "    <tr>\n",
       "      <th>reg</th>\n",
       "      <td>0.999937</td>\n",
       "      <td>0.997030</td>\n",
       "      <td>0.991313</td>\n",
       "      <td>0.997121</td>\n",
       "      <td>0.991809</td>\n",
       "      <td>1.000000</td>\n",
       "      <td>0.966205</td>\n",
       "      <td>0.979226</td>\n",
       "    </tr>\n",
       "    <tr>\n",
       "      <th>rfg</th>\n",
       "      <td>0.966709</td>\n",
       "      <td>0.967944</td>\n",
       "      <td>0.959184</td>\n",
       "      <td>0.963097</td>\n",
       "      <td>0.963737</td>\n",
       "      <td>0.966205</td>\n",
       "      <td>1.000000</td>\n",
       "      <td>0.985654</td>\n",
       "    </tr>\n",
       "    <tr>\n",
       "      <th>xgb</th>\n",
       "      <td>0.979493</td>\n",
       "      <td>0.978754</td>\n",
       "      <td>0.972528</td>\n",
       "      <td>0.976795</td>\n",
       "      <td>0.975447</td>\n",
       "      <td>0.979226</td>\n",
       "      <td>0.985654</td>\n",
       "      <td>1.000000</td>\n",
       "    </tr>\n",
       "  </tbody>\n",
       "</table>\n",
       "</div>"
      ],
      "text/plain": [
       "          bayesian   elastic     lasso       mlr      orth       reg  \\\n",
       "bayesian  1.000000  0.997781  0.990708  0.996943  0.991792  0.999937   \n",
       "elastic   0.997781  1.000000  0.985311  0.993338  0.988557  0.997030   \n",
       "lasso     0.990708  0.985311  1.000000  0.989900  0.986014  0.991313   \n",
       "mlr       0.996943  0.993338  0.989900  1.000000  0.991333  0.997121   \n",
       "orth      0.991792  0.988557  0.986014  0.991333  1.000000  0.991809   \n",
       "reg       0.999937  0.997030  0.991313  0.997121  0.991809  1.000000   \n",
       "rfg       0.966709  0.967944  0.959184  0.963097  0.963737  0.966205   \n",
       "xgb       0.979493  0.978754  0.972528  0.976795  0.975447  0.979226   \n",
       "\n",
       "               rfg       xgb  \n",
       "bayesian  0.966709  0.979493  \n",
       "elastic   0.967944  0.978754  \n",
       "lasso     0.959184  0.972528  \n",
       "mlr       0.963097  0.976795  \n",
       "orth      0.963737  0.975447  \n",
       "reg       0.966205  0.979226  \n",
       "rfg       1.000000  0.985654  \n",
       "xgb       0.985654  1.000000  "
      ]
     },
     "execution_count": 81,
     "metadata": {},
     "output_type": "execute_result"
    }
   ],
   "source": [
    "corrmat = final_result.corr()\n",
    "corrmat"
   ]
  },
  {
   "cell_type": "code",
   "execution_count": 82,
   "metadata": {
    "collapsed": false
   },
   "outputs": [],
   "source": [
    "y_pred = (2*final_result['xgb']  + final_result['reg'] + final_result['elastic'] + \n",
    "          final_result['lasso'] + final_result['orth'])/6"
   ]
  },
  {
   "cell_type": "code",
   "execution_count": 83,
   "metadata": {
    "collapsed": false
   },
   "outputs": [],
   "source": [
    "submission = pd.DataFrame({\n",
    "    'Id':test_df['Id'],\n",
    "    'SalePrice':y_pred\n",
    "})\n",
    "submission.to_csv('sub_FINAL', index=False)"
   ]
  },
  {
   "cell_type": "markdown",
   "metadata": {},
   "source": [
    "Weak esemble result due to similar algorithm."
   ]
  }
 ],
 "metadata": {
  "kernelspec": {
   "display_name": "Python 3",
   "language": "python",
   "name": "python3"
  },
  "language_info": {
   "codemirror_mode": {
    "name": "ipython",
    "version": 3
   },
   "file_extension": ".py",
   "mimetype": "text/x-python",
   "name": "python",
   "nbconvert_exporter": "python",
   "pygments_lexer": "ipython3",
   "version": "3.6.0"
  }
 },
 "nbformat": 4,
 "nbformat_minor": 2
}
