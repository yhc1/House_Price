{
 "cells": [
  {
   "cell_type": "markdown",
   "metadata": {},
   "source": [
    "利用[Ames Housing dataset](https://ww2.amstat.org/publications/jse/v19n3/decock.pdf)預測房價"
   ]
  },
  {
   "cell_type": "markdown",
   "metadata": {},
   "source": [
    "# Data Preprocessing\n",
    " 1. Data Type Transformation \n",
    " 2. Imputation \n",
    " 3. Create / Discard Features \n",
    " 4. Normality \n",
    " 5. Outlier "
   ]
  },
  {
   "cell_type": "markdown",
   "metadata": {},
   "source": [
    "# Model Selection\n",
    "1. Hyper Parameter Tunning\n",
    "2. Ensemble"
   ]
  },
  {
   "cell_type": "markdown",
   "metadata": {},
   "source": [
    "### TODO...\n",
    "* [Features Important Analysis](https://www.kaggle.com/jimthompson/boruta-feature-importance-analysis)\n",
    "* [Model Stacking](https://www.kaggle.com/c/house-prices-advanced-regression-techniques/discussion/23409)\n",
    "* Advanced Outlier Detection\n",
    "* Hyper parameter Tunning"
   ]
  },
  {
   "cell_type": "code",
   "execution_count": 1,
   "metadata": {
    "collapsed": true
   },
   "outputs": [],
   "source": [
    "# -*- coding: utf-8 -*-\n",
    "\n",
    "# pandas\n",
    "import pandas as pd\n",
    "\n",
    "# numpy, matplotlb, seaborn\n",
    "import numpy as np\n",
    "import matplotlib.pyplot as plt\n",
    "import seaborn as sns\n",
    "sns.set_style('whitegrid')\n",
    "%matplotlib inline\n",
    "import scipy.stats as st"
   ]
  },
  {
   "cell_type": "code",
   "execution_count": 2,
   "metadata": {
    "collapsed": false
   },
   "outputs": [],
   "source": [
    "# Import Dataset\n",
    "train_df = pd.read_csv('data/train.csv')\n",
    "test_df = pd.read_csv('data/test.csv')"
   ]
  },
  {
   "cell_type": "markdown",
   "metadata": {},
   "source": [
    "## Baseline Model\n",
    "A benchmark against to our feature engineering result"
   ]
  },
  {
   "cell_type": "markdown",
   "metadata": {},
   "source": [
    "### Preprocess"
   ]
  },
  {
   "cell_type": "code",
   "execution_count": 3,
   "metadata": {
    "collapsed": true
   },
   "outputs": [],
   "source": [
    "def preScoreTest(x, y=None):\n",
    "    x = pd.get_dummies(x)\n",
    "    x = x.fillna(x.mean())\n",
    "    y = pd.get_dummies(y)\n",
    "    y = y.fillna(y.mean())\n",
    "    common_cols = list(set(x.columns.tolist()) & set(y.columns.tolist()))\n",
    "    y = y[common_cols]\n",
    "    common_cols.append('SalePrice')\n",
    "    x = x[common_cols]\n",
    "    return x, y"
   ]
  },
  {
   "cell_type": "code",
   "execution_count": 4,
   "metadata": {
    "collapsed": false
   },
   "outputs": [],
   "source": [
    "train_base = train_df.copy()\n",
    "test_base = test_df.copy()\n",
    "train, test = preScoreTest(train_base, test_base)"
   ]
  },
  {
   "cell_type": "markdown",
   "metadata": {},
   "source": [
    "### Modelling"
   ]
  },
  {
   "cell_type": "code",
   "execution_count": 5,
   "metadata": {
    "collapsed": false
   },
   "outputs": [
    {
     "name": "stdout",
     "output_type": "stream",
     "text": [
      "CV score is: 0.863228650848\n"
     ]
    }
   ],
   "source": [
    "from sklearn.ensemble import RandomForestRegressor\n",
    "from sklearn.model_selection import cross_val_score\n",
    "\n",
    "rfg = RandomForestRegressor(n_estimators=300, random_state=0, n_jobs=-1)\n",
    "accuracies = cross_val_score(estimator = rfg, X = train.drop('SalePrice', axis=1), y = train['SalePrice'], cv = 10, n_jobs=-1)\n",
    "print('CV score is:', accuracies.mean())"
   ]
  },
  {
   "cell_type": "code",
   "execution_count": 6,
   "metadata": {
    "collapsed": false
   },
   "outputs": [],
   "source": [
    "rfg.fit(train.drop('SalePrice', axis=1), y=train['SalePrice'])\n",
    "y_pred = rfg.predict(test)"
   ]
  },
  {
   "cell_type": "code",
   "execution_count": 7,
   "metadata": {
    "collapsed": true
   },
   "outputs": [],
   "source": [
    "submission = pd.DataFrame({\n",
    "    'Id':test_df['Id'],\n",
    "    'SalePrice':y_pred\n",
    "})\n",
    "submission.to_csv('sub_base', index=False)"
   ]
  },
  {
   "cell_type": "markdown",
   "metadata": {},
   "source": [
    "## Data Type Transformation"
   ]
  },
  {
   "cell_type": "code",
   "execution_count": 8,
   "metadata": {
    "collapsed": true
   },
   "outputs": [],
   "source": [
    "# Numeric to Categoric\n",
    "train_df['MSSubClass'] = train_df['MSSubClass'].astype('object')\n",
    "test_df['MSSubClass'] = test_df['MSSubClass'].astype('object')"
   ]
  },
  {
   "cell_type": "code",
   "execution_count": 9,
   "metadata": {
    "collapsed": true
   },
   "outputs": [],
   "source": [
    "# Rank Fields to Numeric \n",
    "train_df.BsmtCond = train_df.BsmtCond.map({'NA':0, 'Po':1, 'Fa':2, 'TA':3, 'Gd':4, 'Ex':5})\n",
    "train_df.BsmtExposure = train_df.BsmtExposure.map({'NA':0, 'No':1, 'Mn':2, 'Av':3, 'Gd':4})\n",
    "train_df.BsmtFinType1 = train_df.BsmtFinType1.map({'NA':0, 'Unf':1, 'LwQ':2, 'Rec':3, 'BLQ':4, 'ALQ':5, 'GLQ':6})\n",
    "train_df.BsmtFinType2 = train_df.BsmtFinType2.map({'NA':0, 'Unf':1, 'LwQ':2, 'Rec':3, 'BLQ':4, 'ALQ':5, 'GLQ':6})\n",
    "train_df.BsmtQual = train_df.BsmtQual.map({'NA':0, 'Po':1, 'Fa':2, 'TA':3, 'Gd':4, 'Ex':5})\n",
    "train_df.ExterCond = train_df.ExterCond.map({'Po':1, 'Fa':2, 'TA':3, 'Gd':4, 'Ex':5})\n",
    "train_df.ExterQual = train_df.ExterQual.map({'Po':1, 'Fa':2, 'TA':3, 'Gd':4, 'Ex':5})\n",
    "train_df.FireplaceQu = train_df.FireplaceQu.map({'NA':0, 'Po':1, 'Fa':2, 'TA':3, 'Gd':4, 'Ex':5})\n",
    "train_df.GarageCond = train_df.GarageCond.map({'NA':0, 'Po':1, 'Fa':2, 'TA':3, 'Gd':4, 'Ex':5})\n",
    "train_df.GarageQual = train_df.GarageQual.map({'NA':0, 'Po':1, 'Fa':2, 'TA':3, 'Gd':4, 'Ex':5})\n",
    "train_df.HeatingQC = train_df.HeatingQC.map({'Po':1, 'Fa':2, 'TA':3, 'Gd':4, 'Ex':5})\n",
    "train_df.KitchenQual = train_df.KitchenQual.map({'Po':1, 'Fa':2, 'TA':3, 'Gd':4, 'Ex':5})\n",
    "train_df.PoolQC = train_df.PoolQC.map({'NA':0, 'Fa':1, 'TA':2, 'Gd':3, 'Ex':4})"
   ]
  },
  {
   "cell_type": "code",
   "execution_count": 10,
   "metadata": {
    "collapsed": true
   },
   "outputs": [],
   "source": [
    "test_df.BsmtCond = test_df.BsmtCond.map({'NA':0, 'Po':1, 'Fa':2, 'TA':3, 'Gd':4, 'Ex':5})\n",
    "test_df.BsmtExposure = test_df.BsmtExposure.map({'NA':0, 'No':1, 'Mn':2, 'Av':3, 'Gd':4})\n",
    "test_df.BsmtFinType1 = test_df.BsmtFinType1.map({'NA':0, 'Unf':1, 'LwQ':2, 'Rec':3, 'BLQ':4, 'ALQ':5, 'GLQ':6})\n",
    "test_df.BsmtFinType2 = test_df.BsmtFinType2.map({'NA':0, 'Unf':1, 'LwQ':2, 'Rec':3, 'BLQ':4, 'ALQ':5, 'GLQ':6})\n",
    "test_df.BsmtQual = test_df.BsmtQual.map({'NA':0, 'Po':1, 'Fa':2, 'TA':3, 'Gd':4, 'Ex':5})\n",
    "test_df.ExterCond = test_df.ExterCond.map({'Po':1, 'Fa':2, 'TA':3, 'Gd':4, 'Ex':5})\n",
    "test_df.ExterQual = test_df.ExterQual.map({'Po':1, 'Fa':2, 'TA':3, 'Gd':4, 'Ex':5})\n",
    "test_df.FireplaceQu = test_df.FireplaceQu.map({'NA':0, 'Po':1, 'Fa':2, 'TA':3, 'Gd':4, 'Ex':5})\n",
    "test_df.GarageCond = test_df.GarageCond.map({'NA':0, 'Po':1, 'Fa':2, 'TA':3, 'Gd':4, 'Ex':5})\n",
    "test_df.GarageQual = test_df.GarageQual.map({'NA':0, 'Po':1, 'Fa':2, 'TA':3, 'Gd':4, 'Ex':5})\n",
    "test_df.HeatingQC = test_df.HeatingQC.map({'Po':1, 'Fa':2, 'TA':3, 'Gd':4, 'Ex':5})\n",
    "test_df.KitchenQual = test_df.KitchenQual.map({'Po':1, 'Fa':2, 'TA':3, 'Gd':4, 'Ex':5})\n",
    "test_df.PoolQC = test_df.PoolQC.map({'NA':0, 'Fa':1, 'TA':2, 'Gd':3, 'Ex':4})"
   ]
  },
  {
   "cell_type": "code",
   "execution_count": 11,
   "metadata": {
    "collapsed": false
   },
   "outputs": [
    {
     "name": "stdout",
     "output_type": "stream",
     "text": [
      "CV score is: 0.865806194248\n"
     ]
    }
   ],
   "source": [
    "train, test = preScoreTest(train_df, test_df)\n",
    "\n",
    "rfg = RandomForestRegressor(n_estimators=300, random_state=0, n_jobs=-1)\n",
    "accuracies = cross_val_score(estimator = rfg, X = train.drop('SalePrice', axis=1), y = train['SalePrice'], cv = 10, n_jobs=-1)\n",
    "print('CV score is:', accuracies.mean())"
   ]
  },
  {
   "cell_type": "markdown",
   "metadata": {},
   "source": [
    "## Imputation"
   ]
  },
  {
   "cell_type": "code",
   "execution_count": 12,
   "metadata": {
    "collapsed": false
   },
   "outputs": [
    {
     "name": "stdout",
     "output_type": "stream",
     "text": [
      "              Missing   Percent\n",
      "PoolQC           1453  0.995205\n",
      "MiscFeature      1406  0.963014\n",
      "Alley            1369  0.937671\n",
      "Fence            1179  0.807534\n",
      "FireplaceQu       690  0.472603\n",
      "LotFrontage       259  0.177397\n",
      "GarageCond         81  0.055479\n",
      "GarageType         81  0.055479\n",
      "GarageYrBlt        81  0.055479\n",
      "GarageFinish       81  0.055479\n",
      "GarageQual         81  0.055479\n",
      "BsmtExposure       38  0.026027\n",
      "BsmtFinType2       38  0.026027\n",
      "BsmtFinType1       37  0.025342\n",
      "BsmtCond           37  0.025342\n",
      "BsmtQual           37  0.025342\n",
      "MasVnrArea          8  0.005479\n",
      "MasVnrType          8  0.005479\n",
      "Electrical          1  0.000685\n",
      "Utilities           0  0.000000\n",
      "YearRemodAdd        0  0.000000\n",
      "MSSubClass          0  0.000000\n",
      "Foundation          0  0.000000\n",
      "ExterCond           0  0.000000\n",
      "ExterQual           0  0.000000\n"
     ]
    }
   ],
   "source": [
    "def missing_data(df):\n",
    "    missing = df.isnull().sum().sort_values(ascending=False)\n",
    "    percent = (df.isnull().sum() / df.isnull().count()).sort_values(ascending=False)\n",
    "    missing_data = pd.concat([missing, percent], axis=1, keys=['Missing', 'Percent'])\n",
    "    return missing_data\n",
    "missing = missing_data(train_df)\n",
    "print(missing.head(25))"
   ]
  },
  {
   "cell_type": "markdown",
   "metadata": {},
   "source": [
    "* PoolQC, MiscFeature, Alley, Fence, FireplaceQu, GarageX, BsmtX都是由於沒有(no Pool ,Miss Feature, Alley ...)，而非真的遺失因此填上\"None\"值。\n",
    "* 利用其他欄位預測LotFrontage的遺失值\n",
    "* 其餘遺失值都很低，因此帶入最常見的數值\n",
    "\n"
   ]
  },
  {
   "cell_type": "code",
   "execution_count": 170,
   "metadata": {
    "collapsed": true
   },
   "outputs": [],
   "source": [
    "train_m = train_df.copy()"
   ]
  },
  {
   "cell_type": "code",
   "execution_count": 60,
   "metadata": {
    "collapsed": true
   },
   "outputs": [],
   "source": [
    "train_m['PoolQC'].fillna('None', inplace=True)\n",
    "train_m['MiscFeature'].fillna('None', inplace=True)\n",
    "train_m['Alley'].fillna('None', inplace=True)\n",
    "train_m['Fence'].fillna('None', inplace=True)\n",
    "train_m['FireplaceQu'].fillna('None', inplace=True)\n",
    "\n",
    "# GarageX\n",
    "train_m['GarageFinish'].fillna('No', inplace=True)\n",
    "train_m['GarageType'].fillna('No', inplace=True)\n",
    "train_m['GarageCond'].fillna('No', inplace=True)\n",
    "train_m['GarageQual'].fillna('No', inplace=True)\n",
    "\n",
    "# BsmtX\n",
    "train_m['BsmtFinType2'].fillna('No', inplace=True)\n",
    "train_m['BsmtExposure'].fillna('No', inplace=True)\n",
    "train_m['BsmtFinType1'].fillna('No', inplace=True)\n",
    "train_m['BsmtQual'].fillna('No', inplace=True)\n",
    "train_m['BsmtCond'].fillna('No', inplace=True)\n",
    "# MassVnrX\n",
    "train_m['MasVnrArea'].fillna('No', inplace=True)\n",
    "train_m['MasVnrType'].fillna('No', inplace=True)\n",
    "\n",
    "train_m['Electrical'].fillna('SBrkr', inplace=True)"
   ]
  },
  {
   "cell_type": "code",
   "execution_count": 61,
   "metadata": {
    "collapsed": false
   },
   "outputs": [],
   "source": [
    "# LotFrontage\n",
    "# Using xgboost to impute missing data\n",
    "from xgboost import XGBRegressor\n",
    "\n",
    "null_idx = train_m.loc[train_m['LotFrontage'].isnull()].index\n",
    "\n",
    "train_lot = train_m.copy()\n",
    "test_lot = train_m.copy()\n",
    "train_lot = train_lot.drop(train_lot.index[[null_idx]])\n",
    "test_lot = test_lot.loc[null_idx]\n",
    "\n",
    "x, y = preScoreTest(train_lot, test_lot)\n",
    "\n",
    "xgb = XGBRegressor(learning_rate=0.05,n_estimators=500,max_depth=3,colsample_bytree=0.4)\n",
    "xgb.fit(x.drop(['LotFrontage', 'SalePrice'], axis=1),x['LotFrontage'])\n",
    "y = y.drop(['LotFrontage', 'SalePrice'], axis=1)\n",
    "y_pred = xgb.predict(y)\n",
    "train_m.loc[null_idx, 'LotFrontage'] = y_pred\n"
   ]
  },
  {
   "cell_type": "code",
   "execution_count": 62,
   "metadata": {
    "collapsed": false
   },
   "outputs": [
    {
     "name": "stdout",
     "output_type": "stream",
     "text": [
      "             Missing   Percent\n",
      "GarageYrBlt       81  0.055479\n",
      "SalePrice          0  0.000000\n",
      "RoofStyle          0  0.000000\n",
      "RoofMatl           0  0.000000\n",
      "Exterior1st        0  0.000000\n"
     ]
    }
   ],
   "source": [
    "missing = missing_data(train_m)\n",
    "print(missing.head(5))"
   ]
  },
  {
   "cell_type": "code",
   "execution_count": null,
   "metadata": {
    "collapsed": false
   },
   "outputs": [],
   "source": [
    "train, test = preScoreTest(train_m, test_df)\n",
    "\n",
    "rfg = RandomForestRegressor(n_estimators=300, random_state=0, n_jobs=-1)\n",
    "accuracies = cross_val_score(estimator = rfg, X = train.drop('SalePrice', axis=1), y = train['SalePrice'], cv = 10, n_jobs=-1)\n",
    "print('CV score is:', accuracies.mean())"
   ]
  },
  {
   "cell_type": "code",
   "execution_count": 171,
   "metadata": {
    "collapsed": true
   },
   "outputs": [],
   "source": [
    "train, test = preScoreTest(train_m, test_df)"
   ]
  },
  {
   "cell_type": "code",
   "execution_count": 172,
   "metadata": {
    "collapsed": false
   },
   "outputs": [
    {
     "name": "stdout",
     "output_type": "stream",
     "text": [
      "CV score is: 0.9013048695\n"
     ]
    }
   ],
   "source": [
    "xgb = XGBRegressor(learning_rate=0.05,n_estimators=500,max_depth=3,colsample_bytree=0.4)\n",
    "accuracies = cross_val_score(estimator = xgb, X = train.drop('SalePrice', axis=1), y = train['SalePrice'], cv = 10, n_jobs=-1)\n",
    "print('CV score is:', accuracies.mean())"
   ]
  },
  {
   "cell_type": "code",
   "execution_count": 29,
   "metadata": {
    "collapsed": true
   },
   "outputs": [],
   "source": [
    "xgb.fit(train.drop('SalePrice', axis=1), y=train['SalePrice'])\n",
    "y_pred = xgb.predict(test)\n",
    "submission = pd.DataFrame({\n",
    "    'Id':test_df['Id'],\n",
    "    'SalePrice':y_pred\n",
    "})\n",
    "submission.to_csv('sub_missing2', index=False)"
   ]
  },
  {
   "cell_type": "markdown",
   "metadata": {},
   "source": [
    "## Create / Discard Features"
   ]
  },
  {
   "cell_type": "code",
   "execution_count": 226,
   "metadata": {
    "collapsed": false
   },
   "outputs": [],
   "source": [
    "train_f = train_m.copy()\n",
    "test_f = test_df.copy()"
   ]
  },
  {
   "cell_type": "code",
   "execution_count": 220,
   "metadata": {
    "collapsed": false
   },
   "outputs": [
    {
     "name": "stdout",
     "output_type": "stream",
     "text": [
      "['Street', 'Utilities', 'Condition2', 'RoofMatl', 'Heating', 'LowQualFinSF', '3SsnPorch', 'PoolArea']\n"
     ]
    }
   ],
   "source": [
    "# too much duplicate value in single columns(over 90%)\n",
    "val = [n for n in train_f.columns if train_f[n].value_counts().max()/len(train_f) > 0.97]\n",
    "print(val)\n",
    "train_f = train_f.drop(val, axis=1)"
   ]
  },
  {
   "cell_type": "code",
   "execution_count": 221,
   "metadata": {
    "collapsed": false
   },
   "outputs": [],
   "source": [
    "# Bath\n",
    "train_f['Bath'] = train_f['FullBath'] + 0.5 * train_f['HalfBath'] + train_f['BsmtFullBath'] + 0.5 * train_f['BsmtHalfBath']\n",
    "train_f = train_f.drop(['BsmtFullBath', 'BsmtHalfBath', 'FullBath', 'HalfBath'], axis=1)\n",
    "\n",
    "test_f['Bath'] = test_f['FullBath'] + 0.5 * test_f['HalfBath'] + test_f['BsmtFullBath'] + 0.5 * test_f['BsmtHalfBath']\n",
    "test_f = test_f.drop(['BsmtFullBath', 'BsmtHalfBath', 'FullBath', 'HalfBath'], axis=1)"
   ]
  },
  {
   "cell_type": "code",
   "execution_count": 222,
   "metadata": {
    "collapsed": false
   },
   "outputs": [],
   "source": [
    "# Id\n",
    "train_f = train_f.drop('Id', axis=1)\n",
    "test_f = test_f.drop('Id', axis=1)"
   ]
  },
  {
   "cell_type": "code",
   "execution_count": 223,
   "metadata": {
    "collapsed": false
   },
   "outputs": [],
   "source": [
    "train, test = preScoreTest(train_f, test_f)"
   ]
  },
  {
   "cell_type": "code",
   "execution_count": 224,
   "metadata": {
    "collapsed": false
   },
   "outputs": [
    {
     "name": "stdout",
     "output_type": "stream",
     "text": [
      "CV score is: 0.903854295269\n"
     ]
    }
   ],
   "source": [
    "xgb = XGBRegressor(learning_rate=0.05,n_estimators=500,max_depth=3,colsample_bytree=0.4)\n",
    "accuracies = cross_val_score(estimator = xgb, X = train.drop('SalePrice', axis=1), y = train['SalePrice'], cv = 10, n_jobs=-1)\n",
    "print('CV score is:', accuracies.mean())"
   ]
  },
  {
   "cell_type": "code",
   "execution_count": 225,
   "metadata": {
    "collapsed": true
   },
   "outputs": [],
   "source": [
    "xgb.fit(train.drop('SalePrice', axis=1), y=train['SalePrice'])\n",
    "y_pred =xgb.predict(test)\n",
    "submission = pd.DataFrame({\n",
    "    'Id':test_df['Id'],\n",
    "    'SalePrice':y_pred\n",
    "})\n",
    "submission.to_csv('sub_features', index=False)"
   ]
  },
  {
   "cell_type": "markdown",
   "metadata": {},
   "source": [
    "## Normality\n",
    "Lots of statistic test(z, t, chi2, f...) has normal distribution asuumption."
   ]
  },
  {
   "cell_type": "code",
   "execution_count": 227,
   "metadata": {
    "collapsed": true
   },
   "outputs": [],
   "source": [
    "train_normal = train_f.copy()\n",
    "test_normal = test_f.copy()"
   ]
  },
  {
   "cell_type": "code",
   "execution_count": 228,
   "metadata": {
    "collapsed": false
   },
   "outputs": [
    {
     "data": {
      "text/plain": [
       "Id                0.000000\n",
       "LotFrontage       2.163569\n",
       "LotArea          12.207688\n",
       "OverallQual       0.216944\n",
       "OverallCond       0.693067\n",
       "YearBuilt        -0.613461\n",
       "YearRemodAdd     -0.503562\n",
       "MasVnrArea        2.669084\n",
       "ExterQual         0.825988\n",
       "ExterCond         1.397219\n",
       "BsmtQual          0.286003\n",
       "BsmtCond          0.000700\n",
       "BsmtExposure      1.174906\n",
       "BsmtFinType1     -0.177260\n",
       "BsmtFinSF1        1.685503\n",
       "BsmtFinType2      3.489000\n",
       "BsmtFinSF2        4.255261\n",
       "BsmtUnfSF         0.920268\n",
       "TotalBsmtSF       1.524255\n",
       "HeatingQC        -0.540458\n",
       "1stFlrSF          1.376757\n",
       "2ndFlrSF          0.813030\n",
       "LowQualFinSF      9.011341\n",
       "GrLivArea         1.366560\n",
       "BsmtFullBath      0.596067\n",
       "BsmtHalfBath      4.103403\n",
       "FullBath          0.036562\n",
       "HalfBath          0.675897\n",
       "BedroomAbvGr      0.211790\n",
       "KitchenAbvGr      4.488397\n",
       "KitchenQual       0.386765\n",
       "TotRmsAbvGrd      0.676341\n",
       "Fireplaces        0.649565\n",
       "FireplaceQu      -0.902508\n",
       "GarageYrBlt      -0.649415\n",
       "GarageCars       -0.342549\n",
       "GarageArea        0.179981\n",
       "GarageQual       -1.309356\n",
       "GarageCond       -3.161554\n",
       "WoodDeckSF        1.541376\n",
       "OpenPorchSF       2.364342\n",
       "EnclosedPorch     3.089872\n",
       "3SsnPorch        10.304342\n",
       "ScreenPorch       4.122214\n",
       "PoolArea         14.828374\n",
       "PoolQC           -0.681691\n",
       "MiscVal          24.476794\n",
       "MoSold            0.212053\n",
       "YrSold            0.096269\n",
       "SalePrice         1.882876\n",
       "dtype: float64"
      ]
     },
     "execution_count": 228,
     "metadata": {},
     "output_type": "execute_result"
    }
   ],
   "source": [
    "# skewness\n",
    "numeric_cols = [f for f in train_normal if train_normal.dtypes[f] != 'object']\n",
    "train_normal[numeric_cols].skew()"
   ]
  },
  {
   "cell_type": "code",
   "execution_count": 229,
   "metadata": {
    "collapsed": false
   },
   "outputs": [
    {
     "data": {
      "text/plain": [
       "Index(['LotFrontage', 'LotArea', 'MasVnrArea', 'ExterCond', 'BsmtExposure',\n",
       "       'BsmtFinSF1', 'BsmtFinType2', 'BsmtFinSF2', 'TotalBsmtSF', '1stFlrSF',\n",
       "       'LowQualFinSF', 'GrLivArea', 'BsmtHalfBath', 'KitchenAbvGr',\n",
       "       'WoodDeckSF', 'OpenPorchSF', 'EnclosedPorch', '3SsnPorch',\n",
       "       'ScreenPorch', 'PoolArea', 'MiscVal', 'SalePrice'],\n",
       "      dtype='object')"
      ]
     },
     "execution_count": 229,
     "metadata": {},
     "output_type": "execute_result"
    }
   ],
   "source": [
    "skew =train_normal[numeric_cols].columns[train_normal[numeric_cols].skew() >1]\n",
    "skew"
   ]
  },
  {
   "cell_type": "code",
   "execution_count": 230,
   "metadata": {
    "collapsed": false
   },
   "outputs": [
    {
     "name": "stdout",
     "output_type": "stream",
     "text": [
      "LotFrontage\n",
      "LotArea\n",
      "MasVnrArea\n",
      "ExterCond\n",
      "BsmtExposure\n",
      "BsmtFinSF1\n",
      "BsmtFinType2\n",
      "BsmtFinSF2\n",
      "TotalBsmtSF\n",
      "1stFlrSF\n",
      "LowQualFinSF\n",
      "GrLivArea\n",
      "BsmtHalfBath\n",
      "KitchenAbvGr\n",
      "WoodDeckSF\n",
      "OpenPorchSF\n",
      "EnclosedPorch\n",
      "3SsnPorch\n",
      "ScreenPorch\n",
      "PoolArea\n",
      "MiscVal\n"
     ]
    }
   ],
   "source": [
    "for s in skew.values:\n",
    "    if s in test_normal.columns:\n",
    "        train_normal[s] = np.log1p(train_normal[s])\n",
    "        test_normal[s] = np.log1p(test_normal[s])"
   ]
  },
  {
   "cell_type": "code",
   "execution_count": 231,
   "metadata": {
    "collapsed": true
   },
   "outputs": [],
   "source": [
    "train_normal['SalePrice'] = np.log1p(train_normal['SalePrice'])"
   ]
  },
  {
   "cell_type": "code",
   "execution_count": 232,
   "metadata": {
    "collapsed": true
   },
   "outputs": [],
   "source": [
    "train, test = preScoreTest(train_normal, test_normal)"
   ]
  },
  {
   "cell_type": "code",
   "execution_count": 233,
   "metadata": {
    "collapsed": false
   },
   "outputs": [
    {
     "name": "stdout",
     "output_type": "stream",
     "text": [
      "CV score is: 0.911375917119\n"
     ]
    }
   ],
   "source": [
    "xgb = XGBRegressor(learning_rate=0.05,n_estimators=500,max_depth=3,colsample_bytree=0.4)\n",
    "accuracies = cross_val_score(estimator = xgb, X = train.drop('SalePrice', axis=1), y = train['SalePrice'], cv = 10, n_jobs=-1)\n",
    "print('CV score is:', accuracies.mean())"
   ]
  },
  {
   "cell_type": "code",
   "execution_count": 234,
   "metadata": {
    "collapsed": true
   },
   "outputs": [],
   "source": [
    "xgb.fit(train.drop('SalePrice', axis=1), y=train['SalePrice'])\n",
    "y_pred = np.expm1(xgb.predict(test))\n",
    "submission = pd.DataFrame({\n",
    "    'Id':test_df['Id'],\n",
    "    'SalePrice':y_pred\n",
    "})\n",
    "submission.to_csv('sub_normality', index=False)"
   ]
  },
  {
   "cell_type": "markdown",
   "metadata": {},
   "source": [
    "## Outlier"
   ]
  },
  {
   "cell_type": "code",
   "execution_count": 235,
   "metadata": {
    "collapsed": true
   },
   "outputs": [],
   "source": [
    "train_out = train_normal.copy()\n",
    "test_out = test_normal.copy()"
   ]
  },
  {
   "cell_type": "code",
   "execution_count": null,
   "metadata": {
    "collapsed": true
   },
   "outputs": [],
   "source": [
    "train, test = preScoreTest(train_out, test_out)"
   ]
  },
  {
   "cell_type": "code",
   "execution_count": 237,
   "metadata": {
    "collapsed": false
   },
   "outputs": [
    {
     "name": "stderr",
     "output_type": "stream",
     "text": [
      "/home/lafes/anaconda3/lib/python3.6/site-packages/statsmodels/stats/outliers_influence.py:309: RuntimeWarning: invalid value encountered in sqrt\n",
      "  return  self.results.resid / sigma / np.sqrt(1 - hii)\n",
      "/home/lafes/anaconda3/lib/python3.6/site-packages/scipy/stats/_distn_infrastructure.py:879: RuntimeWarning: invalid value encountered in greater\n",
      "  return (self.a < x) & (x < self.b)\n",
      "/home/lafes/anaconda3/lib/python3.6/site-packages/scipy/stats/_distn_infrastructure.py:879: RuntimeWarning: invalid value encountered in less\n",
      "  return (self.a < x) & (x < self.b)\n",
      "/home/lafes/anaconda3/lib/python3.6/site-packages/scipy/stats/_distn_infrastructure.py:1818: RuntimeWarning: invalid value encountered in less_equal\n",
      "  cond2 = cond0 & (x <= self.a)\n",
      "/home/lafes/anaconda3/lib/python3.6/site-packages/statsmodels/stats/multitest.py:147: RuntimeWarning: invalid value encountered in less_equal\n",
      "  reject = pvals <= alphacBonf\n",
      "/home/lafes/anaconda3/lib/python3.6/site-packages/statsmodels/stats/multitest.py:251: RuntimeWarning: invalid value encountered in greater\n",
      "  pvals_corrected[pvals_corrected>1] = 1\n"
     ]
    }
   ],
   "source": [
    "import statsmodels.api as sm\n",
    "regressor = sm.OLS(train['SalePrice'], train.drop('SalePrice', axis=1)).fit()\n",
    "result = regressor.outlier_test()"
   ]
  },
  {
   "cell_type": "code",
   "execution_count": 238,
   "metadata": {
    "collapsed": false
   },
   "outputs": [],
   "source": [
    "outlier = result['bonf(p)']\n",
    "outlier = outlier[outlier<1e-3].index"
   ]
  },
  {
   "cell_type": "code",
   "execution_count": 242,
   "metadata": {
    "collapsed": false
   },
   "outputs": [],
   "source": [
    "train_out = train_out.drop(train_out.index[[outlier]])"
   ]
  },
  {
   "cell_type": "code",
   "execution_count": 244,
   "metadata": {
    "collapsed": true
   },
   "outputs": [],
   "source": [
    "train, test = preScoreTest(train_out, test_out)"
   ]
  },
  {
   "cell_type": "code",
   "execution_count": 245,
   "metadata": {
    "collapsed": false
   },
   "outputs": [
    {
     "name": "stdout",
     "output_type": "stream",
     "text": [
      "CV score is: 0.925829679225\n"
     ]
    }
   ],
   "source": [
    "xgb = XGBRegressor(learning_rate=0.05,n_estimators=500,max_depth=3,colsample_bytree=0.4)\n",
    "accuracies = cross_val_score(estimator = xgb, X = train.drop('SalePrice', axis=1), y = train['SalePrice'], cv = 10, n_jobs=-1)\n",
    "print('CV score is:', accuracies.mean())"
   ]
  },
  {
   "cell_type": "markdown",
   "metadata": {},
   "source": [
    "## Ensemble!"
   ]
  }
 ],
 "metadata": {
  "kernelspec": {
   "display_name": "Python 3",
   "language": "python",
   "name": "python3"
  },
  "language_info": {
   "codemirror_mode": {
    "name": "ipython",
    "version": 3
   },
   "file_extension": ".py",
   "mimetype": "text/x-python",
   "name": "python",
   "nbconvert_exporter": "python",
   "pygments_lexer": "ipython3",
   "version": "3.6.0"
  }
 },
 "nbformat": 4,
 "nbformat_minor": 2
}
