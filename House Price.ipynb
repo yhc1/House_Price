{
 "cells": [
  {
   "cell_type": "markdown",
   "metadata": {},
   "source": [
    "利用[Ames Housing dataset](https://ww2.amstat.org/publications/jse/v19n3/decock.pdf)預測房價"
   ]
  },
  {
   "cell_type": "markdown",
   "metadata": {},
   "source": [
    "# Data Preprocessing\n",
    " 1. Data Type Transformation \n",
    " 2. Imputation \n",
    " 3. Create / Discard Features \n",
    " 4. Normality \n",
    " 5. Outlier "
   ]
  },
  {
   "cell_type": "markdown",
   "metadata": {},
   "source": [
    "# Model Selection\n",
    "1. Hyper Parameter Tunning\n",
    "2. Ensemble"
   ]
  },
  {
   "cell_type": "markdown",
   "metadata": {},
   "source": [
    "### TODO...\n",
    "* [Features Important Analysis](https://www.kaggle.com/jimthompson/boruta-feature-importance-analysis)\n",
    "* [Model Stacking](https://www.kaggle.com/c/house-prices-advanced-regression-techniques/discussion/23409)\n",
    "* Advanced Outlier Detection\n",
    "* Hyper parameter Tunning"
   ]
  },
  {
   "cell_type": "code",
   "execution_count": 1,
   "metadata": {
    "collapsed": true
   },
   "outputs": [],
   "source": [
    "# -*- coding: utf-8 -*-\n",
    "\n",
    "# pandas\n",
    "import pandas as pd\n",
    "\n",
    "# numpy, matplotlb, seaborn\n",
    "import numpy as np\n",
    "import matplotlib.pyplot as plt\n",
    "import seaborn as sns\n",
    "sns.set_style('whitegrid')\n",
    "%matplotlib inline\n",
    "import scipy.stats as st"
   ]
  },
  {
   "cell_type": "code",
   "execution_count": 2,
   "metadata": {
    "collapsed": false
   },
   "outputs": [],
   "source": [
    "# Import Dataset\n",
    "train_df = pd.read_csv('data/train.csv')\n",
    "test_df = pd.read_csv('data/test.csv')"
   ]
  },
  {
   "cell_type": "markdown",
   "metadata": {},
   "source": [
    "## Baseline Model\n",
    "A benchmark against to our feature engineering result"
   ]
  },
  {
   "cell_type": "markdown",
   "metadata": {},
   "source": [
    "### Preprocess"
   ]
  },
  {
   "cell_type": "code",
   "execution_count": 3,
   "metadata": {
    "collapsed": true
   },
   "outputs": [],
   "source": [
    "def preScoreTest(x, y=None):\n",
    "    x = pd.get_dummies(x)\n",
    "    x = x.fillna(x.mean())\n",
    "    y = pd.get_dummies(y)\n",
    "    y = y.fillna(y.mean())\n",
    "    common_cols = list(set(x.columns.tolist()) & set(y.columns.tolist()))\n",
    "    y = y[common_cols]\n",
    "    common_cols.append('SalePrice')\n",
    "    x = x[common_cols]\n",
    "    return x, y"
   ]
  },
  {
   "cell_type": "code",
   "execution_count": 4,
   "metadata": {
    "collapsed": false
   },
   "outputs": [],
   "source": [
    "train_base = train_df.copy()\n",
    "test_base = test_df.copy()\n",
    "train, test = preScoreTest(train_base, test_base)"
   ]
  },
  {
   "cell_type": "markdown",
   "metadata": {},
   "source": [
    "### Modelling"
   ]
  },
  {
   "cell_type": "code",
   "execution_count": 5,
   "metadata": {
    "collapsed": false
   },
   "outputs": [
    {
     "name": "stdout",
     "output_type": "stream",
     "text": [
      "CV score is: 0.863228650848\n"
     ]
    }
   ],
   "source": [
    "from sklearn.ensemble import RandomForestRegressor\n",
    "from sklearn.model_selection import cross_val_score\n",
    "\n",
    "rfg = RandomForestRegressor(n_estimators=300, random_state=0, n_jobs=-1)\n",
    "accuracies = cross_val_score(estimator = rfg, X = train.drop('SalePrice', axis=1), y = train['SalePrice'], cv = 10, n_jobs=-1)\n",
    "print('CV score is:', accuracies.mean())"
   ]
  },
  {
   "cell_type": "code",
   "execution_count": 6,
   "metadata": {
    "collapsed": false
   },
   "outputs": [],
   "source": [
    "rfg.fit(train.drop('SalePrice', axis=1), y=train['SalePrice'])\n",
    "y_pred = rfg.predict(test)"
   ]
  },
  {
   "cell_type": "code",
   "execution_count": 7,
   "metadata": {
    "collapsed": true
   },
   "outputs": [],
   "source": [
    "submission = pd.DataFrame({\n",
    "    'Id':test_df['Id'],\n",
    "    'SalePrice':y_pred\n",
    "})\n",
    "submission.to_csv('sub_base', index=False)"
   ]
  },
  {
   "cell_type": "markdown",
   "metadata": {},
   "source": [
    "## Data Type Transformation"
   ]
  },
  {
   "cell_type": "code",
   "execution_count": 8,
   "metadata": {
    "collapsed": true
   },
   "outputs": [],
   "source": [
    "# Numeric to Categoric\n",
    "train_df['MSSubClass'] = train_df['MSSubClass'].astype('object')\n",
    "test_df['MSSubClass'] = test_df['MSSubClass'].astype('object')"
   ]
  },
  {
   "cell_type": "code",
   "execution_count": 9,
   "metadata": {
    "collapsed": true
   },
   "outputs": [],
   "source": [
    "# Rank Fields to Numeric \n",
    "train_df.BsmtCond = train_df.BsmtCond.map({'NA':0, 'Po':1, 'Fa':2, 'TA':3, 'Gd':4, 'Ex':5})\n",
    "train_df.BsmtExposure = train_df.BsmtExposure.map({'NA':0, 'No':1, 'Mn':2, 'Av':3, 'Gd':4})\n",
    "train_df.BsmtFinType1 = train_df.BsmtFinType1.map({'NA':0, 'Unf':1, 'LwQ':2, 'Rec':3, 'BLQ':4, 'ALQ':5, 'GLQ':6})\n",
    "train_df.BsmtFinType2 = train_df.BsmtFinType2.map({'NA':0, 'Unf':1, 'LwQ':2, 'Rec':3, 'BLQ':4, 'ALQ':5, 'GLQ':6})\n",
    "train_df.BsmtQual = train_df.BsmtQual.map({'NA':0, 'Po':1, 'Fa':2, 'TA':3, 'Gd':4, 'Ex':5})\n",
    "train_df.ExterCond = train_df.ExterCond.map({'Po':1, 'Fa':2, 'TA':3, 'Gd':4, 'Ex':5})\n",
    "train_df.ExterQual = train_df.ExterQual.map({'Po':1, 'Fa':2, 'TA':3, 'Gd':4, 'Ex':5})\n",
    "train_df.FireplaceQu = train_df.FireplaceQu.map({'NA':0, 'Po':1, 'Fa':2, 'TA':3, 'Gd':4, 'Ex':5})\n",
    "train_df.GarageCond = train_df.GarageCond.map({'NA':0, 'Po':1, 'Fa':2, 'TA':3, 'Gd':4, 'Ex':5})\n",
    "train_df.GarageQual = train_df.GarageQual.map({'NA':0, 'Po':1, 'Fa':2, 'TA':3, 'Gd':4, 'Ex':5})\n",
    "train_df.HeatingQC = train_df.HeatingQC.map({'Po':1, 'Fa':2, 'TA':3, 'Gd':4, 'Ex':5})\n",
    "train_df.KitchenQual = train_df.KitchenQual.map({'Po':1, 'Fa':2, 'TA':3, 'Gd':4, 'Ex':5})\n",
    "train_df.PoolQC = train_df.PoolQC.map({'NA':0, 'Fa':1, 'TA':2, 'Gd':3, 'Ex':4})"
   ]
  },
  {
   "cell_type": "code",
   "execution_count": 10,
   "metadata": {
    "collapsed": true
   },
   "outputs": [],
   "source": [
    "test_df.BsmtCond = test_df.BsmtCond.map({'NA':0, 'Po':1, 'Fa':2, 'TA':3, 'Gd':4, 'Ex':5})\n",
    "test_df.BsmtExposure = test_df.BsmtExposure.map({'NA':0, 'No':1, 'Mn':2, 'Av':3, 'Gd':4})\n",
    "test_df.BsmtFinType1 = test_df.BsmtFinType1.map({'NA':0, 'Unf':1, 'LwQ':2, 'Rec':3, 'BLQ':4, 'ALQ':5, 'GLQ':6})\n",
    "test_df.BsmtFinType2 = test_df.BsmtFinType2.map({'NA':0, 'Unf':1, 'LwQ':2, 'Rec':3, 'BLQ':4, 'ALQ':5, 'GLQ':6})\n",
    "test_df.BsmtQual = test_df.BsmtQual.map({'NA':0, 'Po':1, 'Fa':2, 'TA':3, 'Gd':4, 'Ex':5})\n",
    "test_df.ExterCond = test_df.ExterCond.map({'Po':1, 'Fa':2, 'TA':3, 'Gd':4, 'Ex':5})\n",
    "test_df.ExterQual = test_df.ExterQual.map({'Po':1, 'Fa':2, 'TA':3, 'Gd':4, 'Ex':5})\n",
    "test_df.FireplaceQu = test_df.FireplaceQu.map({'NA':0, 'Po':1, 'Fa':2, 'TA':3, 'Gd':4, 'Ex':5})\n",
    "test_df.GarageCond = test_df.GarageCond.map({'NA':0, 'Po':1, 'Fa':2, 'TA':3, 'Gd':4, 'Ex':5})\n",
    "test_df.GarageQual = test_df.GarageQual.map({'NA':0, 'Po':1, 'Fa':2, 'TA':3, 'Gd':4, 'Ex':5})\n",
    "test_df.HeatingQC = test_df.HeatingQC.map({'Po':1, 'Fa':2, 'TA':3, 'Gd':4, 'Ex':5})\n",
    "test_df.KitchenQual = test_df.KitchenQual.map({'Po':1, 'Fa':2, 'TA':3, 'Gd':4, 'Ex':5})\n",
    "test_df.PoolQC = test_df.PoolQC.map({'NA':0, 'Fa':1, 'TA':2, 'Gd':3, 'Ex':4})"
   ]
  },
  {
   "cell_type": "code",
   "execution_count": 11,
   "metadata": {
    "collapsed": false
   },
   "outputs": [
    {
     "name": "stdout",
     "output_type": "stream",
     "text": [
      "CV score is: 0.865806194248\n"
     ]
    }
   ],
   "source": [
    "train, test = preScoreTest(train_df, test_df)\n",
    "\n",
    "rfg = RandomForestRegressor(n_estimators=300, random_state=0, n_jobs=-1)\n",
    "accuracies = cross_val_score(estimator = rfg, X = train.drop('SalePrice', axis=1), y = train['SalePrice'], cv = 10, n_jobs=-1)\n",
    "print('CV score is:', accuracies.mean())"
   ]
  },
  {
   "cell_type": "markdown",
   "metadata": {},
   "source": [
    "## Imputation"
   ]
  },
  {
   "cell_type": "code",
   "execution_count": 12,
   "metadata": {
    "collapsed": false
   },
   "outputs": [
    {
     "name": "stdout",
     "output_type": "stream",
     "text": [
      "              Missing   Percent\n",
      "PoolQC           1453  0.995205\n",
      "MiscFeature      1406  0.963014\n",
      "Alley            1369  0.937671\n",
      "Fence            1179  0.807534\n",
      "FireplaceQu       690  0.472603\n",
      "LotFrontage       259  0.177397\n",
      "GarageCond         81  0.055479\n",
      "GarageType         81  0.055479\n",
      "GarageYrBlt        81  0.055479\n",
      "GarageFinish       81  0.055479\n",
      "GarageQual         81  0.055479\n",
      "BsmtExposure       38  0.026027\n",
      "BsmtFinType2       38  0.026027\n",
      "BsmtFinType1       37  0.025342\n",
      "BsmtCond           37  0.025342\n",
      "BsmtQual           37  0.025342\n",
      "MasVnrArea          8  0.005479\n",
      "MasVnrType          8  0.005479\n",
      "Electrical          1  0.000685\n",
      "Utilities           0  0.000000\n",
      "YearRemodAdd        0  0.000000\n",
      "MSSubClass          0  0.000000\n",
      "Foundation          0  0.000000\n",
      "ExterCond           0  0.000000\n",
      "ExterQual           0  0.000000\n"
     ]
    }
   ],
   "source": [
    "def missing_data(df):\n",
    "    missing = df.isnull().sum().sort_values(ascending=False)\n",
    "    percent = (df.isnull().sum() / df.isnull().count()).sort_values(ascending=False)\n",
    "    missing_data = pd.concat([missing, percent], axis=1, keys=['Missing', 'Percent'])\n",
    "    return missing_data\n",
    "missing = missing_data(train_df)\n",
    "print(missing.head(25))"
   ]
  },
  {
   "cell_type": "markdown",
   "metadata": {},
   "source": [
    "* PoolQC, MiscFeature, Alley, Fence, FireplaceQu, GarageX, BsmtX都是由於沒有(no Pool ,Miss Feature, Alley ...)，而非真的遺失因此填上\"None\"值。\n",
    "* 利用其他欄位預測LotFrontage的遺失值\n",
    "* 其餘遺失值都很低，因此帶入最常見的數值\n",
    "\n"
   ]
  },
  {
   "cell_type": "code",
   "execution_count": 170,
   "metadata": {
    "collapsed": true
   },
   "outputs": [],
   "source": [
    "train_m = train_df.copy()"
   ]
  },
  {
   "cell_type": "code",
   "execution_count": 60,
   "metadata": {
    "collapsed": true
   },
   "outputs": [],
   "source": [
    "train_m['PoolQC'].fillna('None', inplace=True)\n",
    "train_m['MiscFeature'].fillna('None', inplace=True)\n",
    "train_m['Alley'].fillna('None', inplace=True)\n",
    "train_m['Fence'].fillna('None', inplace=True)\n",
    "train_m['FireplaceQu'].fillna('None', inplace=True)\n",
    "\n",
    "# GarageX\n",
    "train_m['GarageFinish'].fillna('No', inplace=True)\n",
    "train_m['GarageType'].fillna('No', inplace=True)\n",
    "train_m['GarageCond'].fillna('No', inplace=True)\n",
    "train_m['GarageQual'].fillna('No', inplace=True)\n",
    "\n",
    "# BsmtX\n",
    "train_m['BsmtFinType2'].fillna('No', inplace=True)\n",
    "train_m['BsmtExposure'].fillna('No', inplace=True)\n",
    "train_m['BsmtFinType1'].fillna('No', inplace=True)\n",
    "train_m['BsmtQual'].fillna('No', inplace=True)\n",
    "train_m['BsmtCond'].fillna('No', inplace=True)\n",
    "# MassVnrX\n",
    "train_m['MasVnrArea'].fillna('No', inplace=True)\n",
    "train_m['MasVnrType'].fillna('No', inplace=True)\n",
    "\n",
    "train_m['Electrical'].fillna('SBrkr', inplace=True)"
   ]
  },
  {
   "cell_type": "code",
   "execution_count": 61,
   "metadata": {
    "collapsed": false
   },
   "outputs": [],
   "source": [
    "# LotFrontage\n",
    "# Using xgboost to impute missing data\n",
    "from xgboost import XGBRegressor\n",
    "\n",
    "null_idx = train_m.loc[train_m['LotFrontage'].isnull()].index\n",
    "\n",
    "train_lot = train_m.copy()\n",
    "test_lot = train_m.copy()\n",
    "train_lot = train_lot.drop(train_lot.index[[null_idx]])\n",
    "test_lot = test_lot.loc[null_idx]\n",
    "\n",
    "x, y = preScoreTest(train_lot, test_lot)\n",
    "\n",
    "xgb = XGBRegressor(learning_rate=0.05,n_estimators=500,max_depth=3,colsample_bytree=0.4)\n",
    "xgb.fit(x.drop(['LotFrontage', 'SalePrice'], axis=1),x['LotFrontage'])\n",
    "y = y.drop(['LotFrontage', 'SalePrice'], axis=1)\n",
    "y_pred = xgb.predict(y)\n",
    "train_m.loc[null_idx, 'LotFrontage'] = y_pred\n"
   ]
  },
  {
   "cell_type": "code",
   "execution_count": 62,
   "metadata": {
    "collapsed": false
   },
   "outputs": [
    {
     "name": "stdout",
     "output_type": "stream",
     "text": [
      "             Missing   Percent\n",
      "GarageYrBlt       81  0.055479\n",
      "SalePrice          0  0.000000\n",
      "RoofStyle          0  0.000000\n",
      "RoofMatl           0  0.000000\n",
      "Exterior1st        0  0.000000\n"
     ]
    }
   ],
   "source": [
    "missing = missing_data(train_m)\n",
    "print(missing.head(5))"
   ]
  },
  {
   "cell_type": "code",
   "execution_count": null,
   "metadata": {
    "collapsed": false
   },
   "outputs": [],
   "source": [
    "train, test = preScoreTest(train_m, test_df)\n",
    "\n",
    "rfg = RandomForestRegressor(n_estimators=300, random_state=0, n_jobs=-1)\n",
    "accuracies = cross_val_score(estimator = rfg, X = train.drop('SalePrice', axis=1), y = train['SalePrice'], cv = 10, n_jobs=-1)\n",
    "print('CV score is:', accuracies.mean())"
   ]
  },
  {
   "cell_type": "code",
   "execution_count": 171,
   "metadata": {
    "collapsed": true
   },
   "outputs": [],
   "source": [
    "train, test = preScoreTest(train_m, test_df)"
   ]
  },
  {
   "cell_type": "code",
   "execution_count": 172,
   "metadata": {
    "collapsed": false
   },
   "outputs": [
    {
     "name": "stdout",
     "output_type": "stream",
     "text": [
      "CV score is: 0.9013048695\n"
     ]
    }
   ],
   "source": [
    "xgb = XGBRegressor(learning_rate=0.05,n_estimators=500,max_depth=3,colsample_bytree=0.4)\n",
    "accuracies = cross_val_score(estimator = xgb, X = train.drop('SalePrice', axis=1), y = train['SalePrice'], cv = 10, n_jobs=-1)\n",
    "print('CV score is:', accuracies.mean())"
   ]
  },
  {
   "cell_type": "code",
   "execution_count": 29,
   "metadata": {
    "collapsed": true
   },
   "outputs": [],
   "source": [
    "xgb.fit(train.drop('SalePrice', axis=1), y=train['SalePrice'])\n",
    "y_pred = xgb.predict(test)\n",
    "submission = pd.DataFrame({\n",
    "    'Id':test_df['Id'],\n",
    "    'SalePrice':y_pred\n",
    "})\n",
    "submission.to_csv('sub_missing2', index=False)"
   ]
  },
  {
   "cell_type": "markdown",
   "metadata": {},
   "source": [
    "## Create / Discard Features"
   ]
  },
  {
   "cell_type": "code",
   "execution_count": 258,
   "metadata": {
    "collapsed": false
   },
   "outputs": [],
   "source": [
    "train_f = train_m.copy()\n",
    "test_f = test_df.copy()"
   ]
  },
  {
   "cell_type": "code",
   "execution_count": 259,
   "metadata": {
    "collapsed": false
   },
   "outputs": [
    {
     "name": "stdout",
     "output_type": "stream",
     "text": [
      "['Street', 'Utilities', 'Condition2', 'RoofMatl', 'Heating', 'LowQualFinSF', '3SsnPorch', 'PoolArea']\n"
     ]
    }
   ],
   "source": [
    "# too much duplicate value in single columns(over 90%)\n",
    "val = [n for n in train_f.columns if train_f[n].value_counts().max()/len(train_f) > 0.97]\n",
    "print(val)\n",
    "train_f = train_f.drop(val, axis=1)"
   ]
  },
  {
   "cell_type": "code",
   "execution_count": 260,
   "metadata": {
    "collapsed": false
   },
   "outputs": [],
   "source": [
    "# Number of Baths\n",
    "train_f['Bath'] = train_f['FullBath'] + 0.5 * train_f['HalfBath'] + train_f['BsmtFullBath'] + 0.5 * train_f['BsmtHalfBath']\n",
    "train_f = train_f.drop(['BsmtFullBath', 'BsmtHalfBath', 'FullBath', 'HalfBath'], axis=1)\n",
    "\n",
    "test_f['Bath'] = test_f['FullBath'] + 0.5 * test_f['HalfBath'] + test_f['BsmtFullBath'] + 0.5 * test_f['BsmtHalfBath']\n",
    "test_f = test_f.drop(['BsmtFullBath', 'BsmtHalfBath', 'FullBath', 'HalfBath'], axis=1)"
   ]
  },
  {
   "cell_type": "code",
   "execution_count": 261,
   "metadata": {
    "collapsed": false
   },
   "outputs": [],
   "source": [
    "# drop Id\n",
    "train_f = train_f.drop('Id', axis=1)\n",
    "test_f = test_f.drop('Id', axis=1)"
   ]
  },
  {
   "cell_type": "code",
   "execution_count": 262,
   "metadata": {
    "collapsed": false
   },
   "outputs": [],
   "source": [
    "train, test = preScoreTest(train_f, test_f)"
   ]
  },
  {
   "cell_type": "code",
   "execution_count": 263,
   "metadata": {
    "collapsed": false
   },
   "outputs": [
    {
     "name": "stdout",
     "output_type": "stream",
     "text": [
      "CV score is: 0.903854295269\n"
     ]
    }
   ],
   "source": [
    "xgb = XGBRegressor(learning_rate=0.05,n_estimators=500,max_depth=3,colsample_bytree=0.4)\n",
    "accuracies = cross_val_score(estimator = xgb, X = train.drop('SalePrice', axis=1), y = train['SalePrice'], cv = 10, n_jobs=-1)\n",
    "print('CV score is:', accuracies.mean())"
   ]
  },
  {
   "cell_type": "code",
   "execution_count": 225,
   "metadata": {
    "collapsed": true
   },
   "outputs": [],
   "source": [
    "xgb.fit(train.drop('SalePrice', axis=1), y=train['SalePrice'])\n",
    "y_pred =xgb.predict(test)\n",
    "submission = pd.DataFrame({\n",
    "    'Id':test_df['Id'],\n",
    "    'SalePrice':y_pred\n",
    "})\n",
    "submission.to_csv('sub_features', index=False)"
   ]
  },
  {
   "cell_type": "markdown",
   "metadata": {},
   "source": [
    "## Normality\n",
    "Lots of statistic test(z, t, chi2, f...) has normal distribution asuumption."
   ]
  },
  {
   "cell_type": "code",
   "execution_count": 264,
   "metadata": {
    "collapsed": true
   },
   "outputs": [],
   "source": [
    "train_normal = train_f.copy()\n",
    "test_normal = test_f.copy()"
   ]
  },
  {
   "cell_type": "code",
   "execution_count": 266,
   "metadata": {
    "collapsed": false
   },
   "outputs": [
    {
     "data": {
      "text/plain": [
       "LotFrontage       2.163569\n",
       "LotArea          12.207688\n",
       "OverallQual       0.216944\n",
       "OverallCond       0.693067\n",
       "YearBuilt        -0.613461\n",
       "YearRemodAdd     -0.503562\n",
       "MasVnrArea        2.669084\n",
       "ExterQual         0.825988\n",
       "ExterCond         1.397219\n",
       "BsmtQual          0.286003\n",
       "BsmtCond          0.000700\n",
       "BsmtExposure      1.174906\n",
       "BsmtFinType1     -0.177260\n",
       "BsmtFinSF1        1.685503\n",
       "BsmtFinType2      3.489000\n",
       "BsmtFinSF2        4.255261\n",
       "BsmtUnfSF         0.920268\n",
       "TotalBsmtSF       1.524255\n",
       "HeatingQC        -0.540458\n",
       "1stFlrSF          1.376757\n",
       "2ndFlrSF          0.813030\n",
       "GrLivArea         1.366560\n",
       "BedroomAbvGr      0.211790\n",
       "KitchenAbvGr      4.488397\n",
       "KitchenQual       0.386765\n",
       "TotRmsAbvGrd      0.676341\n",
       "Fireplaces        0.649565\n",
       "FireplaceQu      -0.902508\n",
       "GarageYrBlt      -0.649415\n",
       "GarageCars       -0.342549\n",
       "GarageArea        0.179981\n",
       "GarageQual       -1.309356\n",
       "GarageCond       -3.161554\n",
       "WoodDeckSF        1.541376\n",
       "OpenPorchSF       2.364342\n",
       "EnclosedPorch     3.089872\n",
       "ScreenPorch       4.122214\n",
       "PoolQC           -0.681691\n",
       "MiscVal          24.476794\n",
       "MoSold            0.212053\n",
       "YrSold            0.096269\n",
       "SalePrice         1.882876\n",
       "Bath              0.264676\n",
       "dtype: float64"
      ]
     },
     "execution_count": 266,
     "metadata": {},
     "output_type": "execute_result"
    }
   ],
   "source": [
    "# skewness\n",
    "numeric_cols = [f for f in train_normal if train_normal.dtypes[f] != 'object']\n",
    "train_normal[numeric_cols].skew()"
   ]
  },
  {
   "cell_type": "code",
   "execution_count": 268,
   "metadata": {
    "collapsed": false
   },
   "outputs": [
    {
     "data": {
      "text/plain": [
       "Index(['LotFrontage', 'LotArea', 'MasVnrArea', 'ExterCond', 'BsmtExposure',\n",
       "       'BsmtFinSF1', 'BsmtFinType2', 'BsmtFinSF2', 'TotalBsmtSF', '1stFlrSF',\n",
       "       'GrLivArea', 'KitchenAbvGr', 'WoodDeckSF', 'OpenPorchSF',\n",
       "       'EnclosedPorch', 'ScreenPorch', 'MiscVal', 'SalePrice'],\n",
       "      dtype='object')"
      ]
     },
     "execution_count": 268,
     "metadata": {},
     "output_type": "execute_result"
    }
   ],
   "source": [
    "skew =train_normal[numeric_cols].columns[train_normal[numeric_cols].skew() >1]\n",
    "skew"
   ]
  },
  {
   "cell_type": "code",
   "execution_count": 269,
   "metadata": {
    "collapsed": false
   },
   "outputs": [
    {
     "name": "stdout",
     "output_type": "stream",
     "text": [
      "SalePrice\n"
     ]
    }
   ],
   "source": [
    "for s in skew.values:\n",
    "    if s in test_normal.columns:\n",
    "        train_normal[s] = np.log1p(train_normal[s])\n",
    "        test_normal[s] = np.log1p(test_normal[s])\n",
    "    else:\n",
    "        print(s)"
   ]
  },
  {
   "cell_type": "code",
   "execution_count": 270,
   "metadata": {
    "collapsed": true
   },
   "outputs": [],
   "source": [
    "train_normal['SalePrice'] = np.log1p(train_normal['SalePrice'])"
   ]
  },
  {
   "cell_type": "code",
   "execution_count": 271,
   "metadata": {
    "collapsed": true
   },
   "outputs": [],
   "source": [
    "train, test = preScoreTest(train_normal, test_normal)"
   ]
  },
  {
   "cell_type": "code",
   "execution_count": 272,
   "metadata": {
    "collapsed": false
   },
   "outputs": [
    {
     "name": "stdout",
     "output_type": "stream",
     "text": [
      "CV score is: 0.915197935091\n"
     ]
    }
   ],
   "source": [
    "xgb = XGBRegressor(learning_rate=0.05,n_estimators=500,max_depth=3,colsample_bytree=0.4)\n",
    "accuracies = cross_val_score(estimator = xgb, X = train.drop('SalePrice', axis=1), y = train['SalePrice'], cv = 10, n_jobs=-1)\n",
    "print('CV score is:', accuracies.mean())"
   ]
  },
  {
   "cell_type": "code",
   "execution_count": 234,
   "metadata": {
    "collapsed": true
   },
   "outputs": [],
   "source": [
    "xgb.fit(train.drop('SalePrice', axis=1), y=train['SalePrice'])\n",
    "y_pred = np.expm1(xgb.predict(test))\n",
    "submission = pd.DataFrame({\n",
    "    'Id':test_df['Id'],\n",
    "    'SalePrice':y_pred\n",
    "})\n",
    "submission.to_csv('sub_normality', index=False)"
   ]
  },
  {
   "cell_type": "markdown",
   "metadata": {},
   "source": [
    "## Outlier"
   ]
  },
  {
   "cell_type": "code",
   "execution_count": 273,
   "metadata": {
    "collapsed": true
   },
   "outputs": [],
   "source": [
    "train_out = train_normal.copy()\n",
    "test_out = test_normal.copy()"
   ]
  },
  {
   "cell_type": "code",
   "execution_count": 274,
   "metadata": {
    "collapsed": true
   },
   "outputs": [],
   "source": [
    "train, test = preScoreTest(train_out, test_out)"
   ]
  },
  {
   "cell_type": "code",
   "execution_count": 237,
   "metadata": {
    "collapsed": false
   },
   "outputs": [
    {
     "name": "stderr",
     "output_type": "stream",
     "text": [
      "/home/lafes/anaconda3/lib/python3.6/site-packages/statsmodels/stats/outliers_influence.py:309: RuntimeWarning: invalid value encountered in sqrt\n",
      "  return  self.results.resid / sigma / np.sqrt(1 - hii)\n",
      "/home/lafes/anaconda3/lib/python3.6/site-packages/scipy/stats/_distn_infrastructure.py:879: RuntimeWarning: invalid value encountered in greater\n",
      "  return (self.a < x) & (x < self.b)\n",
      "/home/lafes/anaconda3/lib/python3.6/site-packages/scipy/stats/_distn_infrastructure.py:879: RuntimeWarning: invalid value encountered in less\n",
      "  return (self.a < x) & (x < self.b)\n",
      "/home/lafes/anaconda3/lib/python3.6/site-packages/scipy/stats/_distn_infrastructure.py:1818: RuntimeWarning: invalid value encountered in less_equal\n",
      "  cond2 = cond0 & (x <= self.a)\n",
      "/home/lafes/anaconda3/lib/python3.6/site-packages/statsmodels/stats/multitest.py:147: RuntimeWarning: invalid value encountered in less_equal\n",
      "  reject = pvals <= alphacBonf\n",
      "/home/lafes/anaconda3/lib/python3.6/site-packages/statsmodels/stats/multitest.py:251: RuntimeWarning: invalid value encountered in greater\n",
      "  pvals_corrected[pvals_corrected>1] = 1\n"
     ]
    }
   ],
   "source": [
    "import statsmodels.api as sm\n",
    "regressor = sm.OLS(train['SalePrice'], train.drop('SalePrice', axis=1)).fit()\n",
    "result = regressor.outlier_test()"
   ]
  },
  {
   "cell_type": "code",
   "execution_count": 275,
   "metadata": {
    "collapsed": false
   },
   "outputs": [],
   "source": [
    "outlier = result['bonf(p)']\n",
    "outlier = outlier[outlier<1e-3].index"
   ]
  },
  {
   "cell_type": "code",
   "execution_count": 276,
   "metadata": {
    "collapsed": false
   },
   "outputs": [],
   "source": [
    "train_out = train_out.drop(train_out.index[[outlier]])"
   ]
  },
  {
   "cell_type": "code",
   "execution_count": 277,
   "metadata": {
    "collapsed": true
   },
   "outputs": [],
   "source": [
    "train, test = preScoreTest(train_out, test_out)"
   ]
  },
  {
   "cell_type": "code",
   "execution_count": 278,
   "metadata": {
    "collapsed": false
   },
   "outputs": [
    {
     "name": "stdout",
     "output_type": "stream",
     "text": [
      "CV score is: 0.926510794827\n"
     ]
    }
   ],
   "source": [
    "xgb = XGBRegressor(learning_rate=0.05,n_estimators=500,max_depth=3,colsample_bytree=0.4)\n",
    "accuracies = cross_val_score(estimator = xgb, X = train.drop('SalePrice', axis=1), y = train['SalePrice'], cv = 10, n_jobs=-1)\n",
    "print('CV score is:', accuracies.mean())"
   ]
  },
  {
   "cell_type": "markdown",
   "metadata": {},
   "source": [
    "## Feature Selection"
   ]
  },
  {
   "cell_type": "code",
   "execution_count": 279,
   "metadata": {
    "collapsed": false
   },
   "outputs": [
    {
     "data": {
      "text/plain": [
       "RandomForestRegressor(bootstrap=True, criterion='mse', max_depth=None,\n",
       "           max_features='auto', max_leaf_nodes=None,\n",
       "           min_impurity_split=1e-07, min_samples_leaf=1,\n",
       "           min_samples_split=2, min_weight_fraction_leaf=0.0,\n",
       "           n_estimators=300, n_jobs=-1, oob_score=False, random_state=0,\n",
       "           verbose=0, warm_start=False)"
      ]
     },
     "execution_count": 279,
     "metadata": {},
     "output_type": "execute_result"
    }
   ],
   "source": [
    "train, test = preScoreTest(train_out, test_out)\n",
    "X = train.drop('SalePrice', axis=1)\n",
    "y = train['SalePrice']\n",
    "rfg = RandomForestRegressor(n_estimators=300, random_state=0, n_jobs=-1)\n",
    "rfg.fit(X, y)"
   ]
  },
  {
   "cell_type": "code",
   "execution_count": 281,
   "metadata": {
    "collapsed": false
   },
   "outputs": [
    {
     "data": {
      "text/html": [
       "<div>\n",
       "<table border=\"1\" class=\"dataframe\">\n",
       "  <thead>\n",
       "    <tr style=\"text-align: right;\">\n",
       "      <th></th>\n",
       "      <th>Importance</th>\n",
       "    </tr>\n",
       "  </thead>\n",
       "  <tbody>\n",
       "    <tr>\n",
       "      <th>OverallQual</th>\n",
       "      <td>5.516378e-01</td>\n",
       "    </tr>\n",
       "    <tr>\n",
       "      <th>GrLivArea</th>\n",
       "      <td>9.169370e-02</td>\n",
       "    </tr>\n",
       "    <tr>\n",
       "      <th>Bath</th>\n",
       "      <td>4.467294e-02</td>\n",
       "    </tr>\n",
       "    <tr>\n",
       "      <th>TotalBsmtSF</th>\n",
       "      <td>4.240544e-02</td>\n",
       "    </tr>\n",
       "    <tr>\n",
       "      <th>GarageCars</th>\n",
       "      <td>3.309667e-02</td>\n",
       "    </tr>\n",
       "    <tr>\n",
       "      <th>GarageArea</th>\n",
       "      <td>3.121596e-02</td>\n",
       "    </tr>\n",
       "    <tr>\n",
       "      <th>1stFlrSF</th>\n",
       "      <td>2.537222e-02</td>\n",
       "    </tr>\n",
       "    <tr>\n",
       "      <th>BsmtFinSF1</th>\n",
       "      <td>1.679240e-02</td>\n",
       "    </tr>\n",
       "    <tr>\n",
       "      <th>LotArea</th>\n",
       "      <td>1.234682e-02</td>\n",
       "    </tr>\n",
       "    <tr>\n",
       "      <th>YearBuilt</th>\n",
       "      <td>1.077533e-02</td>\n",
       "    </tr>\n",
       "    <tr>\n",
       "      <th>OverallCond</th>\n",
       "      <td>1.065400e-02</td>\n",
       "    </tr>\n",
       "    <tr>\n",
       "      <th>CentralAir_N</th>\n",
       "      <td>6.923627e-03</td>\n",
       "    </tr>\n",
       "    <tr>\n",
       "      <th>YearRemodAdd</th>\n",
       "      <td>6.499920e-03</td>\n",
       "    </tr>\n",
       "    <tr>\n",
       "      <th>Fireplaces</th>\n",
       "      <td>5.749308e-03</td>\n",
       "    </tr>\n",
       "    <tr>\n",
       "      <th>CentralAir_Y</th>\n",
       "      <td>5.721059e-03</td>\n",
       "    </tr>\n",
       "    <tr>\n",
       "      <th>BsmtQual</th>\n",
       "      <td>5.249112e-03</td>\n",
       "    </tr>\n",
       "    <tr>\n",
       "      <th>LotFrontage</th>\n",
       "      <td>4.943507e-03</td>\n",
       "    </tr>\n",
       "    <tr>\n",
       "      <th>BsmtUnfSF</th>\n",
       "      <td>4.233514e-03</td>\n",
       "    </tr>\n",
       "    <tr>\n",
       "      <th>2ndFlrSF</th>\n",
       "      <td>4.179904e-03</td>\n",
       "    </tr>\n",
       "    <tr>\n",
       "      <th>GarageType_Detchd</th>\n",
       "      <td>3.844814e-03</td>\n",
       "    </tr>\n",
       "    <tr>\n",
       "      <th>GarageYrBlt</th>\n",
       "      <td>3.683821e-03</td>\n",
       "    </tr>\n",
       "    <tr>\n",
       "      <th>MSZoning_C (all)</th>\n",
       "      <td>3.668811e-03</td>\n",
       "    </tr>\n",
       "    <tr>\n",
       "      <th>OpenPorchSF</th>\n",
       "      <td>3.452290e-03</td>\n",
       "    </tr>\n",
       "    <tr>\n",
       "      <th>TotRmsAbvGrd</th>\n",
       "      <td>3.241424e-03</td>\n",
       "    </tr>\n",
       "    <tr>\n",
       "      <th>MasVnrArea</th>\n",
       "      <td>2.913128e-03</td>\n",
       "    </tr>\n",
       "    <tr>\n",
       "      <th>MSZoning_RM</th>\n",
       "      <td>2.860261e-03</td>\n",
       "    </tr>\n",
       "    <tr>\n",
       "      <th>KitchenQual</th>\n",
       "      <td>2.710845e-03</td>\n",
       "    </tr>\n",
       "    <tr>\n",
       "      <th>WoodDeckSF</th>\n",
       "      <td>2.591195e-03</td>\n",
       "    </tr>\n",
       "    <tr>\n",
       "      <th>MoSold</th>\n",
       "      <td>2.557975e-03</td>\n",
       "    </tr>\n",
       "    <tr>\n",
       "      <th>GarageType_Attchd</th>\n",
       "      <td>2.477249e-03</td>\n",
       "    </tr>\n",
       "    <tr>\n",
       "      <th>...</th>\n",
       "      <td>...</td>\n",
       "    </tr>\n",
       "    <tr>\n",
       "      <th>Condition1_PosA</th>\n",
       "      <td>1.325261e-05</td>\n",
       "    </tr>\n",
       "    <tr>\n",
       "      <th>MSSubClass_85</th>\n",
       "      <td>1.309190e-05</td>\n",
       "    </tr>\n",
       "    <tr>\n",
       "      <th>Electrical_FuseP</th>\n",
       "      <td>1.182891e-05</td>\n",
       "    </tr>\n",
       "    <tr>\n",
       "      <th>Neighborhood_NPkVill</th>\n",
       "      <td>1.162370e-05</td>\n",
       "    </tr>\n",
       "    <tr>\n",
       "      <th>GarageType_2Types</th>\n",
       "      <td>1.126737e-05</td>\n",
       "    </tr>\n",
       "    <tr>\n",
       "      <th>Neighborhood_Blmngtn</th>\n",
       "      <td>1.078100e-05</td>\n",
       "    </tr>\n",
       "    <tr>\n",
       "      <th>Exterior1st_AsphShn</th>\n",
       "      <td>1.063637e-05</td>\n",
       "    </tr>\n",
       "    <tr>\n",
       "      <th>Exterior2nd_ImStucc</th>\n",
       "      <td>9.987652e-06</td>\n",
       "    </tr>\n",
       "    <tr>\n",
       "      <th>Exterior2nd_Stone</th>\n",
       "      <td>9.644218e-06</td>\n",
       "    </tr>\n",
       "    <tr>\n",
       "      <th>SaleType_ConLw</th>\n",
       "      <td>9.315169e-06</td>\n",
       "    </tr>\n",
       "    <tr>\n",
       "      <th>MSSubClass_45</th>\n",
       "      <td>8.995826e-06</td>\n",
       "    </tr>\n",
       "    <tr>\n",
       "      <th>LotShape_IR3</th>\n",
       "      <td>8.807428e-06</td>\n",
       "    </tr>\n",
       "    <tr>\n",
       "      <th>SaleType_CWD</th>\n",
       "      <td>7.722723e-06</td>\n",
       "    </tr>\n",
       "    <tr>\n",
       "      <th>SaleType_Con</th>\n",
       "      <td>5.672831e-06</td>\n",
       "    </tr>\n",
       "    <tr>\n",
       "      <th>Fence_MnWw</th>\n",
       "      <td>5.540790e-06</td>\n",
       "    </tr>\n",
       "    <tr>\n",
       "      <th>SaleType_Oth</th>\n",
       "      <td>4.440968e-06</td>\n",
       "    </tr>\n",
       "    <tr>\n",
       "      <th>SaleCondition_AdjLand</th>\n",
       "      <td>2.783923e-06</td>\n",
       "    </tr>\n",
       "    <tr>\n",
       "      <th>Foundation_Wood</th>\n",
       "      <td>2.693245e-06</td>\n",
       "    </tr>\n",
       "    <tr>\n",
       "      <th>Condition1_RRNn</th>\n",
       "      <td>2.557021e-06</td>\n",
       "    </tr>\n",
       "    <tr>\n",
       "      <th>Foundation_Stone</th>\n",
       "      <td>2.184433e-06</td>\n",
       "    </tr>\n",
       "    <tr>\n",
       "      <th>Condition1_RRNe</th>\n",
       "      <td>1.949932e-06</td>\n",
       "    </tr>\n",
       "    <tr>\n",
       "      <th>MiscFeature_Gar2</th>\n",
       "      <td>1.906390e-06</td>\n",
       "    </tr>\n",
       "    <tr>\n",
       "      <th>SaleType_ConLI</th>\n",
       "      <td>1.756225e-06</td>\n",
       "    </tr>\n",
       "    <tr>\n",
       "      <th>RoofStyle_Mansard</th>\n",
       "      <td>1.600488e-06</td>\n",
       "    </tr>\n",
       "    <tr>\n",
       "      <th>MSSubClass_180</th>\n",
       "      <td>1.301811e-06</td>\n",
       "    </tr>\n",
       "    <tr>\n",
       "      <th>RoofStyle_Shed</th>\n",
       "      <td>1.249522e-06</td>\n",
       "    </tr>\n",
       "    <tr>\n",
       "      <th>Exterior1st_CBlock</th>\n",
       "      <td>6.484530e-07</td>\n",
       "    </tr>\n",
       "    <tr>\n",
       "      <th>Neighborhood_Blueste</th>\n",
       "      <td>2.288870e-07</td>\n",
       "    </tr>\n",
       "    <tr>\n",
       "      <th>MiscFeature_Othr</th>\n",
       "      <td>2.272056e-07</td>\n",
       "    </tr>\n",
       "    <tr>\n",
       "      <th>Exterior2nd_CBlock</th>\n",
       "      <td>2.070161e-08</td>\n",
       "    </tr>\n",
       "  </tbody>\n",
       "</table>\n",
       "<p>217 rows × 1 columns</p>\n",
       "</div>"
      ],
      "text/plain": [
       "                         Importance\n",
       "OverallQual            5.516378e-01\n",
       "GrLivArea              9.169370e-02\n",
       "Bath                   4.467294e-02\n",
       "TotalBsmtSF            4.240544e-02\n",
       "GarageCars             3.309667e-02\n",
       "GarageArea             3.121596e-02\n",
       "1stFlrSF               2.537222e-02\n",
       "BsmtFinSF1             1.679240e-02\n",
       "LotArea                1.234682e-02\n",
       "YearBuilt              1.077533e-02\n",
       "OverallCond            1.065400e-02\n",
       "CentralAir_N           6.923627e-03\n",
       "YearRemodAdd           6.499920e-03\n",
       "Fireplaces             5.749308e-03\n",
       "CentralAir_Y           5.721059e-03\n",
       "BsmtQual               5.249112e-03\n",
       "LotFrontage            4.943507e-03\n",
       "BsmtUnfSF              4.233514e-03\n",
       "2ndFlrSF               4.179904e-03\n",
       "GarageType_Detchd      3.844814e-03\n",
       "GarageYrBlt            3.683821e-03\n",
       "MSZoning_C (all)       3.668811e-03\n",
       "OpenPorchSF            3.452290e-03\n",
       "TotRmsAbvGrd           3.241424e-03\n",
       "MasVnrArea             2.913128e-03\n",
       "MSZoning_RM            2.860261e-03\n",
       "KitchenQual            2.710845e-03\n",
       "WoodDeckSF             2.591195e-03\n",
       "MoSold                 2.557975e-03\n",
       "GarageType_Attchd      2.477249e-03\n",
       "...                             ...\n",
       "Condition1_PosA        1.325261e-05\n",
       "MSSubClass_85          1.309190e-05\n",
       "Electrical_FuseP       1.182891e-05\n",
       "Neighborhood_NPkVill   1.162370e-05\n",
       "GarageType_2Types      1.126737e-05\n",
       "Neighborhood_Blmngtn   1.078100e-05\n",
       "Exterior1st_AsphShn    1.063637e-05\n",
       "Exterior2nd_ImStucc    9.987652e-06\n",
       "Exterior2nd_Stone      9.644218e-06\n",
       "SaleType_ConLw         9.315169e-06\n",
       "MSSubClass_45          8.995826e-06\n",
       "LotShape_IR3           8.807428e-06\n",
       "SaleType_CWD           7.722723e-06\n",
       "SaleType_Con           5.672831e-06\n",
       "Fence_MnWw             5.540790e-06\n",
       "SaleType_Oth           4.440968e-06\n",
       "SaleCondition_AdjLand  2.783923e-06\n",
       "Foundation_Wood        2.693245e-06\n",
       "Condition1_RRNn        2.557021e-06\n",
       "Foundation_Stone       2.184433e-06\n",
       "Condition1_RRNe        1.949932e-06\n",
       "MiscFeature_Gar2       1.906390e-06\n",
       "SaleType_ConLI         1.756225e-06\n",
       "RoofStyle_Mansard      1.600488e-06\n",
       "MSSubClass_180         1.301811e-06\n",
       "RoofStyle_Shed         1.249522e-06\n",
       "Exterior1st_CBlock     6.484530e-07\n",
       "Neighborhood_Blueste   2.288870e-07\n",
       "MiscFeature_Othr       2.272056e-07\n",
       "Exterior2nd_CBlock     2.070161e-08\n",
       "\n",
       "[217 rows x 1 columns]"
      ]
     },
     "execution_count": 281,
     "metadata": {},
     "output_type": "execute_result"
    }
   ],
   "source": [
    "X = train.drop('SalePrice', axis=1)\n",
    "imp = pd.DataFrame(rfg.feature_importances_ ,columns = ['Importance'],index = X.columns)\n",
    "imp = imp.sort_values(['Importance'], ascending = False)\n",
    "imp"
   ]
  },
  {
   "cell_type": "code",
   "execution_count": 359,
   "metadata": {
    "collapsed": false
   },
   "outputs": [],
   "source": [
    "from sklearn.model_selection import train_test_split\n",
    "from sklearn.metrics import mean_squared_error\n",
    "\n",
    "xgb = XGBRegressor(learning_rate=0.05,n_estimators=500,max_depth=3,colsample_bytree=0.4)\n",
    "\n",
    "X_tr, X_cv, y_tr, y_cv = train_test_split(X, y, test_size=0.3, random_state = 99)\n",
    "\n",
    "rms_cv = []\n",
    "best_rmse = 100\n",
    "target_features = ()\n",
    "\n",
    "for i in range(10, len(imp)):\n",
    "    keep = imp.iloc[0:i].index.values\n",
    "    X_tr_tmp = X_tr[keep]\n",
    "    X_cv_tmp = X_cv[keep]\n",
    "    \n",
    "    xgb.fit(X_tr_tmp, y_tr)\n",
    "    y_pred = xgb.predict(X_cv_tmp)\n",
    "    \n",
    "    rms = mean_squared_error(y_cv, y_pred)**0.5\n",
    "    rms_cv += [rms]\n",
    "    if rms < best_rmse:\n",
    "        target_features = (i, rms)\n",
    "        best_rmse = rms\n"
   ]
  },
  {
   "cell_type": "code",
   "execution_count": 374,
   "metadata": {
    "collapsed": false
   },
   "outputs": [
    {
     "name": "stdout",
     "output_type": "stream",
     "text": [
      "Global minimum error is 0.11561834537021001 when 70 features be Selected\n"
     ]
    },
    {
     "data": {
      "image/png": "[encoded data removed]",
      "text/plain": [
       "<matplotlib.figure.Figure at 0x7f57dae82320>"
      ]
     },
     "metadata": {},
     "output_type": "display_data"
    }
   ],
   "source": [
    "plt.plot(range(10, len(imp)), rms_cv)\n",
    "plt.xlabel('# of features')\n",
    "plt.ylabel('RMSE')\n",
    "print('Global minimum error is {} when {} features be Selected'.format(target_features[1], target_features[0]))"
   ]
  },
  {
   "cell_type": "code",
   "execution_count": 382,
   "metadata": {
    "collapsed": false
   },
   "outputs": [],
   "source": [
    "selected = imp.iloc[0:140].index.values"
   ]
  },
  {
   "cell_type": "code",
   "execution_count": 383,
   "metadata": {
    "collapsed": false
   },
   "outputs": [
    {
     "name": "stdout",
     "output_type": "stream",
     "text": [
      "CV score is: 0.925296691709\n"
     ]
    }
   ],
   "source": [
    "xgb = XGBRegressor(learning_rate=0.05,n_estimators=500,max_depth=3,colsample_bytree=0.4)\n",
    "accuracies = cross_val_score(estimator = xgb, X = X[selected], y = y, cv = 10, n_jobs=-1)\n",
    "print('CV score is:', accuracies.mean())"
   ]
  },
  {
   "cell_type": "markdown",
   "metadata": {},
   "source": [
    "## Ensemble!"
   ]
  },
  {
   "cell_type": "code",
   "execution_count": 384,
   "metadata": {
    "collapsed": true
   },
   "outputs": [],
   "source": [
    "train, test = preScoreTest(train_out, test_out)\n",
    "X = train.drop('SalePrice', axis=1)\n",
    "y = train['SalePrice']"
   ]
  },
  {
   "cell_type": "code",
   "execution_count": null,
   "metadata": {
    "collapsed": true
   },
   "outputs": [],
   "source": [
    "def Ensemble(estimator):\n",
    "    result = {}\n",
    "    for est in estimator:\n",
    "        accuracies = cross_val_score(estimator = xgb, X = X, y = y, cv = 10, n_jobs=-1)\n",
    "        est.fit(X, y)\n",
    "        y_pred = np.expm1(est.predict(test))\n",
    "        name = est.__class__.__name__\n",
    "        "
   ]
  },
  {
   "cell_type": "code",
   "execution_count": 385,
   "metadata": {
    "collapsed": false
   },
   "outputs": [
    {
     "name": "stdout",
     "output_type": "stream",
     "text": [
      "CV score is: 0.926510794827\n"
     ]
    }
   ],
   "source": [
    "xgb = XGBRegressor(learning_rate=0.05,n_estimators=500,max_depth=3,colsample_bytree=0.4)\n",
    "accuracies = cross_val_score(estimator = xgb, X = train.drop('SalePrice', axis=1), y = train['SalePrice'], cv = 10, n_jobs=-1)\n",
    "print('CV score is:', accuracies.mean())\n",
    "xgb.fit(train.drop(X, y)\n",
    "y_pred_xgb = np.expm1(xgb.predict(test))"
   ]
  },
  {
   "cell_type": "code",
   "execution_count": 394,
   "metadata": {
    "collapsed": false
   },
   "outputs": [
    {
     "data": {
      "text/plain": [
       "'XGBRegressor'"
      ]
     },
     "execution_count": 394,
     "metadata": {},
     "output_type": "execute_result"
    }
   ],
   "source": [
    "xgb.__class__.__name__"
   ]
  },
  {
   "cell_type": "code",
   "execution_count": 386,
   "metadata": {
    "collapsed": false
   },
   "outputs": [
    {
     "data": {
      "text/plain": [
       "array([ 125760.28125  ,  170265.515625 ,  192845.375    , ...,\n",
       "        166465.0625   ,  125658.8515625,  233030.671875 ], dtype=float32)"
      ]
     },
     "execution_count": 386,
     "metadata": {},
     "output_type": "execute_result"
    }
   ],
   "source": [
    "y_pred_xgb"
   ]
  },
  {
   "cell_type": "code",
   "execution_count": 387,
   "metadata": {
    "collapsed": false
   },
   "outputs": [
    {
     "name": "stdout",
     "output_type": "stream",
     "text": [
      "CV score is: 0.924726636148\n"
     ]
    }
   ],
   "source": [
    "from sklearn.linear_model import Ridge\n",
    "reg = Ridge(alpha=10)\n",
    "accuracies = cross_val_score(estimator = reg, X = X, y = y, cv = 5, n_jobs=-1)\n",
    "print('CV score is:', accuracies.mean())\n",
    "reg.fit(X, y)\n",
    "y_pred_reg = reg.predict(test)"
   ]
  },
  {
   "cell_type": "code",
   "execution_count": 388,
   "metadata": {
    "collapsed": false
   },
   "outputs": [
    {
     "data": {
      "text/plain": [
       "array([ 11.73862733,  11.93195043,  12.10656009, ...,  12.00996545,\n",
       "        11.72620727,  12.35861444])"
      ]
     },
     "execution_count": 388,
     "metadata": {},
     "output_type": "execute_result"
    }
   ],
   "source": []
  }
 ],
 "metadata": {
  "kernelspec": {
   "display_name": "Python 3",
   "language": "python",
   "name": "python3"
  },
  "language_info": {
   "codemirror_mode": {
    "name": "ipython",
    "version": 3
   },
   "file_extension": ".py",
   "mimetype": "text/x-python",
   "name": "python",
   "nbconvert_exporter": "python",
   "pygments_lexer": "ipython3",
   "version": "3.6.0"
  }
 },
 "nbformat": 4,
 "nbformat_minor": 2
}
